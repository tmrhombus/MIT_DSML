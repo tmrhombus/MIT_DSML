{
 "cells": [
  {
   "cell_type": "markdown",
   "id": "SI-UTK72liGf",
   "metadata": {
    "id": "SI-UTK72liGf"
   },
   "source": [
    "## **Variables**"
   ]
  },
  {
   "cell_type": "markdown",
   "id": "jq0SCsvKDBwU",
   "metadata": {
    "id": "jq0SCsvKDBwU"
   },
   "source": [
    "* Variables are used to store data of different types in python."
   ]
  },
  {
   "cell_type": "code",
   "execution_count": 1,
   "id": "rctSOQpFDSrt",
   "metadata": {
    "colab": {
     "base_uri": "https://localhost:8080/"
    },
    "id": "rctSOQpFDSrt",
    "outputId": "b5b87cfb-ea6a-4c82-d957-6f57b3a36c74"
   },
   "outputs": [
    {
     "name": "stdout",
     "output_type": "stream",
     "text": [
      "Initial order: 20\n",
      "Updated order: 30\n"
     ]
    }
   ],
   "source": [
    "# Variable declaration\n",
    "order_init = 20\n",
    "print('Initial order:', order_init)\n",
    "\n",
    "# updating the variable\n",
    "order_upd = order_init + 10\n",
    "print('Updated order:', order_upd)"
   ]
  },
  {
   "cell_type": "markdown",
   "id": "82tp_wir73Kp",
   "metadata": {
    "id": "82tp_wir73Kp"
   },
   "source": [
    "* In the above cell, 'order_init' is a variable of string data type.\n",
    "* 'order_init' and 'order_upd' above are of integer (int) type."
   ]
  },
  {
   "cell_type": "markdown",
   "id": "lvHJl-AerxcN",
   "metadata": {
    "id": "lvHJl-AerxcN"
   },
   "source": [
    "## **Operators**"
   ]
  },
  {
   "cell_type": "markdown",
   "id": "cJCALvit0P5i",
   "metadata": {
    "id": "cJCALvit0P5i"
   },
   "source": [
    "* Operators are special symbols that are used to show the relationship between certain variables."
   ]
  },
  {
   "cell_type": "markdown",
   "id": "CG_0WTvhl0CG",
   "metadata": {
    "id": "CG_0WTvhl0CG"
   },
   "source": [
    "#### **Arithmetic operators**\n",
    "* This includes addition, subtraction, multiplication and division."
   ]
  },
  {
   "cell_type": "code",
   "execution_count": 2,
   "id": "QXqg0q4lE97Z",
   "metadata": {
    "colab": {
     "base_uri": "https://localhost:8080/"
    },
    "id": "QXqg0q4lE97Z",
    "outputId": "b15ceedf-838e-49d6-a8fb-9281c93c9c3f"
   },
   "outputs": [
    {
     "name": "stdout",
     "output_type": "stream",
     "text": [
      "Total Order Amount: 4515.0\n"
     ]
    }
   ],
   "source": [
    "# Multiplication of variables.\n",
    "quantity = 30\n",
    "unit_price = 150.50\n",
    "\n",
    "total_amnt = quantity*unit_price\n",
    "\n",
    "print('Total Order Amount:', total_amnt)"
   ]
  },
  {
   "cell_type": "markdown",
   "id": "EHRRIqjYsdM0",
   "metadata": {
    "id": "EHRRIqjYsdM0"
   },
   "source": [
    "#### **Comparison operators**"
   ]
  },
  {
   "cell_type": "markdown",
   "id": "5vkrFD3Gwhy8",
   "metadata": {
    "id": "5vkrFD3Gwhy8"
   },
   "source": [
    "* These operators are used to compare two quantities.\n",
    "* Sample comparison operators are \"==\", \"!=\" etc."
   ]
  },
  {
   "cell_type": "code",
   "execution_count": 3,
   "id": "quarterly-apartment",
   "metadata": {
    "colab": {
     "base_uri": "https://localhost:8080/"
    },
    "id": "quarterly-apartment",
    "outputId": "1ee9521f-8a91-4415-94b0-0a7c825d570a"
   },
   "outputs": [
    {
     "name": "stdout",
     "output_type": "stream",
     "text": [
      "Enter the product: phone\n",
      "You will receive a 20% discount on this product!!\n"
     ]
    }
   ],
   "source": [
    "# Taking the user input\n",
    "product = input('Enter the product: ')\n",
    "\n",
    "# Logical operators\n",
    "if product == 'phone':\n",
    "    print('You will receive a 20% discount on this product!!')\n",
    "elif product == 'chair':\n",
    "    print('You will receive a 10% discount on this product!!')\n",
    "else:\n",
    "    print('Sorry! There is no discount on this product.')"
   ]
  },
  {
   "cell_type": "markdown",
   "id": "WErv4vvRs6vU",
   "metadata": {
    "id": "WErv4vvRs6vU"
   },
   "source": [
    "#### **Assignment operators**"
   ]
  },
  {
   "cell_type": "markdown",
   "id": "pGCAY0Wrtq0c",
   "metadata": {
    "id": "pGCAY0Wrtq0c"
   },
   "source": [
    "* These are used to assign a certain value to a variable.\n",
    "* Few of the sample assignment operators are \"=\",\"+=\" etc"
   ]
  },
  {
   "cell_type": "code",
   "execution_count": 4,
   "id": "38nA_0pcJKk0",
   "metadata": {
    "colab": {
     "base_uri": "https://localhost:8080/"
    },
    "id": "38nA_0pcJKk0",
    "outputId": "4a8f3b00-fbab-4053-a0af-375053d9aae8"
   },
   "outputs": [
    {
     "name": "stdout",
     "output_type": "stream",
     "text": [
      "Order IDs:  WOWORD001\n"
     ]
    }
   ],
   "source": [
    "# Here order_id is a variable that is assigned the value \"WOWORD001\".\n",
    "order_id = \"WOWORD001\"\n",
    "\n",
    "print(\"Order IDs: \", order_id)"
   ]
  },
  {
   "cell_type": "markdown",
   "id": "T_L-1aOrmdGe",
   "metadata": {
    "id": "T_L-1aOrmdGe"
   },
   "source": [
    "## **Data structures**"
   ]
  },
  {
   "cell_type": "markdown",
   "id": "SzIkPPLet4tG",
   "metadata": {
    "id": "SzIkPPLet4tG"
   },
   "source": [
    "* Data structures are the way to store and organize data to make it easy to process and operate.\n",
    "* Some of the examples are lists, tuples, dictionary, sets etc.\n",
    "* Let us cover them one by one."
   ]
  },
  {
   "cell_type": "markdown",
   "id": "oWOI0m2xnaDr",
   "metadata": {
    "id": "oWOI0m2xnaDr"
   },
   "source": [
    "#### **Lists**"
   ]
  },
  {
   "cell_type": "markdown",
   "id": "1fqSYv8y81RK",
   "metadata": {
    "id": "1fqSYv8y81RK"
   },
   "source": [
    "* A list is a mutable data structure used to store data."
   ]
  },
  {
   "cell_type": "code",
   "execution_count": 5,
   "id": "s6OcuW9oJrLH",
   "metadata": {
    "colab": {
     "base_uri": "https://localhost:8080/"
    },
    "id": "s6OcuW9oJrLH",
    "outputId": "5d897b89-0fcf-4bfe-e9ef-19732be7088a"
   },
   "outputs": [
    {
     "name": "stdout",
     "output_type": "stream",
     "text": [
      "Order IDs: ['WOWORD001', 'WOWORD002', 'WOWORD003', 'WOWORD004']\n"
     ]
    }
   ],
   "source": [
    "# Lists\n",
    "order_id_list = [\"WOWORD001\", \"WOWORD002\", \"WOWORD003\", \"WOWORD004\"]\n",
    "\n",
    "# let's print the list we just created\n",
    "print('Order IDs:', order_id_list)"
   ]
  },
  {
   "cell_type": "code",
   "execution_count": 6,
   "id": "8A3B8I8tKMul",
   "metadata": {
    "colab": {
     "base_uri": "https://localhost:8080/"
    },
    "id": "8A3B8I8tKMul",
    "outputId": "8b893eab-0370-495f-ed2c-2a282da1ad61"
   },
   "outputs": [
    {
     "name": "stdout",
     "output_type": "stream",
     "text": [
      "Order IDs: ['WOWORD001', 'WOWORD002', 'WOWORD003', 'WOWORD004', 'WOWORD005']\n"
     ]
    }
   ],
   "source": [
    "# The \"append\" method of list.\n",
    "order_id_list.append(\"WOWORD005\")\n",
    "print('Order IDs:', order_id_list)"
   ]
  },
  {
   "cell_type": "markdown",
   "id": "nmcBOZCjMIW3",
   "metadata": {
    "id": "nmcBOZCjMIW3"
   },
   "source": [
    "* The list of order IDs is fixed now.\n",
    "* Let's create lists for the other attributes too."
   ]
  },
  {
   "cell_type": "markdown",
   "id": "6Il4sJ4dnipK",
   "metadata": {
    "id": "6Il4sJ4dnipK"
   },
   "source": [
    "#### **Tuples**"
   ]
  },
  {
   "cell_type": "markdown",
   "id": "zDJX_mlWnvNc",
   "metadata": {
    "id": "zDJX_mlWnvNc"
   },
   "source": [
    "It is an immutable data structure used in python to store and operate on data."
   ]
  },
  {
   "cell_type": "code",
   "execution_count": 7,
   "id": "63mxjssEniLD",
   "metadata": {
    "colab": {
     "base_uri": "https://localhost:8080/"
    },
    "id": "63mxjssEniLD",
    "outputId": "4abfcd8a-24e2-4d68-a738-d4f29fb0cd0d"
   },
   "outputs": [
    {
     "data": {
      "text/plain": [
       "(23, 45, 56, 12)"
      ]
     },
     "execution_count": 7,
     "metadata": {},
     "output_type": "execute_result"
    }
   ],
   "source": [
    "sample_tuple=(23,45,56,12)\n",
    "sample_tuple"
   ]
  },
  {
   "cell_type": "markdown",
   "id": "wVO_OeoOn4Wj",
   "metadata": {
    "id": "wVO_OeoOn4Wj"
   },
   "source": [
    "#### **Dictionaries**"
   ]
  },
  {
   "cell_type": "markdown",
   "id": "1Yt0JXxcoA5E",
   "metadata": {
    "id": "1Yt0JXxcoA5E"
   },
   "source": [
    "* It is a data structure that stores data in key, value pair. \n",
    "* It is created by using the curly bracs {}."
   ]
  },
  {
   "cell_type": "code",
   "execution_count": 8,
   "id": "LYQJxv7moIuL",
   "metadata": {
    "colab": {
     "base_uri": "https://localhost:8080/"
    },
    "id": "LYQJxv7moIuL",
    "outputId": "c88a3f73-7d65-44ef-d135-9893fd11fd0f"
   },
   "outputs": [
    {
     "data": {
      "text/plain": [
       "{'a': 23, 'b': 45}"
      ]
     },
     "execution_count": 8,
     "metadata": {},
     "output_type": "execute_result"
    }
   ],
   "source": [
    "sample_dict = {\"a\":23, \"b\":45}\n",
    "sample_dict"
   ]
  },
  {
   "cell_type": "markdown",
   "id": "lY8TTHGwoO5A",
   "metadata": {
    "id": "lY8TTHGwoO5A"
   },
   "source": [
    "#### **Sets**"
   ]
  },
  {
   "cell_type": "markdown",
   "id": "6mrHdGV3ou_7",
   "metadata": {
    "id": "6mrHdGV3ou_7"
   },
   "source": [
    "* A set is an unordered collection of data type that is mutable, has unique entries and is iterable."
   ]
  },
  {
   "cell_type": "code",
   "execution_count": 9,
   "id": "zKM5KupjxUBI",
   "metadata": {
    "colab": {
     "base_uri": "https://localhost:8080/"
    },
    "id": "zKM5KupjxUBI",
    "outputId": "283766bb-4919-488d-d834-f49940d1180c"
   },
   "outputs": [
    {
     "data": {
      "text/plain": [
       "{3, 4, 5, 6}"
      ]
     },
     "execution_count": 9,
     "metadata": {},
     "output_type": "execute_result"
    }
   ],
   "source": [
    "# Creating the sample set\n",
    "set_a = {3,4,5,6,5}\n",
    "# While calling the set_a it will only show the unique values\n",
    "set_a"
   ]
  },
  {
   "cell_type": "markdown",
   "id": "FsSGTFIEpFz0",
   "metadata": {
    "id": "FsSGTFIEpFz0"
   },
   "source": [
    "## **Loops**"
   ]
  },
  {
   "cell_type": "markdown",
   "id": "Ibg2jWJEpMiI",
   "metadata": {
    "id": "Ibg2jWJEpMiI"
   },
   "source": [
    "* A loop is a sequence of instructions that is repeated until a certain condition is reached.\n",
    "* The For and While loops are two examples of loops. "
   ]
  },
  {
   "cell_type": "code",
   "execution_count": 10,
   "id": "wlZ6fhs4zW2_",
   "metadata": {
    "colab": {
     "base_uri": "https://localhost:8080/"
    },
    "id": "wlZ6fhs4zW2_",
    "outputId": "c4733517-0ed0-46a4-b233-9d84cc70f5d3"
   },
   "outputs": [
    {
     "name": "stdout",
     "output_type": "stream",
     "text": [
      "Product Ordered: Office Supplies\n",
      "Sorry! The product is currently not being shipped.\n",
      "\n",
      "Product Ordered: Others\n",
      "Your order will be shipped at the earliest.\n",
      "\n"
     ]
    }
   ],
   "source": [
    "# Let us cover \"for\" loop here.\n",
    "superstore_data=[\"Office Supplies\",\"Others\"]\n",
    "for i in superstore_data:\n",
    "  print('Product Ordered:', i)\n",
    "  if i == 'Office Supplies':\n",
    "    print('Sorry! The product is currently not being shipped.\\n')\n",
    "  else:\n",
    "    print('Your order will be shipped at the earliest.\\n')"
   ]
  },
  {
   "cell_type": "markdown",
   "id": "JMtKsSqJA3Yj",
   "metadata": {
    "id": "JMtKsSqJA3Yj"
   },
   "source": [
    "## **Context** ##"
   ]
  },
  {
   "cell_type": "markdown",
   "id": "mNt0ZPB0Az3Y",
   "metadata": {
    "id": "mNt0ZPB0Az3Y"
   },
   "source": [
    "**WOW Superstore sells different products like office supplies, furniture and appliances. For each order that is placed, the superstore keeps a record of various attributes related to the product, like state, city, category, subcategory and quantity.**"
   ]
  },
  {
   "cell_type": "markdown",
   "id": "gmYyyobYvnyf",
   "metadata": {
    "id": "gmYyyobYvnyf"
   },
   "source": [
    "## **Statistics** ###"
   ]
  },
  {
   "cell_type": "markdown",
   "id": "26UCqG18x0Zh",
   "metadata": {
    "id": "26UCqG18x0Zh"
   },
   "source": [
    "* We will begin with central tendencies in the stats section.\n",
    "* After this, measure of dispersions and correlation will be covered."
   ]
  },
  {
   "cell_type": "code",
   "execution_count": 11,
   "id": "48a97bd7",
   "metadata": {
    "id": "48a97bd7"
   },
   "outputs": [],
   "source": [
    "import pandas as pd"
   ]
  },
  {
   "cell_type": "code",
   "execution_count": 12,
   "id": "consistent-sugar",
   "metadata": {
    "id": "consistent-sugar",
    "scrolled": true
   },
   "outputs": [],
   "source": [
    "# loading the data file into a pandas dataframe\n",
    "data = pd.read_csv('WOW.csv')"
   ]
  },
  {
   "cell_type": "markdown",
   "id": "authorized-fifth",
   "metadata": {
    "id": "authorized-fifth"
   },
   "source": [
    "**Let's take a quick look at the data.**"
   ]
  },
  {
   "cell_type": "code",
   "execution_count": 13,
   "id": "prostate-browse",
   "metadata": {
    "colab": {
     "base_uri": "https://localhost:8080/",
     "height": 206
    },
    "id": "prostate-browse",
    "outputId": "0321c604-fe01-43ec-863c-cf000bfe264e"
   },
   "outputs": [
    {
     "data": {
      "text/html": [
       "<div>\n",
       "<style scoped>\n",
       "    .dataframe tbody tr th:only-of-type {\n",
       "        vertical-align: middle;\n",
       "    }\n",
       "\n",
       "    .dataframe tbody tr th {\n",
       "        vertical-align: top;\n",
       "    }\n",
       "\n",
       "    .dataframe thead th {\n",
       "        text-align: right;\n",
       "    }\n",
       "</style>\n",
       "<table border=\"1\" class=\"dataframe\">\n",
       "  <thead>\n",
       "    <tr style=\"text-align: right;\">\n",
       "      <th></th>\n",
       "      <th>Order ID</th>\n",
       "      <th>Ship Mode</th>\n",
       "      <th>Segment</th>\n",
       "      <th>City</th>\n",
       "      <th>State</th>\n",
       "      <th>Region</th>\n",
       "      <th>Category</th>\n",
       "      <th>Sub-Category</th>\n",
       "      <th>Sales</th>\n",
       "      <th>Quantity</th>\n",
       "      <th>Discount</th>\n",
       "      <th>Profit</th>\n",
       "    </tr>\n",
       "  </thead>\n",
       "  <tbody>\n",
       "    <tr>\n",
       "      <th>0</th>\n",
       "      <td>WOWID0001</td>\n",
       "      <td>Standard Class</td>\n",
       "      <td>Consumer</td>\n",
       "      <td>Seattle</td>\n",
       "      <td>Washington</td>\n",
       "      <td>West</td>\n",
       "      <td>Office Supplies</td>\n",
       "      <td>Binders</td>\n",
       "      <td>407.976</td>\n",
       "      <td>3</td>\n",
       "      <td>0.2</td>\n",
       "      <td>132.5922</td>\n",
       "    </tr>\n",
       "    <tr>\n",
       "      <th>1</th>\n",
       "      <td>WOWID0002</td>\n",
       "      <td>Standard Class</td>\n",
       "      <td>Home Office</td>\n",
       "      <td>Fort Worth</td>\n",
       "      <td>Texas</td>\n",
       "      <td>Central</td>\n",
       "      <td>Office Supplies</td>\n",
       "      <td>Appliances</td>\n",
       "      <td>68.810</td>\n",
       "      <td>5</td>\n",
       "      <td>0.8</td>\n",
       "      <td>-123.8580</td>\n",
       "    </tr>\n",
       "    <tr>\n",
       "      <th>2</th>\n",
       "      <td>WOWID0003</td>\n",
       "      <td>Standard Class</td>\n",
       "      <td>Home Office</td>\n",
       "      <td>Fort Worth</td>\n",
       "      <td>Texas</td>\n",
       "      <td>Central</td>\n",
       "      <td>Office Supplies</td>\n",
       "      <td>Binders</td>\n",
       "      <td>2.544</td>\n",
       "      <td>3</td>\n",
       "      <td>0.8</td>\n",
       "      <td>-3.8160</td>\n",
       "    </tr>\n",
       "    <tr>\n",
       "      <th>3</th>\n",
       "      <td>WOWID0004</td>\n",
       "      <td>Standard Class</td>\n",
       "      <td>Consumer</td>\n",
       "      <td>Philadelphia</td>\n",
       "      <td>Pennsylvania</td>\n",
       "      <td>East</td>\n",
       "      <td>Furniture</td>\n",
       "      <td>Bookcases</td>\n",
       "      <td>3083.430</td>\n",
       "      <td>7</td>\n",
       "      <td>0.5</td>\n",
       "      <td>-1665.0522</td>\n",
       "    </tr>\n",
       "    <tr>\n",
       "      <th>4</th>\n",
       "      <td>WOWID0005</td>\n",
       "      <td>Standard Class</td>\n",
       "      <td>Consumer</td>\n",
       "      <td>Philadelphia</td>\n",
       "      <td>Pennsylvania</td>\n",
       "      <td>East</td>\n",
       "      <td>Office Supplies</td>\n",
       "      <td>Binders</td>\n",
       "      <td>9.618</td>\n",
       "      <td>2</td>\n",
       "      <td>0.7</td>\n",
       "      <td>-7.0532</td>\n",
       "    </tr>\n",
       "  </tbody>\n",
       "</table>\n",
       "</div>"
      ],
      "text/plain": [
       "    Order ID       Ship Mode      Segment          City         State  \\\n",
       "0  WOWID0001  Standard Class     Consumer       Seattle    Washington   \n",
       "1  WOWID0002  Standard Class  Home Office    Fort Worth         Texas   \n",
       "2  WOWID0003  Standard Class  Home Office    Fort Worth         Texas   \n",
       "3  WOWID0004  Standard Class     Consumer  Philadelphia  Pennsylvania   \n",
       "4  WOWID0005  Standard Class     Consumer  Philadelphia  Pennsylvania   \n",
       "\n",
       "    Region         Category Sub-Category     Sales  Quantity  Discount  \\\n",
       "0     West  Office Supplies      Binders   407.976         3       0.2   \n",
       "1  Central  Office Supplies   Appliances    68.810         5       0.8   \n",
       "2  Central  Office Supplies      Binders     2.544         3       0.8   \n",
       "3     East        Furniture    Bookcases  3083.430         7       0.5   \n",
       "4     East  Office Supplies      Binders     9.618         2       0.7   \n",
       "\n",
       "      Profit  \n",
       "0   132.5922  \n",
       "1  -123.8580  \n",
       "2    -3.8160  \n",
       "3 -1665.0522  \n",
       "4    -7.0532  "
      ]
     },
     "execution_count": 13,
     "metadata": {},
     "output_type": "execute_result"
    }
   ],
   "source": [
    "# viewing the first 5 rows of the data\n",
    "data.head()"
   ]
  },
  {
   "cell_type": "code",
   "execution_count": 14,
   "id": "beautiful-austin",
   "metadata": {
    "colab": {
     "base_uri": "https://localhost:8080/",
     "height": 206
    },
    "id": "beautiful-austin",
    "outputId": "9f04ab19-fae0-4403-dd38-2909f4d0f85b"
   },
   "outputs": [
    {
     "data": {
      "text/html": [
       "<div>\n",
       "<style scoped>\n",
       "    .dataframe tbody tr th:only-of-type {\n",
       "        vertical-align: middle;\n",
       "    }\n",
       "\n",
       "    .dataframe tbody tr th {\n",
       "        vertical-align: top;\n",
       "    }\n",
       "\n",
       "    .dataframe thead th {\n",
       "        text-align: right;\n",
       "    }\n",
       "</style>\n",
       "<table border=\"1\" class=\"dataframe\">\n",
       "  <thead>\n",
       "    <tr style=\"text-align: right;\">\n",
       "      <th></th>\n",
       "      <th>Order ID</th>\n",
       "      <th>Ship Mode</th>\n",
       "      <th>Segment</th>\n",
       "      <th>City</th>\n",
       "      <th>State</th>\n",
       "      <th>Region</th>\n",
       "      <th>Category</th>\n",
       "      <th>Sub-Category</th>\n",
       "      <th>Sales</th>\n",
       "      <th>Quantity</th>\n",
       "      <th>Discount</th>\n",
       "      <th>Profit</th>\n",
       "    </tr>\n",
       "  </thead>\n",
       "  <tbody>\n",
       "    <tr>\n",
       "      <th>1945</th>\n",
       "      <td>WOWID1946</td>\n",
       "      <td>Standard Class</td>\n",
       "      <td>Corporate</td>\n",
       "      <td>Philadelphia</td>\n",
       "      <td>Pennsylvania</td>\n",
       "      <td>East</td>\n",
       "      <td>Office Supplies</td>\n",
       "      <td>Paper</td>\n",
       "      <td>3.4240</td>\n",
       "      <td>1</td>\n",
       "      <td>0.20</td>\n",
       "      <td>1.0700</td>\n",
       "    </tr>\n",
       "    <tr>\n",
       "      <th>1946</th>\n",
       "      <td>WOWID1947</td>\n",
       "      <td>Standard Class</td>\n",
       "      <td>Corporate</td>\n",
       "      <td>Philadelphia</td>\n",
       "      <td>Pennsylvania</td>\n",
       "      <td>East</td>\n",
       "      <td>Technology</td>\n",
       "      <td>Accessories</td>\n",
       "      <td>151.2000</td>\n",
       "      <td>3</td>\n",
       "      <td>0.20</td>\n",
       "      <td>32.1300</td>\n",
       "    </tr>\n",
       "    <tr>\n",
       "      <th>1947</th>\n",
       "      <td>WOWID1948</td>\n",
       "      <td>First Class</td>\n",
       "      <td>Home Office</td>\n",
       "      <td>Houston</td>\n",
       "      <td>Texas</td>\n",
       "      <td>Central</td>\n",
       "      <td>Office Supplies</td>\n",
       "      <td>Paper</td>\n",
       "      <td>65.5840</td>\n",
       "      <td>2</td>\n",
       "      <td>0.20</td>\n",
       "      <td>23.7742</td>\n",
       "    </tr>\n",
       "    <tr>\n",
       "      <th>1948</th>\n",
       "      <td>WOWID1949</td>\n",
       "      <td>First Class</td>\n",
       "      <td>Home Office</td>\n",
       "      <td>Houston</td>\n",
       "      <td>Texas</td>\n",
       "      <td>Central</td>\n",
       "      <td>Furniture</td>\n",
       "      <td>Bookcases</td>\n",
       "      <td>383.4656</td>\n",
       "      <td>4</td>\n",
       "      <td>0.32</td>\n",
       "      <td>-67.6704</td>\n",
       "    </tr>\n",
       "    <tr>\n",
       "      <th>1949</th>\n",
       "      <td>WOWID1950</td>\n",
       "      <td>Standard Class</td>\n",
       "      <td>Consumer</td>\n",
       "      <td>Houston</td>\n",
       "      <td>Texas</td>\n",
       "      <td>Central</td>\n",
       "      <td>Office Supplies</td>\n",
       "      <td>Envelopes</td>\n",
       "      <td>99.5680</td>\n",
       "      <td>2</td>\n",
       "      <td>0.20</td>\n",
       "      <td>33.6042</td>\n",
       "    </tr>\n",
       "  </tbody>\n",
       "</table>\n",
       "</div>"
      ],
      "text/plain": [
       "       Order ID       Ship Mode      Segment          City         State  \\\n",
       "1945  WOWID1946  Standard Class    Corporate  Philadelphia  Pennsylvania   \n",
       "1946  WOWID1947  Standard Class    Corporate  Philadelphia  Pennsylvania   \n",
       "1947  WOWID1948     First Class  Home Office       Houston         Texas   \n",
       "1948  WOWID1949     First Class  Home Office       Houston         Texas   \n",
       "1949  WOWID1950  Standard Class     Consumer       Houston         Texas   \n",
       "\n",
       "       Region         Category Sub-Category     Sales  Quantity  Discount  \\\n",
       "1945     East  Office Supplies        Paper    3.4240         1      0.20   \n",
       "1946     East       Technology  Accessories  151.2000         3      0.20   \n",
       "1947  Central  Office Supplies        Paper   65.5840         2      0.20   \n",
       "1948  Central        Furniture    Bookcases  383.4656         4      0.32   \n",
       "1949  Central  Office Supplies    Envelopes   99.5680         2      0.20   \n",
       "\n",
       "       Profit  \n",
       "1945   1.0700  \n",
       "1946  32.1300  \n",
       "1947  23.7742  \n",
       "1948 -67.6704  \n",
       "1949  33.6042  "
      ]
     },
     "execution_count": 14,
     "metadata": {},
     "output_type": "execute_result"
    }
   ],
   "source": [
    "# viewing the last 5 rows of the data\n",
    "data.tail()"
   ]
  },
  {
   "cell_type": "markdown",
   "id": "Nzfz-c4uIeyE",
   "metadata": {
    "id": "Nzfz-c4uIeyE"
   },
   "source": [
    "#### **Mean**\n",
    "* Let us start with the mean of the Sales. \n",
    "* It is the average value of all records in sales.\n",
    "* The mean sales value is 192.3 as shown in the below output."
   ]
  },
  {
   "cell_type": "code",
   "execution_count": 15,
   "id": "sZDfgxbE5sua",
   "metadata": {
    "colab": {
     "base_uri": "https://localhost:8080/"
    },
    "id": "sZDfgxbE5sua",
    "outputId": "1091acf2-1465-4564-997b-99b93da422d4"
   },
   "outputs": [
    {
     "data": {
      "text/plain": [
       "192.30189097435894"
      ]
     },
     "execution_count": 15,
     "metadata": {},
     "output_type": "execute_result"
    }
   ],
   "source": [
    "# Calculate mean of Sales\n",
    "data.Sales.mean()"
   ]
  },
  {
   "cell_type": "markdown",
   "id": "MZepIao7JUgL",
   "metadata": {
    "id": "MZepIao7JUgL"
   },
   "source": [
    "#### **Median**\n",
    "* Median is the value that lies in the middle of the records arranged in either increasing or decreasing order. \n",
    "* Let us find out the median of the Sales."
   ]
  },
  {
   "cell_type": "code",
   "execution_count": 16,
   "id": "Vw4_0SWc6TbW",
   "metadata": {
    "colab": {
     "base_uri": "https://localhost:8080/"
    },
    "id": "Vw4_0SWc6TbW",
    "outputId": "fe1266eb-d5d2-4089-93df-d64eaa2e87f5"
   },
   "outputs": [
    {
     "data": {
      "text/plain": [
       "41.42400000000001"
      ]
     },
     "execution_count": 16,
     "metadata": {},
     "output_type": "execute_result"
    }
   ],
   "source": [
    "# Calculate median of Sales\n",
    "data.Sales.median()"
   ]
  },
  {
   "cell_type": "markdown",
   "id": "h6CvI3yTJiRp",
   "metadata": {
    "id": "h6CvI3yTJiRp"
   },
   "source": [
    "#### **Mode**\n",
    "* Mode is the most frequent value in the given set of records. \n",
    "* In the Sales column let us see the mode."
   ]
  },
  {
   "cell_type": "code",
   "execution_count": 17,
   "id": "X1FHEm8b6abG",
   "metadata": {
    "colab": {
     "base_uri": "https://localhost:8080/"
    },
    "id": "X1FHEm8b6abG",
    "outputId": "3ae2308b-0231-4751-c231-6ea7543405d8"
   },
   "outputs": [
    {
     "data": {
      "text/plain": [
       "0    10.368\n",
       "dtype: float64"
      ]
     },
     "execution_count": 17,
     "metadata": {},
     "output_type": "execute_result"
    }
   ],
   "source": [
    "# Calculate mode of the Sales. It gives the most frequent item of the column.\n",
    "data.Sales.mode()"
   ]
  },
  {
   "cell_type": "markdown",
   "id": "LwAVMWyKJqKh",
   "metadata": {
    "id": "LwAVMWyKJqKh"
   },
   "source": [
    "#### **Range**\n",
    "* It is one of the measures that shows the dispersion of the data points.\n",
    "* Range of a set of numbers is the difference of the maximum and the minimum values in the given set.\n",
    "* A higher range shows high dispersion overall."
   ]
  },
  {
   "cell_type": "code",
   "execution_count": 18,
   "id": "KVStV69v6frB",
   "metadata": {
    "id": "KVStV69v6frB"
   },
   "outputs": [],
   "source": [
    "range=data.Sales.max()-data.Sales.min()"
   ]
  },
  {
   "cell_type": "code",
   "execution_count": 19,
   "id": "JTf4DBzxHHgj",
   "metadata": {
    "id": "JTf4DBzxHHgj"
   },
   "outputs": [],
   "source": [
    "import numpy as np"
   ]
  },
  {
   "cell_type": "markdown",
   "id": "G7vk8eK_J-LS",
   "metadata": {
    "id": "G7vk8eK_J-LS"
   },
   "source": [
    "#### **Variance**\n",
    "* Variance is a dispersion measure in statistics that shows the spread of the records from a fix value. In general mean is taken as to find the spread/variance from.\n",
    "* Let us find the variance of the Sales column in the data."
   ]
  },
  {
   "cell_type": "code",
   "execution_count": 20,
   "id": "1xg2PmNWGkmq",
   "metadata": {
    "colab": {
     "base_uri": "https://localhost:8080/"
    },
    "id": "1xg2PmNWGkmq",
    "outputId": "308dcdd8-75e0-4167-d74c-29b06cf56033"
   },
   "outputs": [
    {
     "data": {
      "text/plain": [
       "292724.7075166729"
      ]
     },
     "execution_count": 20,
     "metadata": {},
     "output_type": "execute_result"
    }
   ],
   "source": [
    "np.var(data.Sales)"
   ]
  },
  {
   "cell_type": "markdown",
   "id": "AEfCbaW3KRhX",
   "metadata": {
    "id": "AEfCbaW3KRhX"
   },
   "source": [
    "#### **Standard Deviation**\n",
    "* Standard deviation also shows the dispersion in the data.\n",
    "* It is in the same unit as the data points.\n",
    "* Let us find the Standard Deviation of the Sales column in the data."
   ]
  },
  {
   "cell_type": "code",
   "execution_count": 21,
   "id": "IuPO3iOQHED8",
   "metadata": {
    "colab": {
     "base_uri": "https://localhost:8080/"
    },
    "id": "IuPO3iOQHED8",
    "outputId": "cbfa563f-a09a-49a8-d8af-27fe6437970b"
   },
   "outputs": [
    {
     "data": {
      "text/plain": [
       "541.0403936090844"
      ]
     },
     "execution_count": 21,
     "metadata": {},
     "output_type": "execute_result"
    }
   ],
   "source": [
    "np.std(data.Sales)"
   ]
  },
  {
   "cell_type": "markdown",
   "id": "jSdOm601NPhi",
   "metadata": {
    "id": "jSdOm601NPhi"
   },
   "source": [
    "#### **Interquartile Range**\n",
    "* Interquartile range is the difference between the third quartile and the first quartile of given records.\n",
    "* It is one of the measures of dispersions of the records, let us compute for Sales."
   ]
  },
  {
   "cell_type": "code",
   "execution_count": 22,
   "id": "hqCG2Uf_HquU",
   "metadata": {
    "colab": {
     "base_uri": "https://localhost:8080/"
    },
    "id": "hqCG2Uf_HquU",
    "outputId": "ea8aaa59-5596-4400-e0bc-2d62143e3442"
   },
   "outputs": [
    {
     "name": "stdout",
     "output_type": "stream",
     "text": [
      "160.496\n"
     ]
    }
   ],
   "source": [
    "# First quartile (Q1)\n",
    "Q1 = np.percentile(data.Sales, 25, interpolation = 'midpoint')\n",
    "  \n",
    "# Third quartile (Q3)\n",
    "Q3 = np.percentile(data.Sales, 75, interpolation = 'midpoint')\n",
    "  \n",
    "# Interquaritle range (IQR)\n",
    "IQR = Q3 - Q1\n",
    "  \n",
    "print(IQR)"
   ]
  },
  {
   "cell_type": "code",
   "execution_count": 23,
   "id": "uJkXNigT-Ycq",
   "metadata": {
    "id": "uJkXNigT-Ycq"
   },
   "outputs": [],
   "source": [
    "import matplotlib.pyplot as plt"
   ]
  },
  {
   "cell_type": "code",
   "execution_count": 24,
   "id": "CcfdwaD5-lT-",
   "metadata": {
    "colab": {
     "base_uri": "https://localhost:8080/",
     "height": 206
    },
    "id": "CcfdwaD5-lT-",
    "outputId": "2c512e39-148c-48c5-9e35-c21ade66fa85"
   },
   "outputs": [
    {
     "data": {
      "text/html": [
       "<div>\n",
       "<style scoped>\n",
       "    .dataframe tbody tr th:only-of-type {\n",
       "        vertical-align: middle;\n",
       "    }\n",
       "\n",
       "    .dataframe tbody tr th {\n",
       "        vertical-align: top;\n",
       "    }\n",
       "\n",
       "    .dataframe thead th {\n",
       "        text-align: right;\n",
       "    }\n",
       "</style>\n",
       "<table border=\"1\" class=\"dataframe\">\n",
       "  <thead>\n",
       "    <tr style=\"text-align: right;\">\n",
       "      <th></th>\n",
       "      <th>Order ID</th>\n",
       "      <th>Ship Mode</th>\n",
       "      <th>Segment</th>\n",
       "      <th>City</th>\n",
       "      <th>State</th>\n",
       "      <th>Region</th>\n",
       "      <th>Category</th>\n",
       "      <th>Sub-Category</th>\n",
       "      <th>Sales</th>\n",
       "      <th>Quantity</th>\n",
       "      <th>Discount</th>\n",
       "      <th>Profit</th>\n",
       "    </tr>\n",
       "  </thead>\n",
       "  <tbody>\n",
       "    <tr>\n",
       "      <th>0</th>\n",
       "      <td>WOWID0001</td>\n",
       "      <td>Standard Class</td>\n",
       "      <td>Consumer</td>\n",
       "      <td>Seattle</td>\n",
       "      <td>Washington</td>\n",
       "      <td>West</td>\n",
       "      <td>Office Supplies</td>\n",
       "      <td>Binders</td>\n",
       "      <td>407.976</td>\n",
       "      <td>3</td>\n",
       "      <td>0.2</td>\n",
       "      <td>132.5922</td>\n",
       "    </tr>\n",
       "    <tr>\n",
       "      <th>1</th>\n",
       "      <td>WOWID0002</td>\n",
       "      <td>Standard Class</td>\n",
       "      <td>Home Office</td>\n",
       "      <td>Fort Worth</td>\n",
       "      <td>Texas</td>\n",
       "      <td>Central</td>\n",
       "      <td>Office Supplies</td>\n",
       "      <td>Appliances</td>\n",
       "      <td>68.810</td>\n",
       "      <td>5</td>\n",
       "      <td>0.8</td>\n",
       "      <td>-123.8580</td>\n",
       "    </tr>\n",
       "    <tr>\n",
       "      <th>2</th>\n",
       "      <td>WOWID0003</td>\n",
       "      <td>Standard Class</td>\n",
       "      <td>Home Office</td>\n",
       "      <td>Fort Worth</td>\n",
       "      <td>Texas</td>\n",
       "      <td>Central</td>\n",
       "      <td>Office Supplies</td>\n",
       "      <td>Binders</td>\n",
       "      <td>2.544</td>\n",
       "      <td>3</td>\n",
       "      <td>0.8</td>\n",
       "      <td>-3.8160</td>\n",
       "    </tr>\n",
       "    <tr>\n",
       "      <th>3</th>\n",
       "      <td>WOWID0004</td>\n",
       "      <td>Standard Class</td>\n",
       "      <td>Consumer</td>\n",
       "      <td>Philadelphia</td>\n",
       "      <td>Pennsylvania</td>\n",
       "      <td>East</td>\n",
       "      <td>Furniture</td>\n",
       "      <td>Bookcases</td>\n",
       "      <td>3083.430</td>\n",
       "      <td>7</td>\n",
       "      <td>0.5</td>\n",
       "      <td>-1665.0522</td>\n",
       "    </tr>\n",
       "    <tr>\n",
       "      <th>4</th>\n",
       "      <td>WOWID0005</td>\n",
       "      <td>Standard Class</td>\n",
       "      <td>Consumer</td>\n",
       "      <td>Philadelphia</td>\n",
       "      <td>Pennsylvania</td>\n",
       "      <td>East</td>\n",
       "      <td>Office Supplies</td>\n",
       "      <td>Binders</td>\n",
       "      <td>9.618</td>\n",
       "      <td>2</td>\n",
       "      <td>0.7</td>\n",
       "      <td>-7.0532</td>\n",
       "    </tr>\n",
       "  </tbody>\n",
       "</table>\n",
       "</div>"
      ],
      "text/plain": [
       "    Order ID       Ship Mode      Segment          City         State  \\\n",
       "0  WOWID0001  Standard Class     Consumer       Seattle    Washington   \n",
       "1  WOWID0002  Standard Class  Home Office    Fort Worth         Texas   \n",
       "2  WOWID0003  Standard Class  Home Office    Fort Worth         Texas   \n",
       "3  WOWID0004  Standard Class     Consumer  Philadelphia  Pennsylvania   \n",
       "4  WOWID0005  Standard Class     Consumer  Philadelphia  Pennsylvania   \n",
       "\n",
       "    Region         Category Sub-Category     Sales  Quantity  Discount  \\\n",
       "0     West  Office Supplies      Binders   407.976         3       0.2   \n",
       "1  Central  Office Supplies   Appliances    68.810         5       0.8   \n",
       "2  Central  Office Supplies      Binders     2.544         3       0.8   \n",
       "3     East        Furniture    Bookcases  3083.430         7       0.5   \n",
       "4     East  Office Supplies      Binders     9.618         2       0.7   \n",
       "\n",
       "      Profit  \n",
       "0   132.5922  \n",
       "1  -123.8580  \n",
       "2    -3.8160  \n",
       "3 -1665.0522  \n",
       "4    -7.0532  "
      ]
     },
     "execution_count": 24,
     "metadata": {},
     "output_type": "execute_result"
    }
   ],
   "source": [
    "data.head()"
   ]
  },
  {
   "cell_type": "code",
   "execution_count": 25,
   "id": "tvoLwMlK-jGh",
   "metadata": {
    "colab": {
     "base_uri": "https://localhost:8080/"
    },
    "id": "tvoLwMlK-jGh",
    "outputId": "935deda2-17a3-4184-eca6-546676b5d5b2"
   },
   "outputs": [
    {
     "data": {
      "text/plain": [
       "Index(['Order ID', 'Ship Mode', 'Segment', 'City', 'State', 'Region',\n",
       "       'Category', 'Sub-Category', 'Sales', 'Quantity', 'Discount', 'Profit'],\n",
       "      dtype='object')"
      ]
     },
     "execution_count": 25,
     "metadata": {},
     "output_type": "execute_result"
    }
   ],
   "source": [
    "data.columns"
   ]
  },
  {
   "cell_type": "markdown",
   "id": "sU0nvnLa_Bmw",
   "metadata": {
    "id": "sU0nvnLa_Bmw"
   },
   "source": [
    "## **Boxplot**"
   ]
  },
  {
   "cell_type": "markdown",
   "id": "PeevhxQZBm71",
   "metadata": {
    "id": "PeevhxQZBm71"
   },
   "source": [
    "* A boxplot is a visual representation of the five point summary of a given set of datapoints.\n",
    "* It includes the minimum, the first quartile, the median, the third quartile and the maximum value in the data."
   ]
  },
  {
   "cell_type": "code",
   "execution_count": 26,
   "id": "TdVOCwew-bn6",
   "metadata": {
    "colab": {
     "base_uri": "https://localhost:8080/",
     "height": 374
    },
    "id": "TdVOCwew-bn6",
    "outputId": "8435f467-3d5a-44a4-c42c-52a5797997ef"
   },
   "outputs": [
    {
     "data": {
      "image/png": "[encoded data removed]",
      "text/plain": [
       "<Figure size 720x432 with 1 Axes>"
      ]
     },
     "metadata": {
      "needs_background": "light"
     },
     "output_type": "display_data"
    }
   ],
   "source": [
    "# A sample boxplot is shown here\n",
    "plt.figure(figsize=(10,6))\n",
    "plt.boxplot(data.Quantity)\n",
    "plt.show()"
   ]
  },
  {
   "cell_type": "markdown",
   "id": "qU3N7E0UNfa2",
   "metadata": {
    "id": "qU3N7E0UNfa2"
   },
   "source": [
    "#### **Correlation**\n",
    "* Correlation is the measure of strength of relationship between two features.\n",
    "* In the current data let us find it for all the numeric features."
   ]
  },
  {
   "cell_type": "code",
   "execution_count": 27,
   "id": "FcdM2hlrHNjB",
   "metadata": {
    "colab": {
     "base_uri": "https://localhost:8080/",
     "height": 175
    },
    "id": "FcdM2hlrHNjB",
    "outputId": "25508d6c-202d-4e96-8e00-c7322e4bf6bc"
   },
   "outputs": [
    {
     "data": {
      "text/html": [
       "<div>\n",
       "<style scoped>\n",
       "    .dataframe tbody tr th:only-of-type {\n",
       "        vertical-align: middle;\n",
       "    }\n",
       "\n",
       "    .dataframe tbody tr th {\n",
       "        vertical-align: top;\n",
       "    }\n",
       "\n",
       "    .dataframe thead th {\n",
       "        text-align: right;\n",
       "    }\n",
       "</style>\n",
       "<table border=\"1\" class=\"dataframe\">\n",
       "  <thead>\n",
       "    <tr style=\"text-align: right;\">\n",
       "      <th></th>\n",
       "      <th>Sales</th>\n",
       "      <th>Quantity</th>\n",
       "      <th>Discount</th>\n",
       "      <th>Profit</th>\n",
       "    </tr>\n",
       "  </thead>\n",
       "  <tbody>\n",
       "    <tr>\n",
       "      <th>Sales</th>\n",
       "      <td>1.000000</td>\n",
       "      <td>0.178864</td>\n",
       "      <td>-0.080111</td>\n",
       "      <td>0.337714</td>\n",
       "    </tr>\n",
       "    <tr>\n",
       "      <th>Quantity</th>\n",
       "      <td>0.178864</td>\n",
       "      <td>1.000000</td>\n",
       "      <td>0.026943</td>\n",
       "      <td>-0.030204</td>\n",
       "    </tr>\n",
       "    <tr>\n",
       "      <th>Discount</th>\n",
       "      <td>-0.080111</td>\n",
       "      <td>0.026943</td>\n",
       "      <td>1.000000</td>\n",
       "      <td>-0.228119</td>\n",
       "    </tr>\n",
       "    <tr>\n",
       "      <th>Profit</th>\n",
       "      <td>0.337714</td>\n",
       "      <td>-0.030204</td>\n",
       "      <td>-0.228119</td>\n",
       "      <td>1.000000</td>\n",
       "    </tr>\n",
       "  </tbody>\n",
       "</table>\n",
       "</div>"
      ],
      "text/plain": [
       "             Sales  Quantity  Discount    Profit\n",
       "Sales     1.000000  0.178864 -0.080111  0.337714\n",
       "Quantity  0.178864  1.000000  0.026943 -0.030204\n",
       "Discount -0.080111  0.026943  1.000000 -0.228119\n",
       "Profit    0.337714 -0.030204 -0.228119  1.000000"
      ]
     },
     "execution_count": 27,
     "metadata": {},
     "output_type": "execute_result"
    }
   ],
   "source": [
    "data.corr()"
   ]
  },
  {
   "cell_type": "markdown",
   "id": "ae1h62IrNw9z",
   "metadata": {
    "id": "ae1h62IrNw9z"
   },
   "source": [
    "* The table above is the pairwise correlation coefficient of variables. \n",
    "* A positive high value shows a strong positive relation between the features and vice versa."
   ]
  },
  {
   "cell_type": "code",
   "execution_count": null,
   "id": "VL1Xa-xCfjPl",
   "metadata": {
    "id": "VL1Xa-xCfjPl"
   },
   "outputs": [],
   "source": []
  },
  {
   "cell_type": "markdown",
   "id": "t4rB-I7pSSYK",
   "metadata": {
    "id": "t4rB-I7pSSYK"
   },
   "source": [
    "* One of the  important python methods for statistical description is the describe method.\n",
    "* Let us see that for the sales column in the data."
   ]
  },
  {
   "cell_type": "code",
   "execution_count": 28,
   "id": "5kJJTXufHatj",
   "metadata": {
    "colab": {
     "base_uri": "https://localhost:8080/",
     "height": 300
    },
    "id": "5kJJTXufHatj",
    "outputId": "9aa32994-107e-4961-97cd-a3547aae681b"
   },
   "outputs": [
    {
     "data": {
      "text/html": [
       "<div>\n",
       "<style scoped>\n",
       "    .dataframe tbody tr th:only-of-type {\n",
       "        vertical-align: middle;\n",
       "    }\n",
       "\n",
       "    .dataframe tbody tr th {\n",
       "        vertical-align: top;\n",
       "    }\n",
       "\n",
       "    .dataframe thead th {\n",
       "        text-align: right;\n",
       "    }\n",
       "</style>\n",
       "<table border=\"1\" class=\"dataframe\">\n",
       "  <thead>\n",
       "    <tr style=\"text-align: right;\">\n",
       "      <th></th>\n",
       "      <th>Sales</th>\n",
       "      <th>Quantity</th>\n",
       "      <th>Discount</th>\n",
       "      <th>Profit</th>\n",
       "    </tr>\n",
       "  </thead>\n",
       "  <tbody>\n",
       "    <tr>\n",
       "      <th>count</th>\n",
       "      <td>1950.000000</td>\n",
       "      <td>1950.000000</td>\n",
       "      <td>1950.000000</td>\n",
       "      <td>1950.000000</td>\n",
       "    </tr>\n",
       "    <tr>\n",
       "      <th>mean</th>\n",
       "      <td>192.301891</td>\n",
       "      <td>3.746154</td>\n",
       "      <td>0.311046</td>\n",
       "      <td>-8.701654</td>\n",
       "    </tr>\n",
       "    <tr>\n",
       "      <th>std</th>\n",
       "      <td>541.179175</td>\n",
       "      <td>2.144994</td>\n",
       "      <td>0.244929</td>\n",
       "      <td>236.981216</td>\n",
       "    </tr>\n",
       "    <tr>\n",
       "      <th>min</th>\n",
       "      <td>0.444000</td>\n",
       "      <td>1.000000</td>\n",
       "      <td>0.000000</td>\n",
       "      <td>-3701.892800</td>\n",
       "    </tr>\n",
       "    <tr>\n",
       "      <th>25%</th>\n",
       "      <td>12.624000</td>\n",
       "      <td>2.000000</td>\n",
       "      <td>0.200000</td>\n",
       "      <td>-12.434725</td>\n",
       "    </tr>\n",
       "    <tr>\n",
       "      <th>50%</th>\n",
       "      <td>41.424000</td>\n",
       "      <td>3.000000</td>\n",
       "      <td>0.200000</td>\n",
       "      <td>1.823600</td>\n",
       "    </tr>\n",
       "    <tr>\n",
       "      <th>75%</th>\n",
       "      <td>173.304000</td>\n",
       "      <td>5.000000</td>\n",
       "      <td>0.400000</td>\n",
       "      <td>10.258850</td>\n",
       "    </tr>\n",
       "    <tr>\n",
       "      <th>max</th>\n",
       "      <td>13999.960000</td>\n",
       "      <td>14.000000</td>\n",
       "      <td>0.800000</td>\n",
       "      <td>6719.980800</td>\n",
       "    </tr>\n",
       "  </tbody>\n",
       "</table>\n",
       "</div>"
      ],
      "text/plain": [
       "              Sales     Quantity     Discount       Profit\n",
       "count   1950.000000  1950.000000  1950.000000  1950.000000\n",
       "mean     192.301891     3.746154     0.311046    -8.701654\n",
       "std      541.179175     2.144994     0.244929   236.981216\n",
       "min        0.444000     1.000000     0.000000 -3701.892800\n",
       "25%       12.624000     2.000000     0.200000   -12.434725\n",
       "50%       41.424000     3.000000     0.200000     1.823600\n",
       "75%      173.304000     5.000000     0.400000    10.258850\n",
       "max    13999.960000    14.000000     0.800000  6719.980800"
      ]
     },
     "execution_count": 28,
     "metadata": {},
     "output_type": "execute_result"
    }
   ],
   "source": [
    "data.describe()"
   ]
  },
  {
   "cell_type": "markdown",
   "id": "PIK31jczyGb9",
   "metadata": {
    "id": "PIK31jczyGb9"
   },
   "source": [
    "* As an ouput we get the count of entries in the variable, the mean value, the standard deviation, minimum value, first, second and the third quartiles and the maximum value."
   ]
  }
 ],
 "metadata": {
  "colab": {
   "collapsed_sections": [],
   "name": "Pre-Engagement Session Notebook.ipynb",
   "provenance": []
  },
  "kernelspec": {
   "display_name": "Python 3",
   "language": "python",
   "name": "python3"
  },
  "language_info": {
   "codemirror_mode": {
    "name": "ipython",
    "version": 3
   },
   "file_extension": ".py",
   "mimetype": "text/x-python",
   "name": "python",
   "nbconvert_exporter": "python",
   "pygments_lexer": "ipython3",
   "version": "3.6.13"
  }
 },
 "nbformat": 4,
 "nbformat_minor": 5
}
