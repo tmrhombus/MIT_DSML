{
 "cells": [
  {
   "cell_type": "markdown",
   "id": "de55ac4d",
   "metadata": {
    "id": "ready-portable"
   },
   "source": [
    "1. **[Introduction to Dictionary](#dictionary)**\n",
    "2. **[Introduction to Sets](#sets)**\n",
    "3. **[Conditional Statement and Loops](#loops)**\n",
    "    - 3.1 - [if statement](#if_statement)\n",
    "    - 3.2 - [if else statement](#if_else)\n",
    "    - 3.3 - [if elif else](#if_elif_else)\n",
    "    - 3.4 - [nested if and if else statement](#nested_if)\n",
    "    - 3.5 - [for loop](#forloop)\n",
    "    - 3.6 - [while loop](#whileloop)\n",
    "    - 3.7 - [break statement](#break_statement)\n",
    "    - 3.8 - [continue statement](#continue_statement)"
   ]
  },
  {
   "cell_type": "markdown",
   "id": "cad52159",
   "metadata": {
    "id": "popular-squad"
   },
   "source": [
    "## **1. Introduction to Dictionary**                "
   ]
  },
  {
   "cell_type": "markdown",
   "id": "4f187292",
   "metadata": {
    "collapsed": true,
    "id": "attached-hamilton"
   },
   "source": [
    "### **General Syntax of Dictionary:**<br>\n",
    "dictionary_name = {&nbsp;key_1: value_1,<br>\n",
    "&nbsp;&nbsp;&nbsp;&nbsp;&nbsp;&nbsp;&nbsp;&nbsp;&nbsp;&nbsp;&nbsp;&nbsp;&nbsp;&nbsp;&nbsp;&nbsp;&nbsp;&nbsp;&nbsp;&nbsp;&nbsp;&nbsp;&nbsp;&nbsp;&nbsp;&nbsp;&nbsp;&nbsp;&nbsp;&nbsp;&nbsp;&nbsp;                   key_2: value_2,<br>\n",
    "&nbsp;&nbsp;&nbsp;&nbsp;&nbsp;&nbsp;&nbsp;&nbsp;&nbsp;&nbsp;&nbsp;&nbsp;&nbsp;&nbsp;&nbsp;&nbsp;&nbsp;&nbsp;&nbsp;&nbsp;&nbsp;&nbsp;&nbsp;&nbsp;&nbsp;&nbsp;&nbsp;&nbsp;&nbsp;&nbsp;&nbsp;&nbsp;                    key_3: value_3,<br>\n",
    "&nbsp;&nbsp;&nbsp;&nbsp;&nbsp;&nbsp;&nbsp;&nbsp;&nbsp;&nbsp;&nbsp;&nbsp;&nbsp;&nbsp;&nbsp;&nbsp;&nbsp;&nbsp;&nbsp;&nbsp;&nbsp;&nbsp;&nbsp;&nbsp;&nbsp;&nbsp;&nbsp;&nbsp;&nbsp;&nbsp;&nbsp;&nbsp;                    }"
   ]
  },
  {
   "cell_type": "markdown",
   "id": "c6c9593b",
   "metadata": {
    "collapsed": true,
    "id": "foreign-hours"
   },
   "source": [
    "### **Create a Dictionary**\n",
    "Separate keys from values with a colon(:), and a pair from another by a comma(,). Put it all in curly braces."
   ]
  },
  {
   "cell_type": "code",
   "execution_count": 1,
   "id": "04167eeb",
   "metadata": {
    "id": "thousand-sherman",
    "outputId": "4e0742eb-ec2c-4fcb-a3a9-eef665e8ca40"
   },
   "outputs": [
    {
     "name": "stdout",
     "output_type": "stream",
     "text": [
      "{'Mia': 83847, 'John': 83837, 'Jill': 94766}\n"
     ]
    }
   ],
   "source": [
    "# Create a dictionary\n",
    "balance = {\n",
    "    \"Mia\" : 83847,\n",
    "    \"John\" : 83837,\n",
    "    \"Jill\" : 94766\n",
    "}\n",
    "print(balance)"
   ]
  },
  {
   "cell_type": "markdown",
   "id": "34b3d836",
   "metadata": {
    "id": "vocal-shirt"
   },
   "source": [
    "### **Accessing Items**\n",
    "You can access the items of a dictionary by referring to its key name, inside square brackets."
   ]
  },
  {
   "cell_type": "code",
   "execution_count": 2,
   "id": "f10491bc",
   "metadata": {
    "id": "attractive-senator",
    "outputId": "f502a0e1-2066-402d-c8de-a254afc9ae78"
   },
   "outputs": [
    {
     "data": {
      "text/plain": [
       "83847"
      ]
     },
     "execution_count": 2,
     "metadata": {},
     "output_type": "execute_result"
    }
   ],
   "source": [
    "# Get the value of \"Mia\" key\n",
    "x = balance[\"Mia\"]\n",
    "x"
   ]
  },
  {
   "cell_type": "markdown",
   "id": "2848727c",
   "metadata": {
    "id": "domestic-enzyme"
   },
   "source": [
    "We can use get method to get the value of \"Mia\" key."
   ]
  },
  {
   "cell_type": "code",
   "execution_count": 3,
   "id": "da1d0a46",
   "metadata": {
    "id": "incomplete-apple",
    "outputId": "88863638-315b-477f-a6a7-a5b724db66fc"
   },
   "outputs": [
    {
     "data": {
      "text/plain": [
       "83847"
      ]
     },
     "execution_count": 3,
     "metadata": {},
     "output_type": "execute_result"
    }
   ],
   "source": [
    "x = balance.get(\"Mia\")\n",
    "x"
   ]
  },
  {
   "cell_type": "markdown",
   "id": "d8c02efe",
   "metadata": {
    "id": "north-applicant"
   },
   "source": [
    "### **Change Values**\n",
    "You can change the value of a specific element by referring to its key name."
   ]
  },
  {
   "cell_type": "code",
   "execution_count": 4,
   "id": "1108ae3e",
   "metadata": {
    "id": "decimal-blackjack",
    "outputId": "ce152557-4b17-46a6-c30b-afd504fae8bf"
   },
   "outputs": [
    {
     "data": {
      "text/plain": [
       "{2015: 34500, 2016: 34300, 2017: 40000}"
      ]
     },
     "execution_count": 4,
     "metadata": {},
     "output_type": "execute_result"
    }
   ],
   "source": [
    "# Create a dictionary\n",
    "year_sales = {\n",
    "  2015: 34500,\n",
    "  2016: 34300,\n",
    "  2017: 40000\n",
    "}\n",
    "\n",
    "year_sales"
   ]
  },
  {
   "cell_type": "code",
   "execution_count": 5,
   "id": "8d450ce9",
   "metadata": {
    "id": "dangerous-russell",
    "outputId": "6c1c275b-404c-4477-ea77-e7b0a026d597"
   },
   "outputs": [
    {
     "data": {
      "text/plain": [
       "{2015: 45000, 2016: 34300, 2017: 40000}"
      ]
     },
     "execution_count": 5,
     "metadata": {},
     "output_type": "execute_result"
    }
   ],
   "source": [
    "# Change the sales figure for 2015\n",
    "year_sales[2015] = 45000\n",
    "\n",
    "year_sales"
   ]
  },
  {
   "cell_type": "markdown",
   "id": "d5fb10c9",
   "metadata": {
    "id": "challenging-wages"
   },
   "source": [
    "### **Dictionary Length**"
   ]
  },
  {
   "cell_type": "code",
   "execution_count": 6,
   "id": "aa19506f",
   "metadata": {
    "id": "cordless-classroom",
    "outputId": "76f6b17f-c08b-4a57-f8ef-4cd2674fc02a"
   },
   "outputs": [
    {
     "name": "stdout",
     "output_type": "stream",
     "text": [
      "3\n"
     ]
    }
   ],
   "source": [
    "# Print the length of dictionary\n",
    "print(len(year_sales))"
   ]
  },
  {
   "cell_type": "markdown",
   "id": "e82e2fdc",
   "metadata": {
    "id": "advanced-award"
   },
   "source": [
    "### **Adding Items**<br>\n",
    "Adding an item to the dictionary is done by using a new index key and assigning a value to it."
   ]
  },
  {
   "cell_type": "code",
   "execution_count": 7,
   "id": "b7d2d957",
   "metadata": {
    "id": "rotary-breed",
    "outputId": "f9596359-e89f-49f7-93a1-633f5e3741f0"
   },
   "outputs": [
    {
     "data": {
      "text/plain": [
       "{2015: 34500, 2016: 34300, 2017: 40000, '2018': 55000}"
      ]
     },
     "execution_count": 7,
     "metadata": {},
     "output_type": "execute_result"
    }
   ],
   "source": [
    "# Create a dictionary\n",
    "year_sales = {\n",
    "  2015: 34500,\n",
    "  2016: 34300,\n",
    "  2017: 40000\n",
    "}\n",
    "\n",
    "year_sales['2018'] = 55000\n",
    "\n",
    "year_sales"
   ]
  },
  {
   "cell_type": "markdown",
   "id": "c25e2b48",
   "metadata": {
    "id": "postal-battery"
   },
   "source": [
    "### **Dictionary Method**"
   ]
  },
  {
   "cell_type": "markdown",
   "id": "cb625c7b",
   "metadata": {
    "id": "enclosed-antibody"
   },
   "source": [
    "**Removing Items**<br>\n",
    "There are several methods to remove items from a dictionary:<br>\n",
    "pop() method<br>\n",
    "popitem() method<br>\n",
    "clear() method<br>\n",
    "del keywords"
   ]
  },
  {
   "cell_type": "markdown",
   "id": "9132ecf2",
   "metadata": {
    "id": "modular-variation"
   },
   "source": [
    "**pop()**<br>\n",
    "The pop() method removes the item with the specified key name."
   ]
  },
  {
   "cell_type": "code",
   "execution_count": 8,
   "id": "a33e92c1",
   "metadata": {
    "id": "metric-roman",
    "outputId": "9ba80a1e-c09c-4336-d7b7-eedd93cd4a19"
   },
   "outputs": [
    {
     "data": {
      "text/plain": [
       "{2016: 34300, 2017: 40000}"
      ]
     },
     "execution_count": 8,
     "metadata": {},
     "output_type": "execute_result"
    }
   ],
   "source": [
    "# Create a dictionary\n",
    "year_sales = {\n",
    "  2015: 34500,\n",
    "  2016: 34300,\n",
    "  2017: 40000\n",
    "}\n",
    "\n",
    "# Remove key from dictionary\n",
    "year_sales.pop(2015)\n",
    "\n",
    "year_sales"
   ]
  },
  {
   "cell_type": "markdown",
   "id": "777aff0f",
   "metadata": {
    "id": "convinced-reaction"
   },
   "source": [
    "**popitem()**<br>\n",
    "The popitem() method removes the last inserted item."
   ]
  },
  {
   "cell_type": "code",
   "execution_count": 9,
   "id": "4c26c72f",
   "metadata": {
    "id": "imperial-welding",
    "outputId": "e29d2264-20da-42b7-be9f-3e9da13c4cd1"
   },
   "outputs": [
    {
     "data": {
      "text/plain": [
       "{2015: 34500, 2016: 34300}"
      ]
     },
     "execution_count": 9,
     "metadata": {},
     "output_type": "execute_result"
    }
   ],
   "source": [
    "# Create a dictionary\n",
    "year_sales = {\n",
    "  2015: 34500,\n",
    "  2016: 34300,\n",
    "  2017: 40000\n",
    "}\n",
    "\n",
    "# Remove last item from the dictionary\n",
    "year_sales.popitem()\n",
    "\n",
    "year_sales"
   ]
  },
  {
   "cell_type": "markdown",
   "id": "fb9fe378",
   "metadata": {
    "id": "nervous-differential"
   },
   "source": [
    "### **del keywords**<br>\n",
    "The del keyword removes the item with the specified key name."
   ]
  },
  {
   "cell_type": "code",
   "execution_count": 10,
   "id": "525a6f68",
   "metadata": {
    "id": "forward-qatar",
    "outputId": "b9eb383a-3032-444b-d755-6221a6179dda"
   },
   "outputs": [
    {
     "data": {
      "text/plain": [
       "{2016: 34300, 2017: 40000}"
      ]
     },
     "execution_count": 10,
     "metadata": {},
     "output_type": "execute_result"
    }
   ],
   "source": [
    "# Create a dictionary\n",
    "year_sales = {\n",
    "  2015: 34500,\n",
    "  2016: 34300,\n",
    "  2017: 40000\n",
    "}\n",
    "\n",
    "# Delete item from the dictionary\n",
    "del year_sales[2015]\n",
    "\n",
    "year_sales"
   ]
  },
  {
   "cell_type": "markdown",
   "id": "a8c619ef",
   "metadata": {
    "id": "sound-short"
   },
   "source": [
    "**clear()**<br>\n",
    "The clear() method empties the dictionary."
   ]
  },
  {
   "cell_type": "code",
   "execution_count": 11,
   "id": "5ed75a10",
   "metadata": {
    "id": "lined-drive",
    "outputId": "eedc1a8c-f3b5-4d75-ba7d-9ca98543d0bb"
   },
   "outputs": [
    {
     "data": {
      "text/plain": [
       "{}"
      ]
     },
     "execution_count": 11,
     "metadata": {},
     "output_type": "execute_result"
    }
   ],
   "source": [
    "# Create a dictionary\n",
    "year_sales = {\n",
    "  2015: 34500,\n",
    "  2016: 34300,\n",
    "  2017: 40000\n",
    "}\n",
    "\n",
    "# Clear the dictionary\n",
    "year_sales.clear()\n",
    "\n",
    "year_sales"
   ]
  },
  {
   "cell_type": "markdown",
   "id": "66cce37a",
   "metadata": {
    "id": "presidential-knock"
   },
   "source": [
    "**Copy()**<br>\n",
    "You cannot copy a dictionary simply by typing dict2 = dict1, because dict2 will only be a reference to dict1, and changes made in dict1 will automatically also be made in dict2.<br>\n",
    "You can use the copy() method to make a copy of the dictionary."
   ]
  },
  {
   "cell_type": "code",
   "execution_count": 12,
   "id": "9a5ea6a9",
   "metadata": {
    "id": "welcome-shooting"
   },
   "outputs": [],
   "source": [
    "# Create a dictionary\n",
    "year_sales1 = {\n",
    "  2015: 34500,\n",
    "  2016: 34300,\n",
    "  2017: 40000\n",
    "}\n",
    "\n",
    "# Make a copy of dictionary\n",
    "copy_dict = year_sales.copy()"
   ]
  },
  {
   "cell_type": "markdown",
   "id": "4fbc35d4",
   "metadata": {
    "id": "muslim-conversion"
   },
   "source": [
    "**sorted()**<br>\n",
    "Return a new sorted list of keys in the dictionary."
   ]
  },
  {
   "cell_type": "code",
   "execution_count": 13,
   "id": "ce923ec3",
   "metadata": {
    "id": "stone-economy",
    "outputId": "56239b55-fa66-4910-e47a-fdad4ff60501"
   },
   "outputs": [
    {
     "data": {
      "text/plain": [
       "[1, 3, 5, 7, 9]"
      ]
     },
     "execution_count": 13,
     "metadata": {},
     "output_type": "execute_result"
    }
   ],
   "source": [
    "Square = {1: 1, 3: 9, 5: 25, 7: 49, 9: 81}\n",
    "sorted(Square)"
   ]
  },
  {
   "cell_type": "markdown",
   "id": "ff11fbda",
   "metadata": {
    "id": "renewable-tours"
   },
   "source": [
    "**update()**<br>\n",
    "We can also add and modify dictionaries by using the dict.update() method."
   ]
  },
  {
   "cell_type": "code",
   "execution_count": 14,
   "id": "c0ecf964",
   "metadata": {
    "id": "divided-contest",
    "outputId": "80360622-3aff-431e-bf66-bad58f4bc466"
   },
   "outputs": [
    {
     "data": {
      "text/plain": [
       "{2015: 34500, 2016: 34300, 2017: 40000, 2018: 30000}"
      ]
     },
     "execution_count": 14,
     "metadata": {},
     "output_type": "execute_result"
    }
   ],
   "source": [
    "# Create a dictionary\n",
    "year_sales = {\n",
    "  2015: 34500,\n",
    "  2016: 34300,\n",
    "  2017: 40000\n",
    "}\n",
    "\n",
    "# Update dictionary\n",
    "year_sales.update({2018:30000})\n",
    "\n",
    "year_sales"
   ]
  },
  {
   "cell_type": "markdown",
   "id": "82d9d383",
   "metadata": {
    "id": "complex-title"
   },
   "source": [
    "## **2. Introduction to Sets**"
   ]
  },
  {
   "cell_type": "markdown",
   "id": "c211fd74",
   "metadata": {
    "id": "optional-paintball"
   },
   "source": [
    "### **Creating Set**\n",
    "In Python sets are written with curly brackets."
   ]
  },
  {
   "cell_type": "code",
   "execution_count": 15,
   "id": "b69e61c6",
   "metadata": {
    "id": "alive-athens",
    "outputId": "791f8155-3f9a-4775-e8e0-963f8e8b1b2e"
   },
   "outputs": [
    {
     "name": "stdout",
     "output_type": "stream",
     "text": [
      "{1, 2, 3, 4}\n"
     ]
    },
    {
     "data": {
      "text/plain": [
       "{1, 2, 3, 4}"
      ]
     },
     "execution_count": 15,
     "metadata": {},
     "output_type": "execute_result"
    }
   ],
   "source": [
    "# Create a set\n",
    "s = {1, 2, 3, 3, 4, 3, 3, 2, 2, 2}\n",
    "print (s)\n",
    "\n",
    "# Create a set\n",
    "set([1, 2, 3, 4, 4, 4])"
   ]
  },
  {
   "cell_type": "markdown",
   "id": "89820bda",
   "metadata": {
    "id": "living-story"
   },
   "source": [
    "Python has the following methods that you can use on sets:<br>\n",
    "add()<br>\n",
    "update()<br>\n",
    "len()<br>\n",
    "remove()<br>\n",
    "pop()<br>"
   ]
  },
  {
   "cell_type": "markdown",
   "id": "d55a04ed",
   "metadata": {
    "id": "urban-armstrong"
   },
   "source": [
    "## **3. Conditional Statement and Loops**"
   ]
  },
  {
   "cell_type": "markdown",
   "id": "be2e9459",
   "metadata": {
    "id": "hazardous-essex"
   },
   "source": [
    "### **3.1 if statement**"
   ]
  },
  {
   "cell_type": "markdown",
   "id": "24c2f13c",
   "metadata": {
    "id": "precious-framework"
   },
   "source": [
    "**syntax:**<br><br>\n",
    "if BOOLEAN EXPRESSION:<br>\n",
    "&nbsp;&nbsp;    STATEMENTS"
   ]
  },
  {
   "cell_type": "markdown",
   "id": "de585e63",
   "metadata": {
    "id": "labeled-optics"
   },
   "source": [
    "**Now, we will see some examples on if statements**"
   ]
  },
  {
   "cell_type": "code",
   "execution_count": 16,
   "id": "5fe2c17b",
   "metadata": {
    "id": "illegal-highlight",
    "outputId": "6623619f-e398-48d6-8e3a-2e4115d859a8"
   },
   "outputs": [
    {
     "name": "stdout",
     "output_type": "stream",
     "text": [
      "Python Tutorial\n"
     ]
    }
   ],
   "source": [
    "# Create a string\n",
    "my_string = 'Python'\n",
    "\n",
    "# Create a list\n",
    "my_list = ['Data Science', 'Machine Learning', 'Artificial Intelligence', 'Python']\n",
    "\n",
    "if my_string in my_list:\n",
    "    print(my_string + ' Tutorial')"
   ]
  },
  {
   "cell_type": "markdown",
   "id": "bfe894b7",
   "metadata": {
    "id": "blond-particle"
   },
   "source": [
    " Test if an item is a member of a list or not."
   ]
  },
  {
   "cell_type": "code",
   "execution_count": 17,
   "id": "a7cba6f3",
   "metadata": {
    "id": "passive-horse",
    "outputId": "f66356ca-275f-4f39-9c47-d9506f7cf2b5"
   },
   "outputs": [
    {
     "name": "stdout",
     "output_type": "stream",
     "text": [
      "right\n"
     ]
    }
   ],
   "source": [
    "languages = ['java', 'python' ,'perl', 'ruby', 'c#']\n",
    "if 'python' in languages:\n",
    "    print('right')"
   ]
  },
  {
   "cell_type": "markdown",
   "id": "6362d675",
   "metadata": {
    "id": "armed-arrow"
   },
   "source": [
    "### 3.2 if else statement"
   ]
  },
  {
   "cell_type": "markdown",
   "id": "277e40f7",
   "metadata": {
    "id": "sweet-binding"
   },
   "source": [
    "**Syntax of if...else**<br><br>\n",
    "if BOOLEAN EXPRESSION:<br>\n",
    "&nbsp;&nbsp;    STATEMENTS_1<br>\n",
    "else:<br>\n",
    "&nbsp;&nbsp;    STATEMENTS_2"
   ]
  },
  {
   "cell_type": "markdown",
   "id": "718c0cee",
   "metadata": {
    "id": "smaller-desktop"
   },
   "source": [
    "#### Let’s see an example of the implementation of the if…else statement."
   ]
  },
  {
   "cell_type": "code",
   "execution_count": 18,
   "id": "cfd8f867",
   "metadata": {
    "id": "beginning-mentor",
    "outputId": "5cdba0c2-4666-45d2-fa2f-2591cc033cda"
   },
   "outputs": [
    {
     "name": "stdout",
     "output_type": "stream",
     "text": [
      "200\n",
      "the value of x different from 500\n"
     ]
    }
   ],
   "source": [
    "# Create a integer\n",
    "x = 200\n",
    "print(x)\n",
    "\n",
    "# Uses the not operator to reverse the result of the logical expression\n",
    "if not x == 500:\n",
    "    print('the value of x different from 500')\n",
    "else:\n",
    "    print('the value of x is equal to 500')"
   ]
  },
  {
   "cell_type": "code",
   "execution_count": 19,
   "id": "88aeb578",
   "metadata": {
    "id": "active-dealing",
    "outputId": "f8821d23-5d94-4558-b747-104b212703e2"
   },
   "outputs": [
    {
     "name": "stdout",
     "output_type": "stream",
     "text": [
      "enter your useridgreatlearning\n",
      "enter your passwordsimplelearning123\n",
      "Succefully logged in!!\n"
     ]
    }
   ],
   "source": [
    "string1 = str(input(\"enter your userid\"))\n",
    "string2 = str(input(\"enter your password\"))\n",
    "\n",
    "if (string1 == \"greatlearning\" and string2 == \"simplelearning123\"):\n",
    "    print(\"Succefully logged in!!\")\n",
    "else :\n",
    "    print(\"Please check your userid and password\")"
   ]
  },
  {
   "cell_type": "markdown",
   "id": "00a86cbf",
   "metadata": {
    "id": "broken-transaction"
   },
   "source": [
    "### **3.3 if elif else**"
   ]
  },
  {
   "cell_type": "markdown",
   "id": "b79d003d",
   "metadata": {
    "id": "artificial-hardwood"
   },
   "source": [
    "**Syntax of if elif else:**<br>\n",
    "if x < y:<br>\n",
    "&nbsp;&nbsp;    STATEMENTS_A<br>\n",
    "elif x > y:<br>\n",
    "&nbsp;&nbsp    STATEMENTS_B<br>\n",
    "else:<br>\n",
    "&nbsp;&nbsp;    STATEMENTS_C"
   ]
  },
  {
   "cell_type": "markdown",
   "id": "b517bbaf",
   "metadata": {
    "id": "female-absolute"
   },
   "source": [
    "**Q. Check whether the given number is greater than 50 or not**"
   ]
  },
  {
   "cell_type": "code",
   "execution_count": 20,
   "id": "edef4c5b",
   "metadata": {
    "id": "figured-dynamics",
    "outputId": "91d98fb2-5de1-4667-e084-b44cc6dcc0ed"
   },
   "outputs": [
    {
     "name": "stdout",
     "output_type": "stream",
     "text": [
      "Number is greater than 50\n"
     ]
    }
   ],
   "source": [
    "num = 100\n",
    "if (num == 0):\n",
    "    print(\"Number is Zero\")\n",
    "elif (num > 5):\n",
    "    print(\"Number is greater than 50\")\n",
    "else:\n",
    "    print(\"Number is smaller than 50\")"
   ]
  },
  {
   "cell_type": "markdown",
   "id": "d4ab7b3f",
   "metadata": {
    "id": "ruled-davis"
   },
   "source": [
    "### **3.4 nested if and if else statement**"
   ]
  },
  {
   "cell_type": "code",
   "execution_count": 21,
   "id": "de66fd1b",
   "metadata": {
    "id": "wrong-polls",
    "outputId": "db1e5576-704b-475b-c3e7-ab2524eb909c"
   },
   "outputs": [
    {
     "name": "stdout",
     "output_type": "stream",
     "text": [
      "Enter a number: 6\n",
      "Positive number\n"
     ]
    }
   ],
   "source": [
    "num = float(input(\"Enter a number: \"))\n",
    "if num >= 0:\n",
    "    if num == 0:\n",
    "        print(\"Zero\")\n",
    "    else:\n",
    "        print(\"Positive number\")\n",
    "else:\n",
    "    print(\"Negative number\")"
   ]
  },
  {
   "cell_type": "markdown",
   "id": "10116965",
   "metadata": {
    "id": "unavailable-encyclopedia"
   },
   "source": [
    "### **3.5 for loop**"
   ]
  },
  {
   "cell_type": "markdown",
   "id": "bb3ce731",
   "metadata": {
    "id": "driven-chess"
   },
   "source": [
    "**Syntax of for loop:**<br>\n",
    "for val in sequence:<br>\n",
    "&nbsp;&nbsp;\tBody of for"
   ]
  },
  {
   "cell_type": "markdown",
   "id": "2f3586ce",
   "metadata": {
    "id": "awful-tamil"
   },
   "source": [
    "**Q. Program to find the sum of all numbers stored in a list**"
   ]
  },
  {
   "cell_type": "code",
   "execution_count": 22,
   "id": "8b52cfe7",
   "metadata": {
    "id": "lesser-compensation",
    "outputId": "321e2b81-6318-4ef7-ecd4-9d41601ae16d"
   },
   "outputs": [
    {
     "name": "stdout",
     "output_type": "stream",
     "text": [
      "The sum is 2068\n"
     ]
    }
   ],
   "source": [
    "# List of numbers\n",
    "numbers = [66, 545, 223, 438, 224, 122, 125, 214, 111]\n",
    "\n",
    "# Variable to store the sum\n",
    "sum = 0\n",
    "\n",
    "# Iterate over the list\n",
    "for val in numbers:\n",
    "    sum = sum+val\n",
    "\n",
    "# Output: The sum is 48\n",
    "print(\"The sum is\", sum)"
   ]
  },
  {
   "cell_type": "markdown",
   "id": "51a916c8",
   "metadata": {
    "id": "statutory-catalog"
   },
   "source": [
    "### **3.6 while loop**"
   ]
  },
  {
   "cell_type": "markdown",
   "id": "97d84d9a",
   "metadata": {
    "id": "clinical-carter"
   },
   "source": [
    "**Syntax of for loop:**<br>\n",
    "while (expression):<br>\n",
    "&nbsp;&nbsp;     statement_1<br>\n",
    "&nbsp;&nbsp;     statement_2<br>\n",
    "    ...."
   ]
  },
  {
   "cell_type": "markdown",
   "id": "fc54f72d",
   "metadata": {
    "id": "random-rescue"
   },
   "source": [
    "**Q. Calculate the sum of the integers from 0 to 9**"
   ]
  },
  {
   "cell_type": "code",
   "execution_count": 23,
   "id": "f7c62bb7",
   "metadata": {
    "id": "mighty-cartoon",
    "outputId": "c803d7ad-302c-4cb9-e27a-0da5e0d28faf"
   },
   "outputs": [
    {
     "name": "stdout",
     "output_type": "stream",
     "text": [
      "The sum of first 9 integers :  45\n"
     ]
    }
   ],
   "source": [
    "a = 0;\n",
    "b = 0\n",
    "while (a < 10):\n",
    "    b = b + a\n",
    "    a = a + 1\n",
    "else :\n",
    "     print('The sum of first 9 integers : ',b)   "
   ]
  },
  {
   "cell_type": "markdown",
   "id": "fadc1b81",
   "metadata": {
    "id": "handmade-salvation"
   },
   "source": [
    "### **3.7 break statement**"
   ]
  },
  {
   "cell_type": "markdown",
   "id": "c91e5906",
   "metadata": {
    "id": "through-clarity"
   },
   "source": [
    "Check whether a numbers entered by the user is negative or not."
   ]
  },
  {
   "cell_type": "code",
   "execution_count": 24,
   "id": "60ff8ff9",
   "metadata": {
    "id": "modified-explorer",
    "outputId": "fa897946-e34d-4e0c-e0fe-7c544007a76c"
   },
   "outputs": [
    {
     "name": "stdout",
     "output_type": "stream",
     "text": [
      "6\n",
      "3\n",
      "7\n",
      "-3\n",
      "Met a negative number -3\n"
     ]
    }
   ],
   "source": [
    "for i in range(5):\n",
    "    a = int(input())\n",
    "    if a < 0:\n",
    "        print('Met a negative number', a)\n",
    "        break\n",
    "else:\n",
    "    print('No negative numbers met')"
   ]
  },
  {
   "cell_type": "markdown",
   "id": "ccf435e9",
   "metadata": {
    "id": "touched-wisconsin"
   },
   "source": [
    "### **3.8 continue statement**"
   ]
  },
  {
   "cell_type": "code",
   "execution_count": 25,
   "id": "5b4eb79f",
   "metadata": {
    "id": "private-zambia",
    "outputId": "dced13bd-a173-48d3-85fb-ddb538804867"
   },
   "outputs": [
    {
     "name": "stdout",
     "output_type": "stream",
     "text": [
      "1 2 3 4 5 7 8 9 10 "
     ]
    }
   ],
   "source": [
    "# Loop from 1 to 10 \n",
    "for i in range(1, 11): \n",
    "    if i == 6: \n",
    "        continue\n",
    "    else: \n",
    "        # Otherwise print the value of i \n",
    "        print(i, end = \" \") "
   ]
  },
  {
   "cell_type": "markdown",
   "id": "a3a712e3",
   "metadata": {
    "id": "younger-norwegian"
   },
   "source": [
    "Use the continue statement in a while loop."
   ]
  },
  {
   "cell_type": "code",
   "execution_count": 26,
   "id": "8652f1f0",
   "metadata": {
    "id": "infinite-attribute",
    "outputId": "de18dcd6-f389-43ec-b865-70d1c25b64c5"
   },
   "outputs": [
    {
     "name": "stdout",
     "output_type": "stream",
     "text": [
      "1\n",
      "2\n",
      "4\n",
      "5\n",
      "6\n",
      "7\n",
      "8\n",
      "9\n"
     ]
    }
   ],
   "source": [
    "i = 0\n",
    "while i < 9:\n",
    "    i += 1\n",
    "    if i == 3:\n",
    "        continue\n",
    "    print(i)"
   ]
  }
 ],
 "metadata": {
  "colab": {
   "collapsed_sections": [
    "optional-paintball",
    "labeled-optics",
    "smaller-desktop",
    "female-absolute",
    "awful-tamil",
    "random-rescue"
   ],
   "name": "Reference Notebook - 03.ipynb",
   "provenance": []
  },
  "kernelspec": {
   "display_name": "Python 3",
   "language": "python",
   "name": "python3"
  },
  "language_info": {
   "codemirror_mode": {
    "name": "ipython",
    "version": 3
   },
   "file_extension": ".py",
   "mimetype": "text/x-python",
   "name": "python",
   "nbconvert_exporter": "python",
   "pygments_lexer": "ipython3",
   "version": "3.6.13"
  }
 },
 "nbformat": 4,
 "nbformat_minor": 5
}
