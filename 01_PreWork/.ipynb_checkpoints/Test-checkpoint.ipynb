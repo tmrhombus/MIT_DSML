{
 "cells": [
  {
   "cell_type": "code",
   "execution_count": 10,
   "id": "ad53bbe0",
   "metadata": {},
   "outputs": [
    {
     "data": {
      "image/png": "[encoded data removed]",
      "text/plain": [
       "<Figure size 432x288 with 1 Axes>"
      ]
     },
     "metadata": {
      "needs_background": "light"
     },
     "output_type": "display_data"
    }
   ],
   "source": [
    "import matplotlib.pyplot as plt \n",
    "import numpy as np\n",
    "import scipy.stats as stats\n",
    "import math\n",
    "\n",
    "mu1 = 50\n",
    "variance1 = 5 \n",
    "sigma1 = math.sqrt(variance1)\n",
    "\n",
    "mu2 = 75\n",
    "variance2 = 25\n",
    "sigma2 = math.sqrt(variance2)\n",
    "\n",
    "x = np.linspace( 25, 130, 300)\n",
    "#x = np.linspace(mu - 3*sigma, mu + 3*sigma, 100)\n",
    "\n",
    "plt.plot(x, stats.norm.pdf(x, mu1, sigma1))\n",
    "plt.plot(x, stats.norm.pdf(x, mu2, sigma2))\n",
    "\n",
    "plt.savefig(\"gaussian.png\", pad_inches=1)\n",
    "\n",
    "plt.show()"
   ]
  },
  {
   "cell_type": "markdown",
   "id": "f6afb3dd",
   "metadata": {},
   "source": [
    "Chebyshev"
   ]
  },
  {
   "cell_type": "code",
   "execution_count": 11,
   "id": "d44e289a",
   "metadata": {},
   "outputs": [
    {
     "name": "stdout",
     "output_type": "stream",
     "text": [
      "0.75\n"
     ]
    }
   ],
   "source": [
    "n = 40\n",
    "mean = 28\n",
    "std = 3\n",
    "k = 2# nr std\n",
    "\n",
    "cby = 1-(1/np.square(k))\n",
    "print(cby)"
   ]
  },
  {
   "cell_type": "code",
   "execution_count": 29,
   "id": "6a07c8b4",
   "metadata": {},
   "outputs": [
    {
     "name": "stdout",
     "output_type": "stream",
     "text": [
      "52.285714285714285\n",
      "25.428571428571427\n",
      "16.59358125226469\n",
      "12.882514648680568\n",
      "7\n"
     ]
    }
   ],
   "source": [
    "data1 = np.array([32, 45, 39, 43, 58, 84, 65])\n",
    "data2 = np.array([17, 20, 23, 7, 24, 49, 38])\n",
    "\n",
    "avg1 = np.mean(data1)\n",
    "avg2 = np.mean(data2)\n",
    "\n",
    "std1 = np.std(data1)\n",
    "std2 = np.std(data2)\n",
    "\n",
    "n = len(data1)\n",
    "print(avg1)\n",
    "print(avg2)\n",
    "print(std1)\n",
    "print(std2)\n",
    "print(n)"
   ]
  },
  {
   "cell_type": "code",
   "execution_count": 23,
   "id": "fa43a0f4",
   "metadata": {},
   "outputs": [
    {
     "name": "stdout",
     "output_type": "stream",
     "text": [
      "1.0238113835415212\n"
     ]
    }
   ],
   "source": [
    "r = ( np.sum( np.dot(data1,data2) ) - n * avg1 * avg2 ) / ( (n-1)*std1*std2  )\n",
    "print(r)"
   ]
  },
  {
   "cell_type": "code",
   "execution_count": 33,
   "id": "bbf3c405",
   "metadata": {},
   "outputs": [
    {
     "name": "stdout",
     "output_type": "stream",
     "text": [
      "0.8775526144641614\n"
     ]
    }
   ],
   "source": [
    "thesum = 0\n",
    "for a,b in zip(data1,data2):\n",
    "    #print(\"a={}, b={}\".format(a,b))\n",
    "    thesum += (a-avg1)*(b-avg2)\n",
    "thesum = thesum / ( (n) * std1 * std2 )\n",
    "print(thesum)"
   ]
  },
  {
   "cell_type": "code",
   "execution_count": 32,
   "id": "794da752",
   "metadata": {},
   "outputs": [
    {
     "name": "stdout",
     "output_type": "stream",
     "text": [
      "[[1.         0.87755261]\n",
      " [0.87755261 1.        ]]\n"
     ]
    }
   ],
   "source": [
    "r2 = np.corrcoef(data1, data2)\n",
    "print(r2)"
   ]
  },
  {
   "cell_type": "code",
   "execution_count": null,
   "id": "8190e05c",
   "metadata": {},
   "outputs": [],
   "source": []
  }
 ],
 "metadata": {
  "kernelspec": {
   "display_name": "Python 3",
   "language": "python",
   "name": "python3"
  },
  "language_info": {
   "codemirror_mode": {
    "name": "ipython",
    "version": 3
   },
   "file_extension": ".py",
   "mimetype": "text/x-python",
   "name": "python",
   "nbconvert_exporter": "python",
   "pygments_lexer": "ipython3",
   "version": "3.6.13"
  }
 },
 "nbformat": 4,
 "nbformat_minor": 5
}
