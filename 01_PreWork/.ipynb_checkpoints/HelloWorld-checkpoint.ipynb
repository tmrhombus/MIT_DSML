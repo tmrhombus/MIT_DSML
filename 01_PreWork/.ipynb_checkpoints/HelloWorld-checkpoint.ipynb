{
 "cells": [
  {
   "cell_type": "markdown",
   "id": "e2616920",
   "metadata": {},
   "source": [
    "Introduction to Python"
   ]
  },
  {
   "cell_type": "markdown",
   "id": "43dd33da-a2f7-49f0-bafe-7e6b90c60b7d",
   "metadata": {},
   "source": [
    "Here's a comment"
   ]
  },
  {
   "cell_type": "code",
   "execution_count": 1,
   "id": "534ee648",
   "metadata": {},
   "outputs": [],
   "source": [
    "_candy = 5"
   ]
  },
  {
   "cell_type": "code",
   "execution_count": 2,
   "id": "38b37cad",
   "metadata": {},
   "outputs": [
    {
     "data": {
      "text/plain": [
       "5"
      ]
     },
     "execution_count": 2,
     "metadata": {},
     "output_type": "execute_result"
    }
   ],
   "source": [
    "_candy"
   ]
  },
  {
   "cell_type": "code",
   "execution_count": 3,
   "id": "a2d14e06",
   "metadata": {},
   "outputs": [
    {
     "ename": "SyntaxError",
     "evalue": "invalid syntax (1014976888.py, line 1)",
     "output_type": "error",
     "traceback": [
      "\u001b[0;36m  Input \u001b[0;32mIn [3]\u001b[0;36m\u001b[0m\n\u001b[0;31m    1st_line = 5\u001b[0m\n\u001b[0m     ^\u001b[0m\n\u001b[0;31mSyntaxError\u001b[0m\u001b[0;31m:\u001b[0m invalid syntax\n"
     ]
    }
   ],
   "source": [
    "1st_line = 5\n"
   ]
  },
  {
   "cell_type": "code",
   "execution_count": 4,
   "id": "dc46e40e",
   "metadata": {},
   "outputs": [
    {
     "data": {
      "text/plain": [
       "'pythonpython'"
      ]
     },
     "execution_count": 4,
     "metadata": {},
     "output_type": "execute_result"
    }
   ],
   "source": [
    "language = 'python'\n",
    "\n",
    "language*2"
   ]
  },
  {
   "cell_type": "code",
   "execution_count": 5,
   "id": "0f821933",
   "metadata": {},
   "outputs": [],
   "source": [
    "str1=\"helloworld\""
   ]
  },
  {
   "cell_type": "code",
   "execution_count": 7,
   "id": "fd74233a",
   "metadata": {},
   "outputs": [
    {
     "data": {
      "text/plain": [
       "'helloworl'"
      ]
     },
     "execution_count": 7,
     "metadata": {},
     "output_type": "execute_result"
    }
   ],
   "source": [
    "str1[:-1]"
   ]
  },
  {
   "cell_type": "code",
   "execution_count": 8,
   "id": "b8ee6399",
   "metadata": {},
   "outputs": [
    {
     "data": {
      "text/plain": [
       "'PythonPython'"
      ]
     },
     "execution_count": 8,
     "metadata": {},
     "output_type": "execute_result"
    }
   ],
   "source": [
    "string = \"Python\"\n",
    "string*2"
   ]
  },
  {
   "cell_type": "code",
   "execution_count": 9,
   "id": "8a660ef5",
   "metadata": {},
   "outputs": [
    {
     "data": {
      "text/plain": [
       "'PythonPython'"
      ]
     },
     "execution_count": 9,
     "metadata": {},
     "output_type": "execute_result"
    }
   ],
   "source": [
    "string = \"Python\"\n",
    "string+string"
   ]
  },
  {
   "cell_type": "code",
   "execution_count": 11,
   "id": "920f480a",
   "metadata": {},
   "outputs": [
    {
     "data": {
      "text/plain": [
       "'B'"
      ]
     },
     "execution_count": 11,
     "metadata": {},
     "output_type": "execute_result"
    }
   ],
   "source": [
    "var=\"ABCD\"\n",
    "var[1]\n"
   ]
  },
  {
   "cell_type": "code",
   "execution_count": 12,
   "id": "0b169355",
   "metadata": {},
   "outputs": [
    {
     "data": {
      "text/plain": [
       "1"
      ]
     },
     "execution_count": 12,
     "metadata": {},
     "output_type": "execute_result"
    }
   ],
   "source": [
    "True + False"
   ]
  },
  {
   "cell_type": "code",
   "execution_count": 13,
   "id": "69277375",
   "metadata": {},
   "outputs": [
    {
     "data": {
      "text/plain": [
       "bool"
      ]
     },
     "execution_count": 13,
     "metadata": {},
     "output_type": "execute_result"
    }
   ],
   "source": [
    "var1 = 10\n",
    "var2 = 88\n",
    "var3 = (var1 > var2)\n",
    "type(var3)"
   ]
  },
  {
   "cell_type": "code",
   "execution_count": 14,
   "id": "dc3ab5ef",
   "metadata": {},
   "outputs": [
    {
     "data": {
      "text/plain": [
       "True"
      ]
     },
     "execution_count": 14,
     "metadata": {},
     "output_type": "execute_result"
    }
   ],
   "source": [
    "5 == 5.0"
   ]
  },
  {
   "cell_type": "code",
   "execution_count": 15,
   "id": "575c35b9",
   "metadata": {},
   "outputs": [
    {
     "name": "stdout",
     "output_type": "stream",
     "text": [
      "15 happy!\n"
     ]
    }
   ],
   "source": [
    "pp = str(int(7 + 8.0))\n",
    "print(pp + \" happy\" + \"!\")"
   ]
  },
  {
   "cell_type": "code",
   "execution_count": 16,
   "id": "0a8b71cd",
   "metadata": {},
   "outputs": [
    {
     "data": {
      "text/plain": [
       "15.0"
      ]
     },
     "execution_count": 16,
     "metadata": {},
     "output_type": "execute_result"
    }
   ],
   "source": [
    "\n",
    "\n",
    "float(\"15\")\n",
    "\n"
   ]
  },
  {
   "cell_type": "code",
   "execution_count": 17,
   "id": "a39ee31e",
   "metadata": {},
   "outputs": [
    {
     "ename": "SyntaxError",
     "evalue": "invalid syntax (3449611317.py, line 1)",
     "output_type": "error",
     "traceback": [
      "\u001b[0;36m  Input \u001b[0;32mIn [17]\u001b[0;36m\u001b[0m\n\u001b[0;31m    print(Hello world)\u001b[0m\n\u001b[0m                ^\u001b[0m\n\u001b[0;31mSyntaxError\u001b[0m\u001b[0;31m:\u001b[0m invalid syntax\n"
     ]
    }
   ],
   "source": [
    "print(Hello world)"
   ]
  },
  {
   "cell_type": "code",
   "execution_count": 18,
   "id": "6dfbf214",
   "metadata": {},
   "outputs": [],
   "source": [
    "a=2\n",
    "# print(a)"
   ]
  },
  {
   "cell_type": "code",
   "execution_count": 19,
   "id": "ca9824e1",
   "metadata": {},
   "outputs": [
    {
     "name": "stdout",
     "output_type": "stream",
     "text": [
      "England\n",
      "South Africa\n",
      "India\n"
     ]
    }
   ],
   "source": [
    "print(\"England\\nSouth Africa\\nIndia\")"
   ]
  },
  {
   "cell_type": "code",
   "execution_count": 25,
   "id": "d7c52479",
   "metadata": {},
   "outputs": [
    {
     "name": "stdout",
     "output_type": "stream",
     "text": [
      "8\n"
     ]
    }
   ],
   "source": [
    "num_1 = 2\n",
    "num_2 = 3\n",
    "print(num_1**num_2)"
   ]
  },
  {
   "cell_type": "code",
   "execution_count": 26,
   "id": "d880a296",
   "metadata": {},
   "outputs": [
    {
     "data": {
      "text/plain": [
       "4"
      ]
     },
     "execution_count": 26,
     "metadata": {},
     "output_type": "execute_result"
    }
   ],
   "source": [
    "( 14 % 2 ) + 4"
   ]
  },
  {
   "cell_type": "code",
   "execution_count": 27,
   "id": "b4bfd24c",
   "metadata": {},
   "outputs": [
    {
     "data": {
      "text/plain": [
       "1"
      ]
     },
     "execution_count": 27,
     "metadata": {},
     "output_type": "execute_result"
    }
   ],
   "source": [
    "(10 % 3)"
   ]
  },
  {
   "cell_type": "code",
   "execution_count": 28,
   "id": "2eb35241",
   "metadata": {},
   "outputs": [
    {
     "data": {
      "text/plain": [
       "True"
      ]
     },
     "execution_count": 28,
     "metadata": {},
     "output_type": "execute_result"
    }
   ],
   "source": [
    "27/2 == 13.5"
   ]
  },
  {
   "cell_type": "code",
   "execution_count": 29,
   "id": "7d3805fa",
   "metadata": {},
   "outputs": [
    {
     "data": {
      "text/plain": [
       "True"
      ]
     },
     "execution_count": 29,
     "metadata": {},
     "output_type": "execute_result"
    }
   ],
   "source": [
    " (4/2 !=2) == False"
   ]
  },
  {
   "cell_type": "code",
   "execution_count": 31,
   "id": "54fe9cf4",
   "metadata": {},
   "outputs": [
    {
     "data": {
      "text/plain": [
       "2"
      ]
     },
     "execution_count": 31,
     "metadata": {},
     "output_type": "execute_result"
    }
   ],
   "source": [
    "A,B,C,D = 21,8,20,5\n",
    "( A % B ) + ( C // B ) - D"
   ]
  },
  {
   "cell_type": "code",
   "execution_count": 33,
   "id": "c934feeb",
   "metadata": {},
   "outputs": [
    {
     "data": {
      "text/plain": [
       "False"
      ]
     },
     "execution_count": 33,
     "metadata": {},
     "output_type": "execute_result"
    }
   ],
   "source": [
    "3%2 > 1 and 4/2 == 2"
   ]
  },
  {
   "cell_type": "code",
   "execution_count": 34,
   "id": "6328dc56",
   "metadata": {},
   "outputs": [
    {
     "data": {
      "text/plain": [
       "True"
      ]
     },
     "execution_count": 34,
     "metadata": {},
     "output_type": "execute_result"
    }
   ],
   "source": [
    "5%2 > 1 or 8/2 != 2"
   ]
  },
  {
   "cell_type": "code",
   "execution_count": 35,
   "id": "889c84c8",
   "metadata": {},
   "outputs": [
    {
     "ename": "SyntaxError",
     "evalue": "invalid syntax (2857157859.py, line 1)",
     "output_type": "error",
     "traceback": [
      "\u001b[0;36m  Input \u001b[0;32mIn [35]\u001b[0;36m\u001b[0m\n\u001b[0;31m    3 == 2 and 1! = 2\u001b[0m\n\u001b[0m                ^\u001b[0m\n\u001b[0;31mSyntaxError\u001b[0m\u001b[0;31m:\u001b[0m invalid syntax\n"
     ]
    }
   ],
   "source": [
    "3 == 2 and 1! = 2"
   ]
  },
  {
   "cell_type": "code",
   "execution_count": 40,
   "id": "02cad7e1",
   "metadata": {},
   "outputs": [],
   "source": [
    "ele = [\"Data Science\", \"Machine Learning\", \"Great Learning\"]"
   ]
  },
  {
   "cell_type": "code",
   "execution_count": 38,
   "id": "882f8981",
   "metadata": {},
   "outputs": [
    {
     "data": {
      "text/plain": [
       "0"
      ]
     },
     "execution_count": 38,
     "metadata": {},
     "output_type": "execute_result"
    }
   ],
   "source": [
    "D = [0 , 1 , 2 , 3 , 0 , 1 , 2 , 3 , 4]\n",
    "D[D[0]]"
   ]
  },
  {
   "cell_type": "code",
   "execution_count": 39,
   "id": "f23eb077",
   "metadata": {},
   "outputs": [
    {
     "data": {
      "text/plain": [
       "'Strawberry'"
      ]
     },
     "execution_count": 39,
     "metadata": {},
     "output_type": "execute_result"
    }
   ],
   "source": [
    "fruits = ['Apple','Oranges','Strawberry']\n",
    "fruits[-1]"
   ]
  },
  {
   "cell_type": "code",
   "execution_count": 41,
   "id": "16960895",
   "metadata": {},
   "outputs": [
    {
     "data": {
      "text/plain": [
       "'Machine Learning'"
      ]
     },
     "execution_count": 41,
     "metadata": {},
     "output_type": "execute_result"
    }
   ],
   "source": [
    "ele[1]"
   ]
  },
  {
   "cell_type": "code",
   "execution_count": 42,
   "id": "589b000b",
   "metadata": {},
   "outputs": [
    {
     "data": {
      "text/plain": [
       "'Machine Learning'"
      ]
     },
     "execution_count": 42,
     "metadata": {},
     "output_type": "execute_result"
    }
   ],
   "source": [
    "ele[-2]"
   ]
  },
  {
   "cell_type": "code",
   "execution_count": 43,
   "id": "0cd7a01f",
   "metadata": {},
   "outputs": [
    {
     "name": "stdout",
     "output_type": "stream",
     "text": [
      "[0, 0, 1, 1, 2, 2, 3, 0]\n"
     ]
    }
   ],
   "source": [
    "D = [0 , 1 , 2 , 3 , 0 , 1 , 2 , 3 , 4]\n",
    "print(D[0:1] + D[:2] + D[1:3] + D[2:4] + D[-5:-4])"
   ]
  },
  {
   "cell_type": "code",
   "execution_count": 44,
   "id": "eb7cd382",
   "metadata": {},
   "outputs": [
    {
     "data": {
      "text/plain": [
       "[34, 'Great', 60.7, True]"
      ]
     },
     "execution_count": 44,
     "metadata": {},
     "output_type": "execute_result"
    }
   ],
   "source": [
    "my_list = [34, \"Great\", 60.7, True, \"Data\"]\n",
    "my_list[:4]"
   ]
  },
  {
   "cell_type": "code",
   "execution_count": 45,
   "id": "8eadad17",
   "metadata": {},
   "outputs": [
    {
     "name": "stdout",
     "output_type": "stream",
     "text": [
      "[0, 1, 2, 3, 4, 'a', 'b', 'c', 'd', 'e']\n"
     ]
    }
   ],
   "source": [
    "a='abcde'\n",
    "b = list(a)\n",
    "c = list(range(len(a)))\n",
    "c.extend(b)\n",
    "print(c)"
   ]
  },
  {
   "cell_type": "code",
   "execution_count": 46,
   "id": "d5fb2a15",
   "metadata": {},
   "outputs": [
    {
     "name": "stdout",
     "output_type": "stream",
     "text": [
      "[0, 1, 2, 3, 4, ['a', 'b', 'c', 'd', 'e']]\n"
     ]
    }
   ],
   "source": [
    "a='abcde'\n",
    "b = list(a)\n",
    "c = list(range(len(a)))\n",
    "c.append(b)\n",
    "print(c)"
   ]
  },
  {
   "cell_type": "code",
   "execution_count": 48,
   "id": "2e86e4f7",
   "metadata": {},
   "outputs": [
    {
     "data": {
      "text/plain": [
       "[34, 'Great', 'Hi', 60.7, True, 'Data']"
      ]
     },
     "execution_count": 48,
     "metadata": {},
     "output_type": "execute_result"
    }
   ],
   "source": [
    "my_list = [34, \"Great\", 60.7, True, \"Data\"]\n",
    "my_list.insert(2, \"Hi\")\n",
    "my_list"
   ]
  },
  {
   "cell_type": "code",
   "execution_count": 49,
   "id": "7132d742",
   "metadata": {},
   "outputs": [
    {
     "data": {
      "text/plain": [
       "[34, 60.7, True, 'Data', 'Great']"
      ]
     },
     "execution_count": 49,
     "metadata": {},
     "output_type": "execute_result"
    }
   ],
   "source": [
    "my_list = [34, \"Great\", 60.7, True, \"Data\", \"Great\"]\n",
    "my_list.remove(\"Great\")\n",
    "my_list"
   ]
  },
  {
   "cell_type": "code",
   "execution_count": 50,
   "id": "018b830f",
   "metadata": {},
   "outputs": [
    {
     "name": "stdout",
     "output_type": "stream",
     "text": [
      "['a', 'b', 'c', 'd', 'f']\n"
     ]
    }
   ],
   "source": [
    "a = ['a','b'] \n",
    "b = ['c','d'] \n",
    "c = 'f' \n",
    "d = list(c)\n",
    "print(a+b+d)"
   ]
  },
  {
   "cell_type": "code",
   "execution_count": 51,
   "id": "ffa9d109",
   "metadata": {},
   "outputs": [
    {
     "data": {
      "text/plain": [
       "5"
      ]
     },
     "execution_count": 51,
     "metadata": {},
     "output_type": "execute_result"
    }
   ],
   "source": [
    "A= (1,2,3,4,5)\n",
    "A[-1]"
   ]
  },
  {
   "cell_type": "code",
   "execution_count": 52,
   "id": "cdac62c1",
   "metadata": {},
   "outputs": [
    {
     "data": {
      "text/plain": [
       "False"
      ]
     },
     "execution_count": 52,
     "metadata": {},
     "output_type": "execute_result"
    }
   ],
   "source": [
    "my_tuple = (\"Hi\", 56, False, 21)\n",
    "my_tuple[-2]"
   ]
  },
  {
   "cell_type": "code",
   "execution_count": 53,
   "id": "f71c7401",
   "metadata": {},
   "outputs": [
    {
     "data": {
      "text/plain": [
       "5"
      ]
     },
     "execution_count": 53,
     "metadata": {},
     "output_type": "execute_result"
    }
   ],
   "source": [
    "X= (1,2,3,4,5)\n",
    "X[X[-2]]"
   ]
  },
  {
   "cell_type": "code",
   "execution_count": 54,
   "id": "f18f3b04",
   "metadata": {},
   "outputs": [
    {
     "name": "stdout",
     "output_type": "stream",
     "text": [
      "4\n"
     ]
    }
   ],
   "source": [
    "a=(1,2,3,4,5)\n",
    "\n",
    "print(a[-2])"
   ]
  },
  {
   "cell_type": "code",
   "execution_count": 55,
   "id": "a82a8bb0",
   "metadata": {},
   "outputs": [
    {
     "name": "stdout",
     "output_type": "stream",
     "text": [
      "(1, 2, [1, 2, 3], 4)\n"
     ]
    }
   ],
   "source": [
    "a=(1, 2, [1,2,4], 4)\n",
    "\n",
    "a[-2][-1]=3\n",
    "\n",
    "print(a)"
   ]
  },
  {
   "cell_type": "code",
   "execution_count": 56,
   "id": "5f2ea829",
   "metadata": {},
   "outputs": [
    {
     "name": "stdout",
     "output_type": "stream",
     "text": [
      "e\n"
     ]
    }
   ],
   "source": [
    "letters = ('a', 'b', 'c', 'd', 'e')\n",
    "index = letters.index('b')\n",
    "print(letters[len(letters) - index])"
   ]
  },
  {
   "cell_type": "code",
   "execution_count": 57,
   "id": "434b472f",
   "metadata": {},
   "outputs": [
    {
     "name": "stdout",
     "output_type": "stream",
     "text": [
      "b\n"
     ]
    }
   ],
   "source": [
    "letters = ('a', 'b', 'c', 'd', 'e')\n",
    "index = letters.count('e')\n",
    "print(letters[index])"
   ]
  },
  {
   "cell_type": "code",
   "execution_count": 58,
   "id": "9ed7c880",
   "metadata": {},
   "outputs": [],
   "source": [
    "my_tuple = (34, \"Great\", 60.7, True, \"Data\", \"Great\")"
   ]
  },
  {
   "cell_type": "code",
   "execution_count": 59,
   "id": "9d48dd51",
   "metadata": {},
   "outputs": [
    {
     "data": {
      "text/plain": [
       "2"
      ]
     },
     "execution_count": 59,
     "metadata": {},
     "output_type": "execute_result"
    }
   ],
   "source": [
    "my_tuple.count(\"Great\")"
   ]
  },
  {
   "cell_type": "code",
   "execution_count": 60,
   "id": "ed133567",
   "metadata": {},
   "outputs": [
    {
     "data": {
      "text/plain": [
       "0"
      ]
     },
     "execution_count": 60,
     "metadata": {},
     "output_type": "execute_result"
    }
   ],
   "source": [
    "my_tuple.index(34)"
   ]
  },
  {
   "cell_type": "code",
   "execution_count": 61,
   "id": "f54ebd79",
   "metadata": {},
   "outputs": [],
   "source": [
    "d={1:2, 3:4}"
   ]
  },
  {
   "cell_type": "code",
   "execution_count": 62,
   "id": "b858954e",
   "metadata": {},
   "outputs": [
    {
     "data": {
      "text/plain": [
       "dict"
      ]
     },
     "execution_count": 62,
     "metadata": {},
     "output_type": "execute_result"
    }
   ],
   "source": [
    "type(d)"
   ]
  },
  {
   "cell_type": "code",
   "execution_count": 63,
   "id": "1023e857",
   "metadata": {},
   "outputs": [
    {
     "name": "stdout",
     "output_type": "stream",
     "text": [
      "{0: [], 1: [1], 2: [2, 2], 3: [3, 3, 3]}\n"
     ]
    }
   ],
   "source": [
    "Dict = { 0 : [], 1 : [1], 2: [2, 2], 3: [3, 3, 3]}\n",
    "print(Dict)"
   ]
  },
  {
   "cell_type": "code",
   "execution_count": 66,
   "id": "6b5a63b9",
   "metadata": {},
   "outputs": [
    {
     "name": "stdout",
     "output_type": "stream",
     "text": [
      "A2\n"
     ]
    }
   ],
   "source": [
    "Dict = {'A1': 'A1','A2': 'A2','A3': {'A1': 'A1','A2': 'A2','A3': 'A3'}}\n",
    "print(Dict['A2'])"
   ]
  },
  {
   "cell_type": "code",
   "execution_count": 67,
   "id": "d10ada31",
   "metadata": {},
   "outputs": [
    {
     "name": "stdout",
     "output_type": "stream",
     "text": [
      "A3\n"
     ]
    }
   ],
   "source": [
    "Dict = {'A1': 'A1','A2': 'A2','A3': {'A1': 'A1','A2': 'A2','A3': 'A3'}}\n",
    "print(Dict['A3']['A3'])"
   ]
  },
  {
   "cell_type": "code",
   "execution_count": 68,
   "id": "3466f568",
   "metadata": {},
   "outputs": [],
   "source": [
    "dict = {\n",
    " \"Name\": \"John\",\n",
    " \"Sex\": \"Male\",\n",
    " \"Age\": 25\n",
    "}"
   ]
  },
  {
   "cell_type": "code",
   "execution_count": 69,
   "id": "a77701e4",
   "metadata": {},
   "outputs": [
    {
     "name": "stdout",
     "output_type": "stream",
     "text": [
      "{'Name': 'John', 'Sex': 'Male', 'Age': 50}\n"
     ]
    }
   ],
   "source": [
    "dict[\"Age\"] = 50\n",
    "print(dict)"
   ]
  },
  {
   "cell_type": "code",
   "execution_count": 70,
   "id": "ca73241b",
   "metadata": {},
   "outputs": [
    {
     "name": "stdout",
     "output_type": "stream",
     "text": [
      "{1: [1], 2: [2, 2, 2], 3: {3: [3, 3, 3, 2]}}\n"
     ]
    }
   ],
   "source": [
    "Dict = {1 : [1], 2 : [2, 2, 2], 3 : {3 :[3, 3, 3, 3]}}\n",
    "Dict[3][3][3] = 2\n",
    "print(Dict)"
   ]
  },
  {
   "cell_type": "code",
   "execution_count": 71,
   "id": "0a4d70cb",
   "metadata": {},
   "outputs": [
    {
     "data": {
      "text/plain": [
       "{1: 'USA', 2: 'Russia', 3: 'Japan', 4: 'China'}"
      ]
     },
     "execution_count": 71,
     "metadata": {},
     "output_type": "execute_result"
    }
   ],
   "source": [
    "data_1 = {1:\"USA\", 2:\"India\", 3:\"Japan\", 4:\"China\"}\n",
    "data_1[2] = \"Russia\"\n",
    "data_1"
   ]
  },
  {
   "cell_type": "code",
   "execution_count": 72,
   "id": "690cd45c",
   "metadata": {},
   "outputs": [
    {
     "data": {
      "text/plain": [
       "2"
      ]
     },
     "execution_count": 72,
     "metadata": {},
     "output_type": "execute_result"
    }
   ],
   "source": [
    "d={ \"Name\": \"John\", \"Sex\": \"Male\"}\n",
    "len(d)"
   ]
  },
  {
   "cell_type": "code",
   "execution_count": null,
   "id": "a785cabe",
   "metadata": {},
   "outputs": [],
   "source": []
  }
 ],
 "metadata": {
  "kernelspec": {
   "display_name": "Python 3",
   "language": "python",
   "name": "python3"
  },
  "language_info": {
   "codemirror_mode": {
    "name": "ipython",
    "version": 3
   },
   "file_extension": ".py",
   "mimetype": "text/x-python",
   "name": "python",
   "nbconvert_exporter": "python",
   "pygments_lexer": "ipython3",
   "version": "3.6.13"
  }
 },
 "nbformat": 4,
 "nbformat_minor": 5
}
