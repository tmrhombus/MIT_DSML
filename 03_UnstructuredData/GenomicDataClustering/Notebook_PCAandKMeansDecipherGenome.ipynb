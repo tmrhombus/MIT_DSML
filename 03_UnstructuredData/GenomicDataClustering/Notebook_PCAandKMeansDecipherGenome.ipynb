{
 "cells": [
  {
   "cell_type": "markdown",
   "metadata": {
    "id": "J2o_zCr-wZEu"
   },
   "source": [
    "# **Genomic Data Clustering**\n",
    "\n",
    "## **Background**\n",
    "\n",
    "The discovery of DNA (Deoxyribonucleic Acid), and the critical role it plays in information storage for all biological beings, was a seminal moment for the biological sciences. All the information that is needed for the functioning of a living cell is encoded in and ultimately derived from the DNA of that cell, and this holds true for all biological organisms on the planet.\n",
    "\n",
    "**DNA can be represented as a text sequence, with an alphabet that only has four letters** - A (Adenosine), C (Cytosine), G (Guanine) and T (Thymine). The diversity of living organisms and their complex properties is hidden in their genomic sequences. One of the most exciting problems in modern science is to understand the organization of living matter by reading genomic sequences. \n",
    "\n",
    "One distinctive message in a genomic sequence is a piece of text, called a gene. Genes can be oriented in the sequence in either the forward or backward directions. In the highest organisms (humans, for example), the notion of a gene is more complex. \n",
    "\n",
    "It was one of the many great discoveries of the Twentieth century, that biological information is encoded in genes by means of **triplets of letters**, **called codons** in the biological literature. \n",
    "\n",
    "In this exercise, we will see that it is possible to **verify the validity of the discovery of three-letter codons**, simply by performing unsupervised machine learning on the genetic sequence.\n",
    "\n",
    "## **Problem Statement**\n",
    "\n",
    "The work starts with a fragment of the genomic sequence of the bacterium **Caulobacter Crescentus**. This sequence is given as a long text file (300 kb), and the task is to look at the file and ensure that the text uses the alphabet of four letters (A, C, G and T), and that these letters are used without spaces. It is noticeable that, although the text seems to be random, it is well organized, but we cannot understand it without special tools. Statistical methods may help us do so.\n",
    "\n",
    "In this case study we accept data from a genome and have the goal of identifying useful genes versus noise. Unfortunately, we don't know which sequences of genes are useful, so we have to use Unsupervised Learning to infer this. \n",
    "\n",
    "In this notebook we walk through the following series of steps:\n",
    "\n",
    "  1. First, the data is imported and prepared. Initially the sequence, a single string, is split into non-overlapping substrings of length 300, and we may then count the combinations of the distinct 1, 2, 3, and 4-length sequences of base pairs which appear in each possible substring.\n",
    "  2. PCA is performed to try to identify the internal structure of the data.\n",
    "  3. Finally, if PCA reveals some internal structure then we'll apply Clustering techniques to the dataset."
   ]
  },
  {
   "cell_type": "markdown",
   "metadata": {
    "id": "8z2Z7-OAs8QG"
   },
   "source": [
    "### **Mounting the Drive for Google Colab**\n",
    "Let us start by mounting the drive and importing the necessary libraries."
   ]
  },
  {
   "cell_type": "code",
   "execution_count": null,
   "metadata": {
    "colab": {
     "base_uri": "https://localhost:8080/"
    },
    "id": "03lDyQUuef7z",
    "outputId": "0f701a19-0dce-4cf0-9e7d-675cfb7f0a8d"
   },
   "outputs": [],
   "source": [
    "# You can uncomment the below code and run the Notebook if it is used in colab\n",
    "# from google.colab import drive\n",
    "# drive.mount('/content/drive')"
   ]
  },
  {
   "cell_type": "markdown",
   "metadata": {
    "id": "M2mq2w4wwZEz"
   },
   "source": [
    "### **Importing the Required Libraries**"
   ]
  },
  {
   "cell_type": "code",
   "execution_count": 1,
   "metadata": {
    "id": "3_OGKpSGwZE0"
   },
   "outputs": [],
   "source": [
    "import pandas as pd\n",
    "import numpy as np\n",
    "from tqdm import tqdm\n",
    "\n",
    "from sklearn.decomposition import PCA\n",
    "from sklearn.cluster import KMeans \n",
    "from sklearn.preprocessing import StandardScaler"
   ]
  },
  {
   "cell_type": "markdown",
   "metadata": {
    "id": "jwoM_YOewZE1"
   },
   "source": [
    "### **Data Preparation**\n"
   ]
  },
  {
   "cell_type": "markdown",
   "metadata": {
    "id": "kK6Ql0f0wZE1"
   },
   "source": [
    "The file format often used for bioinformatics and genomic data is called **FASTA**. It is a normally encoded file with headers separating genetic information. We read the file and strip it of unwanted characters and store it as a string."
   ]
  },
  {
   "cell_type": "code",
   "execution_count": null,
   "metadata": {
    "colab": {
     "base_uri": "https://localhost:8080/"
    },
    "id": "IMdolS6mwZE2",
    "outputId": "dff0eee3-098c-4b18-9aa2-137ae5d35258"
   },
   "outputs": [],
   "source": [
    "# we open the file and get an array of its lines \n",
    "with open (\"ccrescentus.fa\", \"r\") as inputFile:\n",
    "    data = inputFile.readlines()\n",
    "\n",
    "# we concatenate each line from the second (first line is a description), stripped of empty chars \n",
    "geneticCode = ''\n",
    "for line in data[1:]:\n",
    "    geneticCode += line.strip()\n",
    "    \n",
    "# we count the presence of each genome(a,g,t,c)\n",
    "aCount = geneticCode.count('a')\n",
    "gCount = geneticCode.count('g')\n",
    "tCount = geneticCode.count('t')\n",
    "cCount = geneticCode.count('c')\n",
    "\n",
    "# for testing we print a sample of the string and check if there are only wanted characters\n",
    "print(geneticCode[0:30])\n",
    "print('Test: only a,g,t,c ?')\n",
    "print(aCount + gCount + tCount + cCount == len(geneticCode))"
   ]
  },
  {
   "cell_type": "markdown",
   "metadata": {
    "id": "I1h2hADTwZE4"
   },
   "source": [
    "### **Converting Text to a Numerical Table**\n",
    "\n",
    "#### **Creating Frequency Tables**\n",
    "Now we've got a string element containing the sequence. The word is any continuous piece of text that contains several subsequent letters. As there are no spaces in the text, separation into words is not unique. The next step is to separate it into smaller sub-strings and create frequency tables for each x-sized word. We start by separating the string into a number of sub-strings, of a reasonable sample size, to become rows on our table.\n",
    "\n",
    "**What is a \"reasonable size\" for a data point?**\n",
    "\n",
    "Knowing that our string has 30k characters, and that we are checking words with a maximum of 4 - 5 letters, take a size of 300. It generates 1k data points, and allows for 60 5-letter words. It seams reasonable, but do feel free to change it and see the impact. We clip the whole text into fragments of 300 letters 4 in length and calculate the frequencies of short words (of length 1–4) inside every fragment. This will give us a description of the text in the form of a numerical table. There will be four such tables for every short word length choice from 1 to 4. \n",
    "\n",
    "As there are only four letters, there are four possible words of length 1 (singlets), 16 = 4^2 possible words of length 2 (duplets), 64 = 4^3 possible words of length 3 (triplets) and 256 = 4^4 possible words of length 4 (quadruplets). The first table contains four columns (frequency of every singlet) and the number of rows equals the number of fragments. The second table has 16 columns and the same number of rows, and so on. "
   ]
  },
  {
   "cell_type": "code",
   "execution_count": null,
   "metadata": {
    "colab": {
     "base_uri": "https://localhost:8080/"
    },
    "id": "t-RnDkhzwZE5",
    "outputId": "fb672e75-9fba-439a-cfb3-230891f620c2"
   },
   "outputs": [],
   "source": [
    "# size of the sub strings (data points)\n",
    "size = 300\n",
    "\n",
    "dataPoints = []\n",
    "\n",
    "# we copy the entire code into a string, which will removed of its first elements iteratively\n",
    "tempString = geneticCode\n",
    "\n",
    "# we iteratively remove a left chunk of the string and place it into our array\n",
    "while len(tempString) > 0:\n",
    "    dataPoints.append(tempString[0:size])\n",
    "    tempString = tempString[size:]\n",
    "\n",
    "print(dataPoints[0])"
   ]
  },
  {
   "cell_type": "markdown",
   "metadata": {
    "id": "QQvQvSmkwZE6"
   },
   "source": [
    "**Now let's create a list with the combinations of words possible**"
   ]
  },
  {
   "cell_type": "code",
   "execution_count": null,
   "metadata": {
    "colab": {
     "base_uri": "https://localhost:8080/"
    },
    "id": "EyHfBTpLwZE7",
    "outputId": "373d4504-c2ed-42a1-c4c9-861d215e3397"
   },
   "outputs": [],
   "source": [
    "import itertools\n",
    "\n",
    "iterables = ['a','g','t','c']\n",
    "wordsDict =  {}\n",
    "\n",
    "# for words of size 1 to 4, we calculate the cartesian product to get all possibilities\n",
    "for i in range(1,5):\n",
    "    words = []\n",
    "    iterator = itertools.product(iterables, repeat = i)\n",
    "    for word in iterator:\n",
    "        s = ''\n",
    "        for t in word:\n",
    "            s += t\n",
    "        words.append(s)\n",
    "    wordsDict[i] = words\n",
    "\n",
    "# print the dictionary for 3 letter words\n",
    "print(wordsDict[3])"
   ]
  },
  {
   "cell_type": "markdown",
   "metadata": {
    "id": "0g8dCW-kwZE7"
   },
   "source": [
    "Now, we create a dataframe to begin the frequency matrix construction. From there, all that we need to do is to apply the count function for each word, and store it as a new column. We do this for all the 4 sizes of words."
   ]
  },
  {
   "cell_type": "code",
   "execution_count": null,
   "metadata": {
    "colab": {
     "base_uri": "https://localhost:8080/",
     "height": 270
    },
    "id": "cyN7eyqWwZE8",
    "outputId": "0b4f80a2-5e71-4959-d281-37f55236efec"
   },
   "outputs": [],
   "source": [
    "# dictionary that will contain the frequency table for each word size\n",
    "freqTables = {}\n",
    "\n",
    "for i in range(1,5):\n",
    "    # create an empty dataFrame with columns being the words on the dictionary\n",
    "    df = pd.DataFrame(columns = wordsDict[i])\n",
    "    for index, dataP in enumerate(dataPoints):\n",
    "        # we create a row with zero values corresponding to a data point\n",
    "        df.loc[index] = np.zeros(len(wordsDict[i]))\n",
    "        while len(dataP) > 0:\n",
    "            # get the left part of the data point (i characters)\n",
    "            left = dataP[0:i]\n",
    "            # find it in the respective column and count it there\n",
    "            df.loc[index, left] += 1\n",
    "            dataP = dataP[i:]\n",
    "    freqTables[i] = df\n",
    "\n",
    "freqTables[3].head()"
   ]
  },
  {
   "cell_type": "markdown",
   "metadata": {
    "id": "quQBGCeTwZE8"
   },
   "source": [
    "Now, **we have our data in the optimal format to run PCA.**"
   ]
  },
  {
   "cell_type": "markdown",
   "metadata": {
    "id": "ALfvwNqMwZE9"
   },
   "source": [
    "### **Principal Component Analysis**\n",
    "\n",
    "- One reason why we're trying multiple word lengths, is because without additional domain knowledge it is not clear if there are more meaningful units we could work with than individual letters.  \n",
    "- **So we calculate frequency tables to see if certain combinations happen more frequently (and more frequently together), and thus might be meaningful, than others.**\n",
    "- PCA helps us by creating natural clusters where combinations frequently co-occur and in reducing the dimensions also enables us to visualize our dataset in a way that's otherwise not possible."
   ]
  },
  {
   "cell_type": "markdown",
   "metadata": {
    "id": "cbsTz5DxwZE9"
   },
   "source": [
    "- The first step to run PCA is to **standardize the data** across columns.\n",
    "- We do this to have the **same averages and dispersions across the data**, which is an important concept of both PCA and K-means, as they are distance-based algorithms.\n",
    "- The **StandardScaler** package is used to achieve this."
   ]
  },
  {
   "cell_type": "code",
   "execution_count": null,
   "metadata": {
    "colab": {
     "base_uri": "https://localhost:8080/"
    },
    "id": "QgimQ5yAwZE9",
    "outputId": "1b276e12-5a34-4ecb-8f7b-07c27134b7f5"
   },
   "outputs": [],
   "source": [
    "\n",
    "normFreqTables = {}\n",
    "\n",
    "for i in range(1,5):\n",
    "    # we eliminate the string column from the data, leaving only the actual frequencies\n",
    "    data = freqTables[i]\n",
    "    data = StandardScaler(copy=True, with_mean=True, with_std=True).fit_transform(data)\n",
    "    normFreqTables[i] = pd.DataFrame(data, columns = wordsDict[i])\n",
    "\n",
    "# for testing, we check that the average of a column is close to zero and stdev close to 1(i.e. checking for normalization)\n",
    "print(normFreqTables[2].loc[:, 'gt'].mean())\n",
    "print(normFreqTables[2].loc[:, 'gt'].std())"
   ]
  },
  {
   "cell_type": "code",
   "execution_count": null,
   "metadata": {
    "colab": {
     "base_uri": "https://localhost:8080/"
    },
    "id": "DSgvSO20wZE9",
    "outputId": "cd728a34-b650-4c7c-c51d-38a30e0590b9"
   },
   "outputs": [],
   "source": [
    "pca = PCA(n_components = 2)\n",
    "\n",
    "pCompTables = {}\n",
    "\n",
    "for i in range(1,5):\n",
    "    pca.fit(normFreqTables[i])\n",
    "    pComponents = pca.transform(normFreqTables[i])\n",
    "    # for each word size, we store the result of the PCA in a table containing only the 2 princicipal components\n",
    "    pCompTables[i] = pd.DataFrame(pComponents[:, [0,1]], columns = ['pc1', 'pc2'])\n",
    "    print('Explained variance for ' + str(i) + ' letters: ' + str(pca.explained_variance_ratio_.sum()))\n",
    "    \n",
    "print(pCompTables[2].head())"
   ]
  },
  {
   "cell_type": "code",
   "execution_count": null,
   "metadata": {
    "colab": {
     "base_uri": "https://localhost:8080/",
     "height": 621
    },
    "id": "mntuZYR-wZE-",
    "outputId": "061cc6cc-e72e-4f4e-f75d-6c703669a42e"
   },
   "outputs": [],
   "source": [
    "# now we finally need to plot these tables to try to find correlations visually\n",
    "import matplotlib.pyplot as plt\n",
    "\n",
    "plt.figure(figsize=(10,10))\n",
    "\n",
    "for i in range(1,5):\n",
    "    plt.subplot(2,2,i)\n",
    "    x = pCompTables[i].loc[:,'pc1']\n",
    "    y = pCompTables[i].loc[:,'pc2']\n",
    "    plt.scatter(x,y, s = 1)\n",
    "    plt.xlabel('pc1')\n",
    "    plt.ylabel('pc2')\n",
    "    plt.title(str(i) + ' letter words')\n",
    "\n",
    "plt.show()"
   ]
  },
  {
   "cell_type": "markdown",
   "metadata": {
    "id": "CDvXizqGwZE-"
   },
   "source": [
    "From the plots we can clearly see that **3 letters** generates identifiable visual relations between data points in the first **two principal components**. **These 3 letter words are called codons in biology.**\n",
    "\n",
    "**What do these point clouds (clusters) mean for the 3-letter words?** \n",
    "\n",
    "- We can identify 6 distinct poles, or centroids in the graph. If the genetic information is coded in 3-letter words, each of these clusters has similar distributions of frequencies of these words.\n",
    "\n",
    "**Why 6 poles then?** \n",
    "\n",
    "- Well, since we don't know when a word starts, we can think that if we read the data point with the shift of 1 letter (i.e. not considering the first letter), it would still contain basically the same information. Therefore, in the 3 letter words hypothesis, we can find 3 distinct poles, each representing a shift in reading. The remaining 3 poles are explained since, as the article points out, genetic information is composed of complementary strings (i.e. readable either from left to right or in the opposite way). There are however actually 7 clusters, the last one being the points in the center of the figure, representing the bits of the code that do not carry information."
   ]
  },
  {
   "cell_type": "markdown",
   "metadata": {
    "id": "qSSnp95FwZE-"
   },
   "source": [
    "### **Clustering**\n",
    "We will now cluster the 3 letter word gene breakdown using the K-means Clustering unsupervised algorithm. From the previous section, we can detect 6 or 7 clusters. Knowing that some genes do not carry information, we are led to think that the center points, far from the 6 distinct centroids, could be a candidate for those. We therefore assume that there are 7 clusters. (this could be checked by comparing the performance of 6 or 7 clustering)"
   ]
  },
  {
   "cell_type": "code",
   "execution_count": null,
   "metadata": {
    "colab": {
     "base_uri": "https://localhost:8080/"
    },
    "id": "3w_Y_LvEwZE-",
    "outputId": "cb72542a-2891-4cbc-a804-5cdf81e3f50c"
   },
   "outputs": [],
   "source": [
    "kmeans = KMeans(n_clusters = 7)\n",
    "kmeans.fit(normFreqTables[3])"
   ]
  },
  {
   "cell_type": "markdown",
   "metadata": {
    "id": "vBYl04JswZE-"
   },
   "source": [
    "### **Results in a Graph**\n",
    "Using our clustering results, we can visualize the different colors!"
   ]
  },
  {
   "cell_type": "code",
   "execution_count": null,
   "metadata": {
    "colab": {
     "base_uri": "https://localhost:8080/",
     "height": 513
    },
    "id": "dT01ML1HwZE-",
    "outputId": "64a2d3ff-9a8f-4f66-cf23-4150ec46d4dd"
   },
   "outputs": [],
   "source": [
    "plt.figure(figsize=(8,8))\n",
    "\n",
    "x = pCompTables[3].loc[:,'pc1']\n",
    "y = pCompTables[3].loc[:,'pc2']\n",
    "plt.scatter(x,y, s = 20, c=kmeans.labels_, cmap = 'rainbow')\n",
    "plt.xlabel('pc1')\n",
    "plt.ylabel('pc2')\n",
    "plt.title('K-Means clustering showing on top of principal components')\n",
    "\n",
    "plt.show()"
   ]
  },
  {
   "cell_type": "markdown",
   "metadata": {
    "id": "MmTm00LGLttK"
   },
   "source": [
    "Hence, Unsupervised Learning through Clustering (K-means Clustering) and Dimensionality Reduction (PCA) has allowed us to **visualize, validate and provide supporting evidence for the biological discovery** that the DNA genetic sequence is organized into three-letter words called **codons**, which are actually responsible for the amino acids and proteins that are produced by living cells."
   ]
  }
 ],
 "metadata": {
  "colab": {
   "collapsed_sections": [
    "8z2Z7-OAs8QG",
    "M2mq2w4wwZEz",
    "jwoM_YOewZE1",
    "I1h2hADTwZE4",
    "ALfvwNqMwZE9",
    "qSSnp95FwZE-",
    "vBYl04JswZE-"
   ],
   "name": "Genomic Data Clustering.ipynb",
   "provenance": []
  },
  "kernelspec": {
   "display_name": "Python 3",
   "language": "python",
   "name": "python3"
  },
  "language_info": {
   "codemirror_mode": {
    "name": "ipython",
    "version": 3
   },
   "file_extension": ".py",
   "mimetype": "text/x-python",
   "name": "python",
   "nbconvert_exporter": "python",
   "pygments_lexer": "ipython3",
   "version": "3.6.13"
  }
 },
 "nbformat": 4,
 "nbformat_minor": 1
}
