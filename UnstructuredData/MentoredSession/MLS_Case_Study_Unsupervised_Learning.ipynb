{
 "cells": [
  {
   "cell_type": "markdown",
   "metadata": {
    "id": "tIOusyeT4_RJ"
   },
   "source": [
    "## MLS Case study: Unsupervised Learning\n",
    "----------------------------------------\n",
    "\n",
    "Welcome to the case study on Unsupervised Learning. We will be using the Credit Card Customer Data for this case study.\n",
    "\n",
    "----------------------------\n",
    "## Problem Statement: \n",
    "-----------------------------\n",
    "AllLife Bank wants to focus on its credit card customer base in the next financial year. They have been advised by their marketing research team, that the penetration in the market can be improved. Based on this input, the Marketing team proposes to run personalized campaigns to target new customers as well as upsell to existing customers. Another insight from the market research was that the customers perceive the support services of the bank poorly. Based on this, the Operations team wants to upgrade the service delivery model, to ensure that customers queries are resolved faster. The Head of Marketing and Head of Delivery both decide to reach out to the Data Science team for help.\n",
    "\n",
    "\n",
    "----------------------------\n",
    "## Objective: \n",
    "-----------------------------\n",
    "\n",
    "Identify different segments in the existing customer based on their spending patterns as well as past interaction with the bank.\n",
    "\n",
    "--------------------------\n",
    "## About the data:\n",
    "--------------------------\n",
    "Data is of various customers of a bank with their credit limit, the total number of credit cards the customer has, and different channels through which customer has contacted the bank for any queries, different channels include visiting the bank, online and through a call centre.\n",
    "\n",
    "- Sl_no - Customer Serial Number\n",
    "- Customer Key - Customer identification\n",
    "- Avg_Credit_Limit\t- Average credit limit (currency is not specified, you can make an assumption around this)\n",
    "- Total_Credit_Cards\t- Total number of credit cards \n",
    "- Total_visits_bank\t- Total bank visits\n",
    "- Total_visits_online -\t Total online visits\n",
    "- Total_calls_made - Total calls made"
   ]
  },
  {
   "cell_type": "markdown",
   "metadata": {
    "id": "0ReVFSgtvvO6"
   },
   "source": [
    "## Importing libraries and overview of the dataset"
   ]
  },
  {
   "cell_type": "code",
   "execution_count": null,
   "metadata": {},
   "outputs": [],
   "source": [
    "#import sklearn_extra"
   ]
  },
  {
   "cell_type": "code",
   "execution_count": 4,
   "metadata": {
    "colab": {
     "base_uri": "https://localhost:8080/"
    },
    "id": "KJKn2dkPKnkU",
    "outputId": "eaf44101-df4a-40b1-e0fe-fdbb6c7ff9bc"
   },
   "outputs": [],
   "source": [
    "#Import all the necessary packages\n",
    "\n",
    "import pandas as pd\n",
    "import numpy as np\n",
    "\n",
    "import matplotlib.pylab as plt\n",
    "import seaborn as sns\n",
    "\n",
    "#to scale the data using z-score \n",
    "from sklearn.preprocessing import StandardScaler\n",
    "\n",
    "#importing clustering algorithms\n",
    "from sklearn.cluster import KMeans\n",
    "from sklearn.mixture import GaussianMixture\n",
    "#!pip install scikit-learn-extra\n",
    "#from sklearn_extra.cluster import KMedoids\n",
    "\n",
    "#from sklearn_extra import KMedoids\n",
    "\n",
    "from sklearn.metrics import silhouette_score\n",
    "\n",
    "import warnings\n",
    "warnings.filterwarnings(\"ignore\")"
   ]
  },
  {
   "cell_type": "markdown",
   "metadata": {
    "id": "9qEgcn2XvvO8"
   },
   "source": [
    "#### Loading data"
   ]
  },
  {
   "cell_type": "code",
   "execution_count": 7,
   "metadata": {
    "colab": {
     "base_uri": "https://localhost:8080/",
     "height": 206
    },
    "id": "p4QVUUO3VHHH",
    "outputId": "bee70202-c606-4c25-85f1-93afb0ae44a7"
   },
   "outputs": [
    {
     "data": {
      "text/html": [
       "<div>\n",
       "<style scoped>\n",
       "    .dataframe tbody tr th:only-of-type {\n",
       "        vertical-align: middle;\n",
       "    }\n",
       "\n",
       "    .dataframe tbody tr th {\n",
       "        vertical-align: top;\n",
       "    }\n",
       "\n",
       "    .dataframe thead th {\n",
       "        text-align: right;\n",
       "    }\n",
       "</style>\n",
       "<table border=\"1\" class=\"dataframe\">\n",
       "  <thead>\n",
       "    <tr style=\"text-align: right;\">\n",
       "      <th></th>\n",
       "      <th>Sl_No</th>\n",
       "      <th>Customer Key</th>\n",
       "      <th>Avg_Credit_Limit</th>\n",
       "      <th>Total_Credit_Cards</th>\n",
       "      <th>Total_visits_bank</th>\n",
       "      <th>Total_visits_online</th>\n",
       "      <th>Total_calls_made</th>\n",
       "    </tr>\n",
       "  </thead>\n",
       "  <tbody>\n",
       "    <tr>\n",
       "      <th>0</th>\n",
       "      <td>1</td>\n",
       "      <td>87073</td>\n",
       "      <td>100000</td>\n",
       "      <td>2</td>\n",
       "      <td>1</td>\n",
       "      <td>1</td>\n",
       "      <td>0</td>\n",
       "    </tr>\n",
       "    <tr>\n",
       "      <th>1</th>\n",
       "      <td>2</td>\n",
       "      <td>38414</td>\n",
       "      <td>50000</td>\n",
       "      <td>3</td>\n",
       "      <td>0</td>\n",
       "      <td>10</td>\n",
       "      <td>9</td>\n",
       "    </tr>\n",
       "    <tr>\n",
       "      <th>2</th>\n",
       "      <td>3</td>\n",
       "      <td>17341</td>\n",
       "      <td>50000</td>\n",
       "      <td>7</td>\n",
       "      <td>1</td>\n",
       "      <td>3</td>\n",
       "      <td>4</td>\n",
       "    </tr>\n",
       "    <tr>\n",
       "      <th>3</th>\n",
       "      <td>4</td>\n",
       "      <td>40496</td>\n",
       "      <td>30000</td>\n",
       "      <td>5</td>\n",
       "      <td>1</td>\n",
       "      <td>1</td>\n",
       "      <td>4</td>\n",
       "    </tr>\n",
       "    <tr>\n",
       "      <th>4</th>\n",
       "      <td>5</td>\n",
       "      <td>47437</td>\n",
       "      <td>100000</td>\n",
       "      <td>6</td>\n",
       "      <td>0</td>\n",
       "      <td>12</td>\n",
       "      <td>3</td>\n",
       "    </tr>\n",
       "  </tbody>\n",
       "</table>\n",
       "</div>"
      ],
      "text/plain": [
       "   Sl_No  Customer Key  Avg_Credit_Limit  Total_Credit_Cards  \\\n",
       "0      1         87073            100000                   2   \n",
       "1      2         38414             50000                   3   \n",
       "2      3         17341             50000                   7   \n",
       "3      4         40496             30000                   5   \n",
       "4      5         47437            100000                   6   \n",
       "\n",
       "   Total_visits_bank  Total_visits_online  Total_calls_made  \n",
       "0                  1                    1                 0  \n",
       "1                  0                   10                 9  \n",
       "2                  1                    3                 4  \n",
       "3                  1                    1                 4  \n",
       "4                  0                   12                 3  "
      ]
     },
     "execution_count": 7,
     "metadata": {},
     "output_type": "execute_result"
    }
   ],
   "source": [
    "data = pd.read_excel('Credit_Card_Customer_Data.xlsx',engine='openpyxl')\n",
    "data.head()"
   ]
  },
  {
   "cell_type": "markdown",
   "metadata": {
    "id": "ZmxlhPKovvO-"
   },
   "source": [
    "#### Check the info of the data"
   ]
  },
  {
   "cell_type": "code",
   "execution_count": 8,
   "metadata": {
    "colab": {
     "base_uri": "https://localhost:8080/"
    },
    "id": "dtroAFl9vvO-",
    "outputId": "69f0d464-63e6-4245-8e68-762aaed672ff"
   },
   "outputs": [
    {
     "name": "stdout",
     "output_type": "stream",
     "text": [
      "<class 'pandas.core.frame.DataFrame'>\n",
      "RangeIndex: 655 entries, 0 to 654\n",
      "Data columns (total 7 columns):\n",
      " #   Column               Non-Null Count  Dtype\n",
      "---  ------               --------------  -----\n",
      " 0   Sl_No                655 non-null    int64\n",
      " 1   Customer Key         655 non-null    int64\n",
      " 2   Avg_Credit_Limit     655 non-null    int64\n",
      " 3   Total_Credit_Cards   655 non-null    int64\n",
      " 4   Total_visits_bank    655 non-null    int64\n",
      " 5   Total_visits_online  655 non-null    int64\n",
      " 6   Total_calls_made     655 non-null    int64\n",
      "dtypes: int64(7)\n",
      "memory usage: 35.9 KB\n"
     ]
    }
   ],
   "source": [
    "data.info()"
   ]
  },
  {
   "cell_type": "markdown",
   "metadata": {
    "id": "EPP73jY5vvPA"
   },
   "source": [
    "**Observations:**\n",
    "\n",
    "- There are 655 observations and 7 columns in the dataset.\n",
    "- All columns have 655 non-null values i.e. there are no missing values.\n",
    "- All columns are of int64 data type."
   ]
  },
  {
   "cell_type": "markdown",
   "metadata": {
    "id": "DOP-MnWovvPA"
   },
   "source": [
    "**There are no missing values. Let us now figure out the uniques in each column.** "
   ]
  },
  {
   "cell_type": "code",
   "execution_count": 9,
   "metadata": {
    "colab": {
     "base_uri": "https://localhost:8080/"
    },
    "id": "OCRC8zfDvvPB",
    "outputId": "a6eb30d6-37b4-400e-c6d4-deca54af697c"
   },
   "outputs": [
    {
     "data": {
      "text/plain": [
       "Sl_No                  655\n",
       "Customer Key           655\n",
       "Avg_Credit_Limit       109\n",
       "Total_Credit_Cards      10\n",
       "Total_visits_bank        6\n",
       "Total_visits_online     16\n",
       "Total_calls_made        11\n",
       "dtype: int64"
      ]
     },
     "execution_count": 9,
     "metadata": {},
     "output_type": "execute_result"
    }
   ],
   "source": [
    "data.nunique()"
   ]
  },
  {
   "cell_type": "markdown",
   "metadata": {
    "id": "JjjUYpvovvPC"
   },
   "source": [
    "- Customer key, which is an identifier, has no repeated values. We should treat the same accordingly before applying any algorithm."
   ]
  },
  {
   "cell_type": "markdown",
   "metadata": {
    "id": "fpZolGOdvvPC"
   },
   "source": [
    "## Data Preprocessing and Exploratory Data Analysis"
   ]
  },
  {
   "cell_type": "markdown",
   "metadata": {
    "id": "IDaRoTAQvvPF"
   },
   "source": [
    "First we need to drop the variables that are not required for our analysis."
   ]
  },
  {
   "cell_type": "code",
   "execution_count": 10,
   "metadata": {
    "id": "albq4GJ2vvPF"
   },
   "outputs": [],
   "source": [
    "data.drop(columns = ['Sl_No', 'Customer Key'], inplace = True)"
   ]
  },
  {
   "cell_type": "markdown",
   "metadata": {
    "id": "fRqvXDr4vvPG"
   },
   "source": [
    "Now that we have dropped unnecessary column. We can again check for duplicates. Duplicates would mean customers with identical features."
   ]
  },
  {
   "cell_type": "code",
   "execution_count": 11,
   "metadata": {
    "colab": {
     "base_uri": "https://localhost:8080/",
     "height": 394
    },
    "id": "J2EV_kXUvvPG",
    "outputId": "d611f197-9073-4fde-c9e1-16c5fa8f211d"
   },
   "outputs": [
    {
     "data": {
      "text/html": [
       "<div>\n",
       "<style scoped>\n",
       "    .dataframe tbody tr th:only-of-type {\n",
       "        vertical-align: middle;\n",
       "    }\n",
       "\n",
       "    .dataframe tbody tr th {\n",
       "        vertical-align: top;\n",
       "    }\n",
       "\n",
       "    .dataframe thead th {\n",
       "        text-align: right;\n",
       "    }\n",
       "</style>\n",
       "<table border=\"1\" class=\"dataframe\">\n",
       "  <thead>\n",
       "    <tr style=\"text-align: right;\">\n",
       "      <th></th>\n",
       "      <th>Avg_Credit_Limit</th>\n",
       "      <th>Total_Credit_Cards</th>\n",
       "      <th>Total_visits_bank</th>\n",
       "      <th>Total_visits_online</th>\n",
       "      <th>Total_calls_made</th>\n",
       "    </tr>\n",
       "  </thead>\n",
       "  <tbody>\n",
       "    <tr>\n",
       "      <th>162</th>\n",
       "      <td>8000</td>\n",
       "      <td>2</td>\n",
       "      <td>0</td>\n",
       "      <td>3</td>\n",
       "      <td>4</td>\n",
       "    </tr>\n",
       "    <tr>\n",
       "      <th>175</th>\n",
       "      <td>6000</td>\n",
       "      <td>1</td>\n",
       "      <td>0</td>\n",
       "      <td>2</td>\n",
       "      <td>5</td>\n",
       "    </tr>\n",
       "    <tr>\n",
       "      <th>215</th>\n",
       "      <td>8000</td>\n",
       "      <td>4</td>\n",
       "      <td>0</td>\n",
       "      <td>4</td>\n",
       "      <td>7</td>\n",
       "    </tr>\n",
       "    <tr>\n",
       "      <th>295</th>\n",
       "      <td>10000</td>\n",
       "      <td>6</td>\n",
       "      <td>4</td>\n",
       "      <td>2</td>\n",
       "      <td>3</td>\n",
       "    </tr>\n",
       "    <tr>\n",
       "      <th>324</th>\n",
       "      <td>9000</td>\n",
       "      <td>4</td>\n",
       "      <td>5</td>\n",
       "      <td>0</td>\n",
       "      <td>4</td>\n",
       "    </tr>\n",
       "    <tr>\n",
       "      <th>360</th>\n",
       "      <td>18000</td>\n",
       "      <td>6</td>\n",
       "      <td>3</td>\n",
       "      <td>1</td>\n",
       "      <td>4</td>\n",
       "    </tr>\n",
       "    <tr>\n",
       "      <th>377</th>\n",
       "      <td>12000</td>\n",
       "      <td>6</td>\n",
       "      <td>5</td>\n",
       "      <td>2</td>\n",
       "      <td>1</td>\n",
       "    </tr>\n",
       "    <tr>\n",
       "      <th>384</th>\n",
       "      <td>8000</td>\n",
       "      <td>7</td>\n",
       "      <td>4</td>\n",
       "      <td>2</td>\n",
       "      <td>0</td>\n",
       "    </tr>\n",
       "    <tr>\n",
       "      <th>394</th>\n",
       "      <td>5000</td>\n",
       "      <td>4</td>\n",
       "      <td>5</td>\n",
       "      <td>0</td>\n",
       "      <td>1</td>\n",
       "    </tr>\n",
       "    <tr>\n",
       "      <th>452</th>\n",
       "      <td>47000</td>\n",
       "      <td>6</td>\n",
       "      <td>2</td>\n",
       "      <td>0</td>\n",
       "      <td>4</td>\n",
       "    </tr>\n",
       "    <tr>\n",
       "      <th>494</th>\n",
       "      <td>52000</td>\n",
       "      <td>4</td>\n",
       "      <td>2</td>\n",
       "      <td>1</td>\n",
       "      <td>2</td>\n",
       "    </tr>\n",
       "  </tbody>\n",
       "</table>\n",
       "</div>"
      ],
      "text/plain": [
       "     Avg_Credit_Limit  Total_Credit_Cards  Total_visits_bank  \\\n",
       "162              8000                   2                  0   \n",
       "175              6000                   1                  0   \n",
       "215              8000                   4                  0   \n",
       "295             10000                   6                  4   \n",
       "324              9000                   4                  5   \n",
       "360             18000                   6                  3   \n",
       "377             12000                   6                  5   \n",
       "384              8000                   7                  4   \n",
       "394              5000                   4                  5   \n",
       "452             47000                   6                  2   \n",
       "494             52000                   4                  2   \n",
       "\n",
       "     Total_visits_online  Total_calls_made  \n",
       "162                    3                 4  \n",
       "175                    2                 5  \n",
       "215                    4                 7  \n",
       "295                    2                 3  \n",
       "324                    0                 4  \n",
       "360                    1                 4  \n",
       "377                    2                 1  \n",
       "384                    2                 0  \n",
       "394                    0                 1  \n",
       "452                    0                 4  \n",
       "494                    1                 2  "
      ]
     },
     "execution_count": 11,
     "metadata": {},
     "output_type": "execute_result"
    }
   ],
   "source": [
    "data[data.duplicated()]"
   ]
  },
  {
   "cell_type": "markdown",
   "metadata": {
    "id": "V7Xt_Ss3vvPG"
   },
   "source": [
    "We can drop these duplicated rows from the data"
   ]
  },
  {
   "cell_type": "code",
   "execution_count": 12,
   "metadata": {
    "id": "aBnoG0IivvPH"
   },
   "outputs": [],
   "source": [
    "data=data[~data.duplicated()]"
   ]
  },
  {
   "cell_type": "code",
   "execution_count": 13,
   "metadata": {
    "colab": {
     "base_uri": "https://localhost:8080/"
    },
    "id": "Bgj7fBervvPH",
    "outputId": "fd25e796-cb82-4884-843b-2b6aaaa289e0"
   },
   "outputs": [
    {
     "data": {
      "text/plain": [
       "(644, 5)"
      ]
     },
     "execution_count": 13,
     "metadata": {},
     "output_type": "execute_result"
    }
   ],
   "source": [
    "data.shape"
   ]
  },
  {
   "cell_type": "markdown",
   "metadata": {
    "id": "JtAIAYr9vvPH"
   },
   "source": [
    "- After removing duplicated keys and rows and unnecessary columns, there are 644 unique observations and 5 columns in our data."
   ]
  },
  {
   "cell_type": "markdown",
   "metadata": {
    "id": "LmykagZ0vvPI"
   },
   "source": [
    "#### Summary Statistics"
   ]
  },
  {
   "cell_type": "code",
   "execution_count": 14,
   "metadata": {
    "colab": {
     "base_uri": "https://localhost:8080/",
     "height": 206
    },
    "id": "yg-YXbPNvvPI",
    "outputId": "d4a54fbf-d278-4ba4-f34e-85b1a2c41933"
   },
   "outputs": [
    {
     "data": {
      "text/html": [
       "<div>\n",
       "<style scoped>\n",
       "    .dataframe tbody tr th:only-of-type {\n",
       "        vertical-align: middle;\n",
       "    }\n",
       "\n",
       "    .dataframe tbody tr th {\n",
       "        vertical-align: top;\n",
       "    }\n",
       "\n",
       "    .dataframe thead th {\n",
       "        text-align: right;\n",
       "    }\n",
       "</style>\n",
       "<table border=\"1\" class=\"dataframe\">\n",
       "  <thead>\n",
       "    <tr style=\"text-align: right;\">\n",
       "      <th></th>\n",
       "      <th>count</th>\n",
       "      <th>mean</th>\n",
       "      <th>std</th>\n",
       "      <th>min</th>\n",
       "      <th>25%</th>\n",
       "      <th>50%</th>\n",
       "      <th>75%</th>\n",
       "      <th>max</th>\n",
       "    </tr>\n",
       "  </thead>\n",
       "  <tbody>\n",
       "    <tr>\n",
       "      <th>Avg_Credit_Limit</th>\n",
       "      <td>644.0</td>\n",
       "      <td>34543.478261</td>\n",
       "      <td>37428.704286</td>\n",
       "      <td>3000.0</td>\n",
       "      <td>11000.0</td>\n",
       "      <td>18000.0</td>\n",
       "      <td>48000.00</td>\n",
       "      <td>200000.0</td>\n",
       "    </tr>\n",
       "    <tr>\n",
       "      <th>Total_Credit_Cards</th>\n",
       "      <td>644.0</td>\n",
       "      <td>4.694099</td>\n",
       "      <td>2.175338</td>\n",
       "      <td>1.0</td>\n",
       "      <td>3.0</td>\n",
       "      <td>5.0</td>\n",
       "      <td>6.00</td>\n",
       "      <td>10.0</td>\n",
       "    </tr>\n",
       "    <tr>\n",
       "      <th>Total_visits_bank</th>\n",
       "      <td>644.0</td>\n",
       "      <td>2.395963</td>\n",
       "      <td>1.626964</td>\n",
       "      <td>0.0</td>\n",
       "      <td>1.0</td>\n",
       "      <td>2.0</td>\n",
       "      <td>4.00</td>\n",
       "      <td>5.0</td>\n",
       "    </tr>\n",
       "    <tr>\n",
       "      <th>Total_visits_online</th>\n",
       "      <td>644.0</td>\n",
       "      <td>2.624224</td>\n",
       "      <td>2.957728</td>\n",
       "      <td>0.0</td>\n",
       "      <td>1.0</td>\n",
       "      <td>2.0</td>\n",
       "      <td>4.00</td>\n",
       "      <td>15.0</td>\n",
       "    </tr>\n",
       "    <tr>\n",
       "      <th>Total_calls_made</th>\n",
       "      <td>644.0</td>\n",
       "      <td>3.608696</td>\n",
       "      <td>2.880025</td>\n",
       "      <td>0.0</td>\n",
       "      <td>1.0</td>\n",
       "      <td>3.0</td>\n",
       "      <td>5.25</td>\n",
       "      <td>10.0</td>\n",
       "    </tr>\n",
       "  </tbody>\n",
       "</table>\n",
       "</div>"
      ],
      "text/plain": [
       "                     count          mean           std     min      25%  \\\n",
       "Avg_Credit_Limit     644.0  34543.478261  37428.704286  3000.0  11000.0   \n",
       "Total_Credit_Cards   644.0      4.694099      2.175338     1.0      3.0   \n",
       "Total_visits_bank    644.0      2.395963      1.626964     0.0      1.0   \n",
       "Total_visits_online  644.0      2.624224      2.957728     0.0      1.0   \n",
       "Total_calls_made     644.0      3.608696      2.880025     0.0      1.0   \n",
       "\n",
       "                         50%       75%       max  \n",
       "Avg_Credit_Limit     18000.0  48000.00  200000.0  \n",
       "Total_Credit_Cards       5.0      6.00      10.0  \n",
       "Total_visits_bank        2.0      4.00       5.0  \n",
       "Total_visits_online      2.0      4.00      15.0  \n",
       "Total_calls_made         3.0      5.25      10.0  "
      ]
     },
     "execution_count": 14,
     "metadata": {},
     "output_type": "execute_result"
    }
   ],
   "source": [
    "data.describe().T"
   ]
  },
  {
   "cell_type": "markdown",
   "metadata": {
    "id": "kAEzS8-GvvPI"
   },
   "source": [
    "**Observations:**\n",
    "\n",
    "- The average credit limit has a high range as it has a minimum value of 3K and a maximum value of 200K.\n",
    "- The mean of the average credit limit is approx 34.5K with a large standard deviation of 37.4K.\n",
    "- The average number of cards per customer is approx 5 (rounding off to nearest integer).\n",
    "- On average, a customer has 2 bank visits, 3 online visits, and made 4 calls. "
   ]
  },
  {
   "cell_type": "markdown",
   "metadata": {
    "id": "xUxHbmglvvPJ"
   },
   "source": [
    "#### Now let's go ahead with the exploring each variable at hand. We will check the distribution and outliers for each variable in the data."
   ]
  },
  {
   "cell_type": "code",
   "execution_count": 15,
   "metadata": {
    "colab": {
     "base_uri": "https://localhost:8080/",
     "height": 1000
    },
    "id": "TmKqRM1JvvPJ",
    "outputId": "20e574c3-e797-4e1c-c476-142d027bc2a3"
   },
   "outputs": [
    {
     "name": "stdout",
     "output_type": "stream",
     "text": [
      "Avg_Credit_Limit\n",
      "Skew : 2.19\n"
     ]
    },
    {
     "data": {
      "image/png": "[encoded data removed]",
      "text/plain": [
       "<Figure size 1080x288 with 2 Axes>"
      ]
     },
     "metadata": {
      "needs_background": "light"
     },
     "output_type": "display_data"
    },
    {
     "name": "stdout",
     "output_type": "stream",
     "text": [
      "Total_Credit_Cards\n",
      "Skew : 0.17\n"
     ]
    },
    {
     "data": {
      "image/png": "[encoded data removed]",
      "text/plain": [
       "<Figure size 1080x288 with 2 Axes>"
      ]
     },
     "metadata": {
      "needs_background": "light"
     },
     "output_type": "display_data"
    },
    {
     "name": "stdout",
     "output_type": "stream",
     "text": [
      "Total_visits_bank\n",
      "Skew : 0.15\n"
     ]
    },
    {
     "data": {
      "image/png": "[encoded data removed]",
      "text/plain": [
       "<Figure size 1080x288 with 2 Axes>"
      ]
     },
     "metadata": {
      "needs_background": "light"
     },
     "output_type": "display_data"
    },
    {
     "name": "stdout",
     "output_type": "stream",
     "text": [
      "Total_visits_online\n",
      "Skew : 2.21\n"
     ]
    },
    {
     "data": {
      "image/png": "[encoded data removed]",
      "text/plain": [
       "<Figure size 1080x288 with 2 Axes>"
      ]
     },
     "metadata": {
      "needs_background": "light"
     },
     "output_type": "display_data"
    },
    {
     "name": "stdout",
     "output_type": "stream",
     "text": [
      "Total_calls_made\n",
      "Skew : 0.65\n"
     ]
    },
    {
     "data": {
      "image/png": "[encoded data removed]",
      "text/plain": [
       "<Figure size 1080x288 with 2 Axes>"
      ]
     },
     "metadata": {
      "needs_background": "light"
     },
     "output_type": "display_data"
    }
   ],
   "source": [
    "for col in data.columns:\n",
    "    print(col)\n",
    "    print('Skew :',round(data[col].skew(),2))\n",
    "    plt.figure(figsize=(15,4))\n",
    "    plt.subplot(1,2,1)\n",
    "    data[col].hist(bins=10, grid=False)\n",
    "    plt.ylabel('count')\n",
    "    plt.subplot(1,2,2)\n",
    "    sns.boxplot(x=data[col])\n",
    "    plt.show()"
   ]
  },
  {
   "cell_type": "markdown",
   "metadata": {
    "id": "yuraaJ3wvvPK"
   },
   "source": [
    "**Observation:**\n",
    "\n",
    "- The average credit limit and total visits online has a right skewed distribution with some outliers.\n",
    "- The majority of customers have 4 credits cards, 2 bank visits, and 4 calls."
   ]
  },
  {
   "cell_type": "markdown",
   "metadata": {
    "id": "KGeGbF8ovvPK"
   },
   "source": [
    "**Now, let's check the correlation among different variables.**"
   ]
  },
  {
   "cell_type": "code",
   "execution_count": 16,
   "metadata": {
    "colab": {
     "base_uri": "https://localhost:8080/",
     "height": 460
    },
    "id": "-INtorZDvvPK",
    "outputId": "1701a189-d9a8-41a7-a142-d100ea6047e1"
   },
   "outputs": [
    {
     "data": {
      "image/png": "[encoded data removed]",
      "text/plain": [
       "<Figure size 576x432 with 2 Axes>"
      ]
     },
     "metadata": {
      "needs_background": "light"
     },
     "output_type": "display_data"
    }
   ],
   "source": [
    "plt.figure(figsize=(8,6))\n",
    "sns.heatmap(data.corr(), annot=True, fmt='0.2f')\n",
    "plt.show()"
   ]
  },
  {
   "cell_type": "markdown",
   "metadata": {
    "id": "m_rQynXTvvPL"
   },
   "source": [
    "**Observation:**\n",
    "\n",
    "- Avg_Credit_Limit is positively correlated with Total_Credit_Cards and Total_visits_online which can makes sense.\n",
    "- Avg_Credit_Limit is negatively correlated with Total_calls_made and Total_visits_bank.\n",
    "- Total_visits_bank, Total_visits_online, Total_calls_made are negatively correlated which implies that majority of customers use only one of these channels to contact the bank."
   ]
  },
  {
   "cell_type": "markdown",
   "metadata": {
    "id": "XFimA8PUvvPL"
   },
   "source": [
    "#### Scaling the data"
   ]
  },
  {
   "cell_type": "code",
   "execution_count": 17,
   "metadata": {
    "id": "TjqSX-50vvPL"
   },
   "outputs": [],
   "source": [
    "scaler=StandardScaler()\n",
    "data_scaled=pd.DataFrame(scaler.fit_transform(data), columns=data.columns)"
   ]
  },
  {
   "cell_type": "code",
   "execution_count": 18,
   "metadata": {
    "colab": {
     "base_uri": "https://localhost:8080/",
     "height": 206
    },
    "id": "L2cyzdZNvvPM",
    "outputId": "c60efa78-8397-4666-d49e-4dd4d001d355"
   },
   "outputs": [
    {
     "data": {
      "text/html": [
       "<div>\n",
       "<style scoped>\n",
       "    .dataframe tbody tr th:only-of-type {\n",
       "        vertical-align: middle;\n",
       "    }\n",
       "\n",
       "    .dataframe tbody tr th {\n",
       "        vertical-align: top;\n",
       "    }\n",
       "\n",
       "    .dataframe thead th {\n",
       "        text-align: right;\n",
       "    }\n",
       "</style>\n",
       "<table border=\"1\" class=\"dataframe\">\n",
       "  <thead>\n",
       "    <tr style=\"text-align: right;\">\n",
       "      <th></th>\n",
       "      <th>Avg_Credit_Limit</th>\n",
       "      <th>Total_Credit_Cards</th>\n",
       "      <th>Total_visits_bank</th>\n",
       "      <th>Total_visits_online</th>\n",
       "      <th>Total_calls_made</th>\n",
       "    </tr>\n",
       "  </thead>\n",
       "  <tbody>\n",
       "    <tr>\n",
       "      <th>0</th>\n",
       "      <td>1.750192</td>\n",
       "      <td>-1.239437</td>\n",
       "      <td>-0.858684</td>\n",
       "      <td>-0.549573</td>\n",
       "      <td>-1.253982</td>\n",
       "    </tr>\n",
       "    <tr>\n",
       "      <th>1</th>\n",
       "      <td>0.413280</td>\n",
       "      <td>-0.779381</td>\n",
       "      <td>-1.473803</td>\n",
       "      <td>2.495669</td>\n",
       "      <td>1.873420</td>\n",
       "    </tr>\n",
       "    <tr>\n",
       "      <th>2</th>\n",
       "      <td>0.413280</td>\n",
       "      <td>1.060843</td>\n",
       "      <td>-0.858684</td>\n",
       "      <td>0.127148</td>\n",
       "      <td>0.135974</td>\n",
       "    </tr>\n",
       "    <tr>\n",
       "      <th>3</th>\n",
       "      <td>-0.121485</td>\n",
       "      <td>0.140731</td>\n",
       "      <td>-0.858684</td>\n",
       "      <td>-0.549573</td>\n",
       "      <td>0.135974</td>\n",
       "    </tr>\n",
       "    <tr>\n",
       "      <th>4</th>\n",
       "      <td>1.750192</td>\n",
       "      <td>0.600787</td>\n",
       "      <td>-1.473803</td>\n",
       "      <td>3.172390</td>\n",
       "      <td>-0.211515</td>\n",
       "    </tr>\n",
       "  </tbody>\n",
       "</table>\n",
       "</div>"
      ],
      "text/plain": [
       "   Avg_Credit_Limit  Total_Credit_Cards  Total_visits_bank  \\\n",
       "0          1.750192           -1.239437          -0.858684   \n",
       "1          0.413280           -0.779381          -1.473803   \n",
       "2          0.413280            1.060843          -0.858684   \n",
       "3         -0.121485            0.140731          -0.858684   \n",
       "4          1.750192            0.600787          -1.473803   \n",
       "\n",
       "   Total_visits_online  Total_calls_made  \n",
       "0            -0.549573         -1.253982  \n",
       "1             2.495669          1.873420  \n",
       "2             0.127148          0.135974  \n",
       "3            -0.549573          0.135974  \n",
       "4             3.172390         -0.211515  "
      ]
     },
     "execution_count": 18,
     "metadata": {},
     "output_type": "execute_result"
    }
   ],
   "source": [
    "data_scaled.head()"
   ]
  },
  {
   "cell_type": "code",
   "execution_count": 19,
   "metadata": {
    "id": "3ESvHP6SvvPM"
   },
   "outputs": [],
   "source": [
    "#Creating copy of the data to store labels from each algorithm\n",
    "data_scaled_copy = data_scaled.copy(deep=True)"
   ]
  },
  {
   "cell_type": "markdown",
   "metadata": {
    "id": "1lVGJ-HRvvPN"
   },
   "source": [
    "## K-Means"
   ]
  },
  {
   "cell_type": "markdown",
   "metadata": {
    "id": "JCT1SB7_vvPN"
   },
   "source": [
    "Let us now fit k-means algorithm on our scaled data and find out the optimum number of clusters to use.\n",
    "\n",
    "We will do this in 3 steps:\n",
    "1. Initialize a dictionary to store the SSE for each k\n",
    "2. Run for a range of Ks and store SSE for each run\n",
    "3. Plot the SSE vs K and find the elbow"
   ]
  },
  {
   "cell_type": "code",
   "execution_count": null,
   "metadata": {
    "colab": {
     "base_uri": "https://localhost:8080/",
     "height": 278
    },
    "id": "HkQWkpSovvPN",
    "outputId": "b0d9fc09-30b9-4909-e464-86da53872d04"
   },
   "outputs": [],
   "source": [
    "# step 1\n",
    "WCSS = {} \n",
    "\n",
    "# step 2 - iterate for a range of Ks and fit the scaled data to the algorithm. Use inertia attribute from the clustering object and \n",
    "# store the inertia value for that k \n",
    "for k in range(1, 10):\n",
    "    kmeans = KMeans(n_clusters=k, max_iter=1000).fit(data_scaled)\n",
    "    WCSS[k] = kmeans.inertia_\n",
    "\n",
    "# step 3\n",
    "plt.figure()\n",
    "plt.plot(list(WCSS.keys()), list(WCSS.values()), 'bx-')\n",
    "plt.xlabel(\"Number of cluster\")\n",
    "plt.ylabel(\"WCSS\")\n",
    "plt.show()"
   ]
  },
  {
   "cell_type": "markdown",
   "metadata": {
    "id": "wYIbRxO2vvPO"
   },
   "source": [
    "**Observations:**\n",
    "- Looking at the plot, we can say that elbow point is achieved for k=3.\n",
    "- We will fit the k-means again with k=3 to get the labels."
   ]
  },
  {
   "cell_type": "code",
   "execution_count": null,
   "metadata": {
    "colab": {
     "base_uri": "https://localhost:8080/",
     "height": 278
    },
    "id": "eL3SjPC3tqSG",
    "outputId": "366d13de-4ff8-438f-d3b7-4c515845a369"
   },
   "outputs": [],
   "source": [
    "#Empty dictionary to store the Silhouette score for each value of k\n",
    "sc = {} \n",
    "\n",
    "# iterate for a range of Ks and fit the scaled data to the algorithm. Store the Silhouette score for that k \n",
    "for k in range(2, 10):\n",
    "    kmeans = KMeans(n_clusters=k).fit(data_scaled)\n",
    "    labels = kmeans.predict(data_scaled)\n",
    "    sc[k] = silhouette_score(data_scaled, labels)\n",
    "\n",
    "#Elbow plot\n",
    "plt.figure()\n",
    "plt.plot(list(sc.keys()), list(sc.values()), 'bx-')\n",
    "plt.xlabel(\"Number of cluster\")\n",
    "plt.ylabel(\"Silhouette Score\")\n",
    "plt.show()"
   ]
  },
  {
   "cell_type": "markdown",
   "metadata": {
    "id": "mYdAYWNNvvPO"
   },
   "source": [
    "\n",
    "**Fitting the K-means algorithms on the scaled data with number of cluster equal to 3 and Storing the predictions as 'Labels' to the 'data_scaled_copy' and 'data' dataframes**"
   ]
  },
  {
   "cell_type": "code",
   "execution_count": null,
   "metadata": {
    "id": "bkeg6XsBvvPO"
   },
   "outputs": [],
   "source": [
    "kmeans = KMeans(n_clusters=3, max_iter= 1000, random_state=1)\n",
    "kmeans.fit(data_scaled)\n",
    "\n",
    "#Adding predicted labels to the original data and scaled data \n",
    "data_scaled_copy['Labels'] = kmeans.predict(data_scaled)\n",
    "data['Labels'] = kmeans.predict(data_scaled)"
   ]
  },
  {
   "cell_type": "markdown",
   "metadata": {
    "id": "9SPMPRF1vvPP"
   },
   "source": [
    "We have generated the labels with k-means. Let us look at the various features based on the labels."
   ]
  },
  {
   "cell_type": "markdown",
   "metadata": {
    "id": "tuLEkmr1vvPQ"
   },
   "source": [
    "#### **Creating cluster profiles using the below summary statistics and box plots for each label**"
   ]
  },
  {
   "cell_type": "code",
   "execution_count": null,
   "metadata": {
    "colab": {
     "base_uri": "https://localhost:8080/"
    },
    "id": "a5IB-oXEyeqC",
    "outputId": "85e68c06-f174-47f6-873c-f0806e2e55bf"
   },
   "outputs": [],
   "source": [
    "#Number of observations in each cluster\n",
    "data.Labels.value_counts()"
   ]
  },
  {
   "cell_type": "code",
   "execution_count": null,
   "metadata": {
    "colab": {
     "base_uri": "https://localhost:8080/",
     "height": 206
    },
    "id": "VVLMMBjwyeqD",
    "outputId": "b499f4aa-e237-47d6-bd08-5fce95c892aa"
   },
   "outputs": [],
   "source": [
    "#Calculating summary statistics of the original data for each label\n",
    "mean = data.groupby('Labels').mean()\n",
    "median = data.groupby('Labels').median()\n",
    "df_kmeans = pd.concat([mean, median], axis=0)\n",
    "df_kmeans.index = ['group_0 Mean', 'group_1 Mean', 'group_2 Mean', 'group_0 Median', 'group_1 Median', 'group_2 Median']\n",
    "df_kmeans.T"
   ]
  },
  {
   "cell_type": "code",
   "execution_count": null,
   "metadata": {
    "colab": {
     "base_uri": "https://localhost:8080/",
     "height": 480
    },
    "id": "bTnGIXvWvvPQ",
    "outputId": "993ce3d3-b738-4342-ad4e-c985586eb86c"
   },
   "outputs": [],
   "source": [
    "#Visualizing different features w.r.t K-means labels\n",
    "data_scaled_copy.boxplot(by = 'Labels', layout = (1,5),figsize=(20,7))\n",
    "plt.show()"
   ]
  },
  {
   "cell_type": "markdown",
   "metadata": {
    "id": "nadx5OyGvvPR"
   },
   "source": [
    "**Cluster Profiles:**\n",
    "- Cluster 0 - Low Credit Cutsomers: This cluster represents customers with low spending and prefers to interact with the bank via calls and therefore they have less number of bank and online visits.\n",
    "- Cluster 1 - Medium Credit Customers: This cluster represents customers who spends comparatively more than low credit customers and visits the bank more often and therefore they have less number of calls and online visits.\n",
    "- Cluster 2 - High Credit Customers: This cluster represents customers with high spending and prefers to contact the bank through online channel and therefore they have less number of total calls and bank visits."
   ]
  },
  {
   "cell_type": "markdown",
   "metadata": {
    "id": "ixzPPJG6vvPV"
   },
   "source": [
    "## K-Medoids"
   ]
  },
  {
   "cell_type": "code",
   "execution_count": null,
   "metadata": {
    "id": "OI2TbqNhvvPV"
   },
   "outputs": [],
   "source": [
    "kmedo = KMedoids(n_clusters = 3, random_state=1)\n",
    "kmedo.fit(data_scaled)\n",
    "\n",
    "data_scaled_copy['kmedoLabels'] = kmedo.predict(data_scaled)\n",
    "data['kmedoLabels'] = kmedo.predict(data_scaled)"
   ]
  },
  {
   "cell_type": "code",
   "execution_count": null,
   "metadata": {
    "colab": {
     "base_uri": "https://localhost:8080/"
    },
    "id": "as8coXbwyeqG",
    "outputId": "ce1ef0b8-44d0-428e-be3d-ecb87f15bc72"
   },
   "outputs": [],
   "source": [
    "#Number of observations in each cluster\n",
    "data.kmedoLabels.value_counts()"
   ]
  },
  {
   "cell_type": "markdown",
   "metadata": {
    "id": "w7QPL9MGtqSN"
   },
   "source": [
    "**Creating cluster profiles using the below summary statistics and box plots for each label and Comparing the clusters from both algorithms - K-Means and K-Medoids**"
   ]
  },
  {
   "cell_type": "code",
   "execution_count": null,
   "metadata": {
    "colab": {
     "base_uri": "https://localhost:8080/",
     "height": 206
    },
    "id": "FvKJ9rrzvvPW",
    "outputId": "a73891f3-f049-403c-b6d5-832568c64c0f"
   },
   "outputs": [],
   "source": [
    "#Calculating summary statistics of the original data for each label\n",
    "original_features = [\"Avg_Credit_Limit\",\"Total_Credit_Cards\",\"Total_visits_bank\",\"Total_visits_online\",\"Total_calls_made\"]\n",
    "\n",
    "mean = data.groupby('kmedoLabels').mean()\n",
    "median = data.groupby('kmedoLabels').median()\n",
    "df_kmedoids = pd.concat([mean, median], axis=0)\n",
    "df_kmedoids.index = ['group_0 Mean', 'group_1 Mean', 'group_2 Mean', 'group_0 Median', 'group_1 Median', 'group_2 Median']\n",
    "df_kmedoids[original_features].T"
   ]
  },
  {
   "cell_type": "code",
   "execution_count": null,
   "metadata": {
    "colab": {
     "base_uri": "https://localhost:8080/",
     "height": 480
    },
    "id": "eWdxV2rLvvPX",
    "outputId": "96ea0660-c0d1-4edc-c1ce-2cf4b979a250"
   },
   "outputs": [],
   "source": [
    "#plotting boxplots with the new K-Medoids based labels\n",
    "\n",
    "features_with_lables = [\"Avg_Credit_Limit\",\t\"Total_Credit_Cards\",\"Total_visits_bank\",\"Total_visits_online\",\"Total_calls_made\",\"kmedoLabels\"]\n",
    "\n",
    "data_scaled_copy[features_with_lables].boxplot(by = 'kmedoLabels', layout = (1,5),figsize=(20,7))\n",
    "plt.show()"
   ]
  },
  {
   "cell_type": "markdown",
   "metadata": {
    "id": "ZoGTRNLKyeqH"
   },
   "source": [
    "Let's compare the clusters from K-Means and K-Medoids "
   ]
  },
  {
   "cell_type": "code",
   "execution_count": null,
   "metadata": {
    "colab": {
     "base_uri": "https://localhost:8080/",
     "height": 405
    },
    "id": "YDTninxvyeqH",
    "outputId": "7f752b8b-d862-4ca8-8bac-4fe9e0b6d635"
   },
   "outputs": [],
   "source": [
    "comparison = pd.concat([df_kmedoids, df_kmeans], axis=1)[original_features]\n",
    "comparison"
   ]
  },
  {
   "cell_type": "markdown",
   "metadata": {
    "id": "iuNbMOGKvvPY"
   },
   "source": [
    "**Cluster Profiles:**\n",
    "- Cluster 0 - Low Credit Cutsomers: This cluster represents customers with low spending and prefers to interact with the bank via calls and therefore they have less number of bank and online visits.\n",
    "- Cluster 1 - High Credit Customers: This cluster represents customers with high spending and prefers to contact the bank through online channel and therefore they have less number of total calls and bank visits.\n",
    "- Cluster 2 - Medium Credit Customers: This cluster represents customers who spends comparatively more than low credit customers and visits the bank more often and therefore they have less number of calls and online visits.\n",
    "\n",
    "**Comparing Clusters:**\n",
    "\n",
    "- The size of clusters (count of observations) from K-Medoids is different from K-means clusters. In K-Medoids, number of observations are evenly distributed among clusters. \n",
    "- K-Medoids clusters are more compact i.e. have small ranges for all variables. For example, the range of total number of credit cards is from 4 to 7 for medium credit customers from K-Medoids, whereas from K-Means, it is from 2 to 7.\n",
    "- K-Medoids is more robust to outliers which helps to identify outliers in the clusters. For example, the total number of bank visits has an outlier for high credit customers from K-Medoids, whereas from K-Means, we could not detect any outliers in this variable."
   ]
  },
  {
   "cell_type": "markdown",
   "metadata": {
    "id": "XWzXYTKUoINR"
   },
   "source": [
    "## **Additional Content (Optional)**"
   ]
  },
  {
   "cell_type": "markdown",
   "metadata": {
    "id": "B02j8pGUvvPS"
   },
   "source": [
    "## Gaussian Mixture"
   ]
  },
  {
   "cell_type": "markdown",
   "metadata": {
    "id": "qYBGfwaVvvPS"
   },
   "source": [
    "Let's create clusters using Gaussian Mixture Models"
   ]
  },
  {
   "cell_type": "markdown",
   "metadata": {
    "id": "EsrrcXWDtqSJ"
   },
   "source": [
    "**Finding Optimal K using Silhouette for GMM model**"
   ]
  },
  {
   "cell_type": "code",
   "execution_count": null,
   "metadata": {
    "colab": {
     "base_uri": "https://localhost:8080/",
     "height": 278
    },
    "id": "NwfkrVt8tqSJ",
    "outputId": "0f509a69-ba92-42a4-a47e-4851fe694033"
   },
   "outputs": [],
   "source": [
    "#Empty dictionary to store the Silhouette score for each value of k\n",
    "sc = {} \n",
    "\n",
    "# iterate for a range of Ks and fit the scaled data to the algorithm. Store the Silhouette score for that k \n",
    "for k in range(2, 10):\n",
    "    GMM = GaussianMixture(n_components = k).fit(data_scaled)\n",
    "    labels = GMM.predict(data_scaled)\n",
    "    sc[k] = silhouette_score(data_scaled, labels)\n",
    "\n",
    "#Elbow plot\n",
    "plt.figure()\n",
    "plt.plot(list(sc.keys()), list(sc.values()), 'bx-')\n",
    "plt.xlabel(\"Number of cluster\")\n",
    "plt.ylabel(\"Silhouette Score\")\n",
    "plt.show()"
   ]
  },
  {
   "cell_type": "markdown",
   "metadata": {
    "id": "lqPdTG6dtqSJ"
   },
   "source": [
    "**Fitting the GMM model** "
   ]
  },
  {
   "cell_type": "code",
   "execution_count": null,
   "metadata": {
    "id": "fBHzul_PvvPS"
   },
   "outputs": [],
   "source": [
    "gmm = GaussianMixture(n_components = 3)\n",
    "gmm.fit(data_scaled)\n",
    "\n",
    "data_scaled_copy['GmmLabels'] = gmm.predict(data_scaled)\n",
    "data['GmmLabels'] = gmm.predict(data_scaled)"
   ]
  },
  {
   "cell_type": "code",
   "execution_count": null,
   "metadata": {
    "colab": {
     "base_uri": "https://localhost:8080/"
    },
    "id": "2DfBc4IsyeqE",
    "outputId": "9e471792-8e48-4589-ef3b-d22936be7927"
   },
   "outputs": [],
   "source": [
    "#Number of observations in each cluster\n",
    "data.GmmLabels.value_counts()"
   ]
  },
  {
   "cell_type": "markdown",
   "metadata": {
    "id": "SiRWapi6tqSM"
   },
   "source": [
    "**Creating cluster profiles using the below summary statistics and box plots for each label and Comparing the clusters from both algorithms - K-means and Gaussian Mixture**"
   ]
  },
  {
   "cell_type": "code",
   "execution_count": null,
   "metadata": {
    "colab": {
     "base_uri": "https://localhost:8080/",
     "height": 206
    },
    "id": "m21wTqIgvvPT",
    "outputId": "ede88d76-ad63-45ae-e8e3-335f06bea994"
   },
   "outputs": [],
   "source": [
    "#Calculating summary statistics of the original data for each label\n",
    "original_features = [\"Avg_Credit_Limit\",\"Total_Credit_Cards\",\"Total_visits_bank\",\"Total_visits_online\",\"Total_calls_made\"]\n",
    "\n",
    "mean = data.groupby('GmmLabels').mean()\n",
    "median = data.groupby('GmmLabels').median()\n",
    "df_gmm = pd.concat([mean, median], axis=0)\n",
    "df_gmm.index = ['group_0 Mean', 'group_1 Mean', 'group_2 Mean', 'group_0 Median', 'group_1 Median', 'group_2 Median']\n",
    "df_gmm[original_features].T"
   ]
  },
  {
   "cell_type": "code",
   "execution_count": null,
   "metadata": {
    "colab": {
     "base_uri": "https://localhost:8080/",
     "height": 480
    },
    "id": "CuJf3MeOvvPT",
    "outputId": "d0e8f6be-66bf-49ae-cec0-109bc02e4078"
   },
   "outputs": [],
   "source": [
    "# plotting boxplots with the new GMM based labels\n",
    "\n",
    "features_with_lables = [\"Avg_Credit_Limit\",\"Total_Credit_Cards\",\"Total_visits_bank\",\"Total_visits_online\",\"Total_calls_made\",\"GmmLabels\"]\n",
    "\n",
    "data_scaled_copy[features_with_lables].boxplot(by = 'GmmLabels', layout = (1,5),figsize=(20,7))\n",
    "plt.show()"
   ]
  },
  {
   "cell_type": "markdown",
   "metadata": {
    "id": "EHA5nl2yvvPU"
   },
   "source": [
    "**Cluster Profiles:**\n",
    "\n",
    "- Cluster 0 - Low Credit Cutsomers: This cluster represents customers with low spending and prefers to interact with the bank via calls and therefore they have less number of bank and online visits.\n",
    "- Cluster 1 - Medium Credit Customers: This cluster represents customers who spends comparatively more than low credit customers and visits the bank more often and therefore they have less number of calls and online visits.\n",
    "- Cluster 2 - High Credit Customers: This cluster represents customers with high spending and prefers to contact the bank through online channel and therefore they have less number of total calls and bank visits.\n",
    "\n",
    "**Comparing Clusters:**\n",
    "\n",
    "- The cluster profiles are the same as the K-means clusters."
   ]
  }
 ],
 "metadata": {
  "colab": {
   "collapsed_sections": [],
   "name": "MLS_Case_Study_Unsupervised_Learning.ipynb",
   "provenance": []
  },
  "kernelspec": {
   "display_name": "Python 3",
   "language": "python",
   "name": "python3"
  },
  "language_info": {
   "codemirror_mode": {
    "name": "ipython",
    "version": 3
   },
   "file_extension": ".py",
   "mimetype": "text/x-python",
   "name": "python",
   "nbconvert_exporter": "python",
   "pygments_lexer": "ipython3",
   "version": "3.6.13"
  }
 },
 "nbformat": 4,
 "nbformat_minor": 1
}
