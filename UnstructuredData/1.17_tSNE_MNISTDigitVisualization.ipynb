{
 "cells": [
  {
   "cell_type": "markdown",
   "metadata": {
    "id": "GR6x81NNIffS"
   },
   "source": [
    "# **MNIST Digit Visualization**"
   ]
  },
  {
   "cell_type": "markdown",
   "metadata": {},
   "source": [
    "____________________\n",
    "\n",
    "## **Context**\n",
    "____________________\n",
    "\n",
    "The **MNIST** dataset is an acronym that stands for the **Modified National Institute of Standards and Technology** dataset.\n",
    "\n",
    "**This dataset consists of 60,000 grayscale images**, which are small 28x28 pixel images. \n",
    "<br> **These are images of handwritten digits from 0 to 9.**\n",
    "\n",
    "In this case study, we will work on this **image data of handwritten digits** and will **visualize the images in two-dimensional space** using the two dimensionality reduction techniques learned in the lecture, i.e., **PCA and t-SNE**.\n",
    "\n",
    "We will generate **scatter plots to visualize** our own implementation and will also look at the function from the below link.\n",
    "\n",
    "The function plot_embedding() used for annotated visualization of digits has been taken from <a href = \"https://scikit-learn.org/stable/auto_examples/manifold/plot_lle_digits.html#sphx-glr-auto-examples-manifold-plot-lle-digits-py\">here</a>.\n",
    "\n",
    "\n",
    "**Note:** We will use the datasets module of the sklearn library to load the data and will only consider 6 classes, i.e., **digits from 0 to 5**."
   ]
  },
  {
   "cell_type": "markdown",
   "metadata": {
    "id": "Lakxfh7YJanL"
   },
   "source": [
    "## **Importing the libraries**"
   ]
  },
  {
   "cell_type": "code",
   "execution_count": 1,
   "metadata": {
    "id": "gAKksb98KGev"
   },
   "outputs": [],
   "source": [
    "from time import time\n",
    "\n",
    "import numpy as np\n",
    "\n",
    "import matplotlib.pyplot as plt\n",
    "\n",
    "import seaborn as sns\n",
    "\n",
    "from matplotlib import offsetbox\n",
    "\n",
    "from sklearn import manifold, datasets, decomposition\n",
    "\n",
    "import warnings\n",
    "warnings.filterwarnings(\"ignore\")"
   ]
  },
  {
   "cell_type": "markdown",
   "metadata": {},
   "source": [
    "## **Loading the dataset**"
   ]
  },
  {
   "cell_type": "code",
   "execution_count": 2,
   "metadata": {},
   "outputs": [],
   "source": [
    "digits = datasets.load_digits(n_class = 6)    # Loading the data using the sklearn library\n",
    "\n",
    "X = digits.data\n",
    "\n",
    "y = digits.target\n",
    "\n",
    "n_samples, n_features = X.shape\n",
    "\n",
    "n_neighbors = 30"
   ]
  },
  {
   "cell_type": "code",
   "execution_count": 3,
   "metadata": {
    "colab": {
     "base_uri": "https://localhost:8080/"
    },
    "id": "zn4-Fj-GJJWS",
    "outputId": "25dc407c-1c7f-487d-fbd2-871945dc2cac"
   },
   "outputs": [
    {
     "data": {
      "text/plain": [
       "(1083, 64)"
      ]
     },
     "execution_count": 3,
     "metadata": {},
     "output_type": "execute_result"
    }
   ],
   "source": [
    "X.shape    # Printing the dimensions of X"
   ]
  },
  {
   "cell_type": "markdown",
   "metadata": {
    "id": "aSDizSy7JYHa"
   },
   "source": [
    "**Observation:** \n",
    "\n",
    "- X has **1083 different images** and **each image is represented in 64 dimensions.**"
   ]
  },
  {
   "cell_type": "markdown",
   "metadata": {},
   "source": [
    "## **Visualizing the data**"
   ]
  },
  {
   "cell_type": "markdown",
   "metadata": {},
   "source": [
    "Now, let's **reduce the number of dimensions of the images, from 64 to 2**, using PCA and t-SNE, to visualize the distribution of images in 2 dimensions."
   ]
  },
  {
   "cell_type": "code",
   "execution_count": 4,
   "metadata": {},
   "outputs": [],
   "source": [
    "tsne = manifold.TSNE(n_components = 2, init = 'pca', random_state = 0) \n",
    "\n",
    "#X_tsne = tsne.fit_transform(X)\n"
   ]
  },
  {
   "cell_type": "code",
   "execution_count": null,
   "metadata": {},
   "outputs": [],
   "source": [
    "X_tsne = tsne.fit_transform(X)"
   ]
  },
  {
   "cell_type": "code",
   "execution_count": null,
   "metadata": {
    "colab": {
     "base_uri": "https://localhost:8080/"
    },
    "id": "zbck9NyqIxPj",
    "outputId": "31cd717e-41ff-4751-d79b-ee62ad1227d4"
   },
   "outputs": [],
   "source": [
    "# t-SNE embedding of the digits dataset\n",
    "\n",
    "print(\"Computing t-SNE embedding\")\n",
    "\n",
    "#t0 = time()\n",
    "\n",
    "tsne = manifold.TSNE(n_components = 2, init = 'pca', random_state = 0) \n",
    "\n",
    "X_tsne = tsne.fit_transform(X)\n",
    "\n",
    "#t1 = time()\n",
    "\n",
    "#tsne_time = t1-t0\n",
    "\n",
    "#print(\"t-SNE-Embeddings in time {}\".format(tsne_time),\"\\n\", X_tsne)\n",
    "\n",
    "print(\"***************************************************\")\n",
    "\n",
    "# Projection on the first 2 principal components using PCA\n",
    "\n",
    "print(\"Computing PCA projection\")\n",
    "\n",
    "#t0 = time()\n",
    "\n",
    "X_pca = decomposition.PCA(n_components = 2).fit_transform(X)\n",
    "\n",
    "#t1 = time()\n",
    "\n",
    "#pca_time = t1 - t0\n",
    "\n",
    "#print(\"PCA projections in time {}\".format(pca_time), \"\\n\", X_pca)\n",
    "\n",
    "print(\"***************************************************\")"
   ]
  },
  {
   "cell_type": "markdown",
   "metadata": {
    "id": "qASvePH0HfeS"
   },
   "source": [
    "**Observation:** \n",
    "\n",
    "- The **time taken to generate t-SNE embeddings is much longer** in comparison to the time taken to generate projections using PCA."
   ]
  },
  {
   "cell_type": "markdown",
   "metadata": {},
   "source": [
    "Let's write a **function to create scatter plots** for the generated embeddings and projections."
   ]
  },
  {
   "cell_type": "code",
   "execution_count": null,
   "metadata": {
    "id": "JLCRDdsiMP2_"
   },
   "outputs": [],
   "source": [
    "# Function to create scatter plot\n",
    "\n",
    "def scatter(X, title = None):\n",
    "    x1 = []\n",
    "    \n",
    "    x2 = []\n",
    "    \n",
    "    plt.figure(figsize = (10, 10))\n",
    "    \n",
    "    plt.title(title)\n",
    "    \n",
    "    for i in X:\n",
    "        x1.append(i[0])\n",
    "        \n",
    "        x2.append(i[1])\n",
    "    \n",
    "    sns.scatterplot(x = x1, y = x2)\n",
    "    \n",
    "    plt.show()"
   ]
  },
  {
   "cell_type": "code",
   "execution_count": null,
   "metadata": {
    "colab": {
     "base_uri": "https://localhost:8080/",
     "height": 1000
    },
    "id": "LuURcQaBMbjH",
    "outputId": "1fee01d6-5ef3-4234-f325-93775425a7f8"
   },
   "outputs": [],
   "source": [
    "scatter(X_tsne, \"t-SNE embedding of the digits\")\n",
    "\n",
    "scatter(X_pca, \"Principal Components projection of the digits using PCA\")"
   ]
  },
  {
   "cell_type": "markdown",
   "metadata": {},
   "source": [
    "Now, let's use the **plot_embedding function**, mentioned in the introduction, to get to a **more advanced visualization**. The clusters will still appear in the same way, but will be more informative with annotations.\n",
    "\n",
    "**Note:** The following code taken from scikit-learn is meant to annotate the embeddings created by PCA and t-SNE and provide a more labeled and informative visualization."
   ]
  },
  {
   "cell_type": "code",
   "execution_count": null,
   "metadata": {
    "id": "HikZBihy36Ut"
   },
   "outputs": [],
   "source": [
    "# Scale and visualize the embedding vectors\n",
    "\n",
    "def plot_embedding(X, title=None):              # Passing the embedded array and the title of the graph\n",
    "    \n",
    "    print(X)                                        \n",
    "    \n",
    "    x_min, x_max = np.min(X, 0), np.max(X, 0)   # Finding the max and min of the passed array\n",
    "    \n",
    "    X = (X - x_min) / (x_max - x_min)           # Scaling the array, new values are between 0 and 1\n",
    "\n",
    "    plt.figure(figsize = (12, 12))               # Setting the figure size to a sufficiently large value\n",
    "    \n",
    "    ax = plt.subplot(111)\n",
    "    \n",
    "    for i in range(X.shape[0]):\n",
    "        \n",
    "        plt.text(X[i, 0], X[i, 1], str(y[i]),\n",
    "                 \n",
    "                 color = plt.cm.Set1(y[i] / 10.),\n",
    "                 \n",
    "                 fontdict = {'weight': 'bold', 'size': 9})\n",
    "\n",
    "    if hasattr(offsetbox, 'AnnotationBbox'):\n",
    "        \n",
    "        # only print thumbnails with matplotlib > 1.0\n",
    "        shown_images = np.array([[1., 1.]])      # Just something big\n",
    "        \n",
    "        for i in range(X.shape[0]):\n",
    "            \n",
    "            dist = np.sum((X[i] - shown_images) ** 2, 1)\n",
    "            \n",
    "            if np.min(dist) < 4e-3:\n",
    "                \n",
    "                # don't show points that are too close\n",
    "                continue\n",
    "            \n",
    "            shown_images = np.r_[shown_images, [X[i]]]\n",
    "            \n",
    "            imagebox = offsetbox.AnnotationBbox(offsetbox.OffsetImage(digits.images[i], cmap = plt.cm.gray_r), X[i])\n",
    "            \n",
    "            ax.add_artist(imagebox)\n",
    "    \n",
    "    plt.xticks([]), plt.yticks([])\n",
    "    \n",
    "    if title is not None:\n",
    "        \n",
    "        plt.title(title)\n",
    "    \n",
    "    plt.show()"
   ]
  },
  {
   "cell_type": "code",
   "execution_count": null,
   "metadata": {
    "colab": {
     "base_uri": "https://localhost:8080/",
     "height": 1000
    },
    "id": "3C6XUxsmGSvK",
    "outputId": "2126a945-87e9-4113-8563-c974d5ac6c1a"
   },
   "outputs": [],
   "source": [
    "# Plotting t-SNE embeddings \n",
    "plot_embedding(X_tsne,\n",
    "               \"t-SNE embedding of the digits (time %.2fs)\" %\n",
    "               (tsne_time))\n",
    "\n",
    "# Plotting PCA projections\n",
    "plot_embedding(X_pca,\n",
    "               \"Principal Components projection of the digits (time %.2fs)\" %\n",
    "               (pca_time))"
   ]
  },
  {
   "cell_type": "markdown",
   "metadata": {
    "id": "lXPynTV2Qe74"
   },
   "source": [
    "## **Results and Conclusion**\n",
    "\n",
    "- We have effectively reduced the dimensionality of the images, from 64 to 2, using t-SNE and PCA, and plotted the 2D embeddings and projections.\n",
    "- Out of the two methods used above, **t-SNE takes a longer time to generate embeddings** but gives **better visualizations with well-separated clusters for each handwritten digit**. \n",
    "- The annotations show that while PCA gives the same clusters, the overall plot represents more of a blob and is not as well-separated as t-SNE. \n",
    "\n",
    "- **t-SNE is good for visualizing the data in lower dimensions but is very slow and should only be used on small datasets, whereas PCA is more computationally efficient and can be used on large datasets as well.**"
   ]
  }
 ],
 "metadata": {
  "colab": {
   "collapsed_sections": [],
   "name": "LVC 1 - Practical Application - Exploratory Data Analysis.ipynb",
   "provenance": []
  },
  "kernelspec": {
   "display_name": "Python 3",
   "language": "python",
   "name": "python3"
  },
  "language_info": {
   "codemirror_mode": {
    "name": "ipython",
    "version": 3
   },
   "file_extension": ".py",
   "mimetype": "text/x-python",
   "name": "python",
   "nbconvert_exporter": "python",
   "pygments_lexer": "ipython3",
   "version": "3.6.13"
  }
 },
 "nbformat": 4,
 "nbformat_minor": 1
}
