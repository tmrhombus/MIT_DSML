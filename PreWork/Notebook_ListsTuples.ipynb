{
 "cells": [
  {
   "cell_type": "markdown",
   "metadata": {
    "collapsed": true,
    "id": "Bu6p9k3M4Fdz"
   },
   "source": [
    "# **Table of Content**\n",
    "\n",
    "1. **[Introduction to List](#list)**\n",
    "2. **[Introduction to Tuple](#tuple)**"
   ]
  },
  {
   "cell_type": "markdown",
   "metadata": {
    "id": "8hWkI79J4Fd3"
   },
   "source": [
    "## **1. Introduction to List**"
   ]
  },
  {
   "cell_type": "markdown",
   "metadata": {
    "id": "9gS9dJXg4Fd4"
   },
   "source": [
    "### **Constructing Lists**\n",
    "\n",
    "To create a list, use square brackets [ ] and separate items in the list with commas.\n",
    "A list can be empty or contain any number of items with different data types (integers, float, strings, etc.)."
   ]
  },
  {
   "cell_type": "code",
   "execution_count": 1,
   "metadata": {
    "id": "lMWujARk4Fd4",
    "outputId": "1a5bc615-5d31-4096-9c89-1ba433ab9c61"
   },
   "outputs": [
    {
     "data": {
      "text/plain": [
       "[]"
      ]
     },
     "execution_count": 1,
     "metadata": {},
     "output_type": "execute_result"
    }
   ],
   "source": [
    "# Create an empty list\n",
    "empty_list = []\n",
    "empty_list"
   ]
  },
  {
   "cell_type": "markdown",
   "metadata": {
    "id": "9TGoyVvy4Fd5"
   },
   "source": [
    "**Note : A list can also hold another list as an item, these are called nested lists.**"
   ]
  },
  {
   "cell_type": "code",
   "execution_count": 2,
   "metadata": {
    "id": "td7kRhac4Fd6",
    "outputId": "cc77ad90-bf45-48ea-dffa-6446f4cf372a"
   },
   "outputs": [
    {
     "data": {
      "text/plain": [
       "[['Data Science', 'Machine Learning'], [135, 232, 321]]"
      ]
     },
     "execution_count": 2,
     "metadata": {},
     "output_type": "execute_result"
    }
   ],
   "source": [
    "# Nested list\n",
    "my_list = [['Data Science','Machine Learning'],[135,232,321]]\n",
    "my_list"
   ]
  },
  {
   "cell_type": "markdown",
   "metadata": {
    "id": "K7syEI9Q4Fd6"
   },
   "source": [
    "### **Acessing Elements in a List**\n",
    "You can access the list items by referring to the index number."
   ]
  },
  {
   "cell_type": "markdown",
   "metadata": {
    "id": "dTpp9pvY4Fd6"
   },
   "source": [
    "**Indexing:**<br>\n",
    "We use the index operator [ ]. Each item in a list has an assigned index value. Note that the index starts from 0 in python and must be an integer."
   ]
  },
  {
   "cell_type": "markdown",
   "metadata": {
    "id": "Z0AcBsMH4Fd7"
   },
   "source": [
    "#### Print the second item of the list"
   ]
  },
  {
   "cell_type": "code",
   "execution_count": 3,
   "metadata": {
    "id": "1Uld5DYy4Fd7",
    "outputId": "9bd0e956-ef01-4a67-ed55-b5c5a38bb3bc"
   },
   "outputs": [
    {
     "name": "stdout",
     "output_type": "stream",
     "text": [
      "machine learning\n"
     ]
    }
   ],
   "source": [
    "# Define a list\n",
    "course = ['data science', 'machine learning', 'python', 'html', 'big data' ]\n",
    "\n",
    "# Access the second item of a list at index 1\n",
    "print(course[1])"
   ]
  },
  {
   "cell_type": "markdown",
   "metadata": {
    "id": "3-qkReRX4Fd8"
   },
   "source": [
    "**Negative Indexing**:<br>\n",
    "Negative indexing means beginning from the end, -1 refers to the last item, and -2 refers to the second last item."
   ]
  },
  {
   "cell_type": "markdown",
   "metadata": {
    "id": "9HcW_gYL4Fd8"
   },
   "source": [
    "#### Print the second last item of the list"
   ]
  },
  {
   "cell_type": "code",
   "execution_count": 4,
   "metadata": {
    "id": "VI3R3WE94Fd8",
    "outputId": "41b620f1-6ce0-4adf-f5be-ecdcaccfa5ae"
   },
   "outputs": [
    {
     "name": "stdout",
     "output_type": "stream",
     "text": [
      "html\n"
     ]
    }
   ],
   "source": [
    "# Define a list\n",
    "course = ['data science', 'machine learning', 'python', 'html', 'big data' ]\n",
    "\n",
    "# Access the second item of a list at index -2\n",
    "print(course[-2])"
   ]
  },
  {
   "cell_type": "markdown",
   "metadata": {
    "id": "_iltlrlD4Fd9"
   },
   "source": [
    "### **Slicing of a List**\n",
    "List uses the slicing operator : (colon) to extract part of the sequence."
   ]
  },
  {
   "cell_type": "markdown",
   "metadata": {
    "id": "8uHiV7lz4Fd9"
   },
   "source": [
    "#### Return first three elements from the list"
   ]
  },
  {
   "cell_type": "code",
   "execution_count": 5,
   "metadata": {
    "id": "4826qZnu4Fd9",
    "outputId": "05f5dfd6-edbf-4495-c84a-25356acc382d"
   },
   "outputs": [
    {
     "data": {
      "text/plain": [
       "['data science', 'machine learning', 'python']"
      ]
     },
     "execution_count": 5,
     "metadata": {},
     "output_type": "execute_result"
    }
   ],
   "source": [
    "# Define a list\n",
    "course = ['data science', 'machine learning', 'python', 'html', 'big data' ]\n",
    "\n",
    "# Print first three elements from the list\n",
    "course[:3]"
   ]
  },
  {
   "cell_type": "markdown",
   "metadata": {
    "id": "dux96P4y4Fd-"
   },
   "source": [
    "Select elements from beginning to end"
   ]
  },
  {
   "cell_type": "code",
   "execution_count": 6,
   "metadata": {
    "id": "vLXvQmuZ4Fd-",
    "outputId": "9f305404-2759-4cac-f0e0-a2108a92366b"
   },
   "outputs": [
    {
     "data": {
      "text/plain": [
       "['data science', 'machine learning', 'python', 'html', 'big data']"
      ]
     },
     "execution_count": 6,
     "metadata": {},
     "output_type": "execute_result"
    }
   ],
   "source": [
    "# Define a list\n",
    "course = ['data science', 'machine learning', 'python', 'html', 'big data' ]\n",
    "\n",
    "# Print the all elements\n",
    "course[:]"
   ]
  },
  {
   "cell_type": "markdown",
   "metadata": {
    "id": "-GdOrU3h4Fd_"
   },
   "source": [
    "If all three starts, stop, and steps are provided, it generates a portion of the sequence after the index starts till stops with an increment of the index step."
   ]
  },
  {
   "cell_type": "code",
   "execution_count": 7,
   "metadata": {
    "id": "SS7dBIkh4FeG",
    "outputId": "41610f91-adfc-4e95-8868-a9a9e7c2dadd"
   },
   "outputs": [
    {
     "name": "stdout",
     "output_type": "stream",
     "text": [
      "[3, 5, 7]\n"
     ]
    }
   ],
   "source": [
    "a = [1,2,3,4,5,6,7,8,9,10]\n",
    "print(a[2:7:2])"
   ]
  },
  {
   "cell_type": "markdown",
   "metadata": {
    "id": "YftN9S1I4FeG"
   },
   "source": [
    "### **Change Item Value**\n",
    "Refer the index number to change the value of a specific item"
   ]
  },
  {
   "cell_type": "code",
   "execution_count": 8,
   "metadata": {
    "id": "VjXr4Xtk4FeG",
    "outputId": "4812c8df-37cc-489a-e69f-1099efc05ea2"
   },
   "outputs": [
    {
     "data": {
      "text/plain": [
       "['data science', 'machine learning', 'python', 'statistics', 'big data']"
      ]
     },
     "execution_count": 8,
     "metadata": {},
     "output_type": "execute_result"
    }
   ],
   "source": [
    "# Define a list\n",
    "course = ['data science', 'machine learning', 'python', 'html', 'big data' ]\n",
    "\n",
    "# Change the third item\n",
    "course[3] = 'statistics'\n",
    "course"
   ]
  },
  {
   "cell_type": "markdown",
   "metadata": {
    "id": "BVMaQeVu4FeH"
   },
   "source": [
    "### **List Methods**\n",
    "Python has a set of built-in methods that you can use on lists and arrays."
   ]
  },
  {
   "cell_type": "markdown",
   "metadata": {
    "id": "ntjwRIDe4FeH"
   },
   "source": [
    "Python has built-in methods that you can use on list:<br>\n",
    "append()<br>\n",
    "insert()<br>\n",
    "extend()<br>\n",
    "del <br>\n",
    "remove()<br>\n",
    "pop()<br>\n",
    "reverse()<br>"
   ]
  },
  {
   "cell_type": "markdown",
   "metadata": {
    "id": "wdfeVWXe4FeH"
   },
   "source": [
    "**list.append(item)**<br>\n",
    "The method list.append(item) will add the element at the end of a list."
   ]
  },
  {
   "cell_type": "code",
   "execution_count": 9,
   "metadata": {
    "id": "PcrouPpu4FeH",
    "outputId": "126710b4-f5e5-41dc-d432-54223b0ffde5"
   },
   "outputs": [
    {
     "data": {
      "text/plain": [
       "['data science',\n",
       " 'machine learning',\n",
       " 'python',\n",
       " 'html',\n",
       " 'big data',\n",
       " ['statistics']]"
      ]
     },
     "execution_count": 9,
     "metadata": {},
     "output_type": "execute_result"
    }
   ],
   "source": [
    "# Define a list\n",
    "course1 = ['data science', 'machine learning', 'python', 'html', 'big data' ]\n",
    "course2 = ['statistics']\n",
    "\n",
    "# Add element to the list\n",
    "course1.append(course2)\n",
    "course1"
   ]
  },
  {
   "cell_type": "markdown",
   "metadata": {
    "id": "BOEydSUz4FeI"
   },
   "source": [
    "**list.insert(i, item)**<br>\n",
    "This method will insert an element at the ith index in a list."
   ]
  },
  {
   "cell_type": "code",
   "execution_count": 10,
   "metadata": {
    "id": "4ipxFmY14FeI",
    "outputId": "dde710fe-31e2-4d00-9c10-10b3fdab93fb"
   },
   "outputs": [
    {
     "data": {
      "text/plain": [
       "['data science',\n",
       " 'machine learning',\n",
       " 'statistics',\n",
       " 'python',\n",
       " 'html',\n",
       " 'big data']"
      ]
     },
     "execution_count": 10,
     "metadata": {},
     "output_type": "execute_result"
    }
   ],
   "source": [
    "# Define a list\n",
    "course = ['data science', 'machine learning', 'python', 'html', 'big data' ]\n",
    "\n",
    "# Insert element at 2nd index in a list\n",
    "course.insert(2, 'statistics')\n",
    "course"
   ]
  },
  {
   "cell_type": "markdown",
   "metadata": {
    "id": "8eV1jKSq4FeI"
   },
   "source": [
    "**list.extend(items)**<br>\n",
    "The extend method concatenates lists."
   ]
  },
  {
   "cell_type": "code",
   "execution_count": 11,
   "metadata": {
    "id": "pjLYsq864FeI",
    "outputId": "12e50bd7-e38b-43b1-b1f7-846931a7cf54"
   },
   "outputs": [
    {
     "data": {
      "text/plain": [
       "['data science',\n",
       " 'machine learning',\n",
       " 'python',\n",
       " 'html',\n",
       " 'big data',\n",
       " 'artificial intelligence']"
      ]
     },
     "execution_count": 11,
     "metadata": {},
     "output_type": "execute_result"
    }
   ],
   "source": [
    "# Define a first list\n",
    "course1 = ['data science', 'machine learning', 'python', 'html', 'big data']\n",
    "\n",
    "# Define a second list\n",
    "course2 = ['artificial intelligence']\n",
    "\n",
    "# Concatenate the list\n",
    "course1.extend(course2)\n",
    "course1"
   ]
  },
  {
   "cell_type": "markdown",
   "metadata": {
    "id": "VJWGFheY4FeI"
   },
   "source": [
    "**Deleting List Elements**<br>\n",
    "Use the del keywords to delete an item at specific index."
   ]
  },
  {
   "cell_type": "code",
   "execution_count": 12,
   "metadata": {
    "id": "Cs1irNMw4FeI",
    "outputId": "2576d586-b7d3-44c3-bfd2-338ff6251a80"
   },
   "outputs": [
    {
     "data": {
      "text/plain": [
       "['data science', 'machine learning', 'html', 'big data']"
      ]
     },
     "execution_count": 12,
     "metadata": {},
     "output_type": "execute_result"
    }
   ],
   "source": [
    "# Define a first list\n",
    "course = ['data science', 'machine learning', 'python', 'html', 'big data' ]\n",
    "\n",
    "# Delete the third element from the list\n",
    "del course[2]\n",
    "\n",
    "# Print the output\n",
    "course"
   ]
  },
  {
   "cell_type": "markdown",
   "metadata": {
    "id": "uS7-SscK4FeI"
   },
   "source": [
    "**list.remove(item)**<br>\n",
    "It will search and remove only the first occurrence of an item."
   ]
  },
  {
   "cell_type": "code",
   "execution_count": 13,
   "metadata": {
    "id": "GaeKdXFT4FeJ",
    "outputId": "0ec85cd8-9172-4c99-e24b-2cd2a43bc5d1"
   },
   "outputs": [
    {
     "data": {
      "text/plain": [
       "['data science', 'machine learning', 'python', 'big data', 'html']"
      ]
     },
     "execution_count": 13,
     "metadata": {},
     "output_type": "execute_result"
    }
   ],
   "source": [
    "# Define a first list\n",
    "course = ['data science', 'machine learning', 'python', 'html', 'big data', 'html' ]\n",
    "\n",
    "course.remove('html')\n",
    "\n",
    "course"
   ]
  },
  {
   "cell_type": "markdown",
   "metadata": {
    "id": "_fxhNVtu4FeJ"
   },
   "source": [
    "**list.pop()**<br>\n",
    "Removes and returns the last item of a list."
   ]
  },
  {
   "cell_type": "code",
   "execution_count": 14,
   "metadata": {
    "id": "gwuINsWu4FeJ",
    "outputId": "73a67dd3-8e8a-43f3-a33f-148c8f91f31f"
   },
   "outputs": [
    {
     "data": {
      "text/plain": [
       "'html'"
      ]
     },
     "execution_count": 14,
     "metadata": {},
     "output_type": "execute_result"
    }
   ],
   "source": [
    "# Define a first list\n",
    "course = ['data science', 'machine learning', 'python', 'html', 'big data', 'html' ]\n",
    "\n",
    "course.pop()"
   ]
  },
  {
   "cell_type": "markdown",
   "metadata": {
    "id": "hQ-mRXR84FeJ"
   },
   "source": [
    "**list.reverse()**<br>\n",
    "The reverse() method reverses the sorting order of the elements."
   ]
  },
  {
   "cell_type": "code",
   "execution_count": 15,
   "metadata": {
    "id": "ztzu_xMW4FeJ",
    "outputId": "37f2f645-d2d0-474c-eac8-0944dc753489"
   },
   "outputs": [
    {
     "data": {
      "text/plain": [
       "['html', 'big data', 'html', 'python', 'machine learning', 'data science']"
      ]
     },
     "execution_count": 15,
     "metadata": {},
     "output_type": "execute_result"
    }
   ],
   "source": [
    "# Define a first list\n",
    "course = ['data science', 'machine learning', 'python', 'html', 'big data', 'html' ]\n",
    "\n",
    "course.reverse()\n",
    "\n",
    "course"
   ]
  },
  {
   "cell_type": "markdown",
   "metadata": {
    "id": "tyeChoyn4FeJ"
   },
   "source": [
    "### **Common List Operations**"
   ]
  },
  {
   "cell_type": "markdown",
   "metadata": {
    "id": "SilY_JbA4FeJ"
   },
   "source": [
    "**Concatenation(+)**<br>\n",
    "Concatenation uses the + Operator. It combines lists."
   ]
  },
  {
   "cell_type": "code",
   "execution_count": 16,
   "metadata": {
    "id": "bM3CCp014FeJ",
    "outputId": "2583b8e9-7110-4a7d-8778-f262e0e2a7e8"
   },
   "outputs": [
    {
     "data": {
      "text/plain": [
       "['data science',\n",
       " 'machine learning',\n",
       " 'python',\n",
       " 'html',\n",
       " 'big data',\n",
       " 'artificial intelligence']"
      ]
     },
     "execution_count": 16,
     "metadata": {},
     "output_type": "execute_result"
    }
   ],
   "source": [
    "# Define a first list\n",
    "course1 = ['data science', 'machine learning', 'python', 'html', 'big data' ]\n",
    "\n",
    "# Define a second list\n",
    "course2 = ['artificial intelligence']\n",
    "\n",
    "# Concatenate the list\n",
    "course1 + course2"
   ]
  },
  {
   "cell_type": "markdown",
   "metadata": {
    "id": "aRZIifjq4FeK"
   },
   "source": [
    "**Repetition(*)**<br>\n",
    "Uses the * Operator. Concatenates a list a repeated number of times."
   ]
  },
  {
   "cell_type": "code",
   "execution_count": 17,
   "metadata": {
    "id": "byNSDkK_4FeK",
    "outputId": "cdade008-814b-4933-b2f4-d9ad18de5f64"
   },
   "outputs": [
    {
     "data": {
      "text/plain": [
       "['data science',\n",
       " 'machine learning',\n",
       " 'python',\n",
       " 'html',\n",
       " 'big data',\n",
       " 'data science',\n",
       " 'machine learning',\n",
       " 'python',\n",
       " 'html',\n",
       " 'big data']"
      ]
     },
     "execution_count": 17,
     "metadata": {},
     "output_type": "execute_result"
    }
   ],
   "source": [
    "# Define a first list\n",
    "course1 = ['data science', 'machine learning', 'python', 'html', 'big data' ]\n",
    "\n",
    "course1*2"
   ]
  },
  {
   "cell_type": "markdown",
   "metadata": {
    "id": "KKo7uZuk4FeK"
   },
   "source": [
    "## **2. Introduction to Tuple**"
   ]
  },
  {
   "cell_type": "markdown",
   "metadata": {
    "id": "AsTVIam54FeK"
   },
   "source": [
    "### **Creating Tuple**\n",
    "Here, we are creating few tuples. We can have tuple of same type of data items as well as mixed type of data items."
   ]
  },
  {
   "cell_type": "code",
   "execution_count": 18,
   "metadata": {
    "id": "Ln8A1dm34FeK",
    "outputId": "cff7181e-6552-4d5e-a328-64cd3a8ae62a"
   },
   "outputs": [
    {
     "name": "stdout",
     "output_type": "stream",
     "text": [
      "(123, 2.228, 'hello python')\n"
     ]
    }
   ],
   "source": [
    "# Tuple of int, float, string\n",
    "my_tuple = (123, 2.228, \"hello python\")\n",
    "print(my_tuple)"
   ]
  },
  {
   "cell_type": "code",
   "execution_count": 19,
   "metadata": {
    "id": "oG5E9EuP4FeK",
    "outputId": "f949c582-0380-4e2e-85d8-347730079b31"
   },
   "outputs": [
    {
     "name": "stdout",
     "output_type": "stream",
     "text": [
      "('python', [12, 12, 31])\n"
     ]
    }
   ],
   "source": [
    "# Tuple of string and list\n",
    "my_tuple = (\"python\", [12, 12, 31])\n",
    "print(my_tuple)"
   ]
  },
  {
   "cell_type": "markdown",
   "metadata": {
    "id": "l4QAPfTA4FeK"
   },
   "source": [
    "### **Access Tuple Elements**\n",
    "We use indexes to access the elements of a tuple."
   ]
  },
  {
   "cell_type": "code",
   "execution_count": 20,
   "metadata": {
    "id": "KwD3ym204FeK",
    "outputId": "ac609548-05e2-4772-d40e-9065a2921be4"
   },
   "outputs": [
    {
     "data": {
      "text/plain": [
       "'yellow'"
      ]
     },
     "execution_count": 20,
     "metadata": {},
     "output_type": "execute_result"
    }
   ],
   "source": [
    "# Tuple of strings\n",
    "my_tuple = (\"mango\", \"yellow\", \"green\", \"blue\")\n",
    "\n",
    "# Access the second element from the list\n",
    "my_tuple[1]"
   ]
  },
  {
   "cell_type": "markdown",
   "metadata": {
    "id": "dJMq5hm44FeL"
   },
   "source": [
    "**Negetive Indexing**<br>\n",
    "Negative indexing means beginning from the end, -1 refers to the last item, -2 refers to the second last item of the tuple."
   ]
  },
  {
   "cell_type": "code",
   "execution_count": 21,
   "metadata": {
    "id": "k69ErmBI4FeL",
    "outputId": "0319cb08-c1b2-4e37-81fa-035db0b6034b"
   },
   "outputs": [
    {
     "data": {
      "text/plain": [
       "'blue'"
      ]
     },
     "execution_count": 21,
     "metadata": {},
     "output_type": "execute_result"
    }
   ],
   "source": [
    "# Tuple of strings\n",
    "my_tuple = (\"mango\", \"yellow\", \"green\", \"blue\")\n",
    "\n",
    "# Print last item of the tuple\n",
    "my_tuple[-1]"
   ]
  },
  {
   "cell_type": "markdown",
   "metadata": {
    "id": "c75CbGyS4FeL"
   },
   "source": [
    "### **Change Tuple Values**\n",
    "We cannot change the elements of a tuple because elements of tuple are immutable. However we can change the elements of nested items that are mutable."
   ]
  },
  {
   "cell_type": "code",
   "execution_count": 22,
   "metadata": {
    "id": "f0jVMqxN4FeL",
    "outputId": "5300f524-e332-4fcc-8570-7a349ad28318"
   },
   "outputs": [
    {
     "name": "stdout",
     "output_type": "stream",
     "text": [
      "(123, ['s', 'a', 'v'], 'World')\n",
      "(123, ['s', 'a', 99], 'World')\n"
     ]
    }
   ],
   "source": [
    "my_tuple = (123, ['s', 'a', 'v'], \"World\")\n",
    "print(my_tuple)\n",
    "\n",
    "# Changing the element of the list \n",
    "# This is valid because list is mutable\n",
    "my_tuple[1][2] = 99\n",
    "print(my_tuple)"
   ]
  },
  {
   "cell_type": "code",
   "execution_count": 23,
   "metadata": {
    "id": "hAGq9haE4FeL",
    "outputId": "fbfe0828-fb4d-4e06-e4f4-ebe99dfbd74e"
   },
   "outputs": [
    {
     "ename": "TypeError",
     "evalue": "'tuple' object does not support item assignment",
     "output_type": "error",
     "traceback": [
      "\u001b[1;31m---------------------------------------------------------------------------\u001b[0m",
      "\u001b[1;31mTypeError\u001b[0m                                 Traceback (most recent call last)",
      "\u001b[1;32mC:\\Users\\JAGADE~1\\AppData\\Local\\Temp/ipykernel_15088/2016477908.py\u001b[0m in \u001b[0;36m<module>\u001b[1;34m\u001b[0m\n\u001b[0;32m      4\u001b[0m \u001b[1;31m# changing the element of tuple\u001b[0m\u001b[1;33m\u001b[0m\u001b[1;33m\u001b[0m\u001b[0m\n\u001b[0;32m      5\u001b[0m \u001b[1;31m# This is not valid since tuple elements are immutable\u001b[0m\u001b[1;33m\u001b[0m\u001b[1;33m\u001b[0m\u001b[0m\n\u001b[1;32m----> 6\u001b[1;33m \u001b[0mmy_tuple\u001b[0m\u001b[1;33m[\u001b[0m\u001b[1;36m0\u001b[0m\u001b[1;33m]\u001b[0m \u001b[1;33m=\u001b[0m \u001b[1;34m'orange'\u001b[0m\u001b[1;33m\u001b[0m\u001b[1;33m\u001b[0m\u001b[0m\n\u001b[0m",
      "\u001b[1;31mTypeError\u001b[0m: 'tuple' object does not support item assignment"
     ]
    }
   ],
   "source": [
    "# Define the tuple\n",
    "my_tuple = (\"mango\", \"yellow\", \"green\", \"blue\", 353, 363.2, 'w')\n",
    "\n",
    "# Changing the element of tuple\n",
    "# This is not valid since tuple elements are immutable\n",
    "my_tuple[0] = 'orange'"
   ]
  },
  {
   "cell_type": "markdown",
   "metadata": {
    "id": "JCW0ryyT4FeL"
   },
   "source": [
    "### **Delete Operation on Tuple**\n",
    "We already discussed above that tuple elements are immutable which also means that we cannot delete the elements of a tuple. However deleting entire tuple is possible."
   ]
  },
  {
   "cell_type": "code",
   "execution_count": 24,
   "metadata": {
    "id": "CoRiXFg44FeL",
    "outputId": "b0515589-de10-4909-b9a5-519ba9549ac8"
   },
   "outputs": [
    {
     "ename": "TypeError",
     "evalue": "'tuple' object doesn't support item deletion",
     "output_type": "error",
     "traceback": [
      "\u001b[1;31m---------------------------------------------------------------------------\u001b[0m",
      "\u001b[1;31mTypeError\u001b[0m                                 Traceback (most recent call last)",
      "\u001b[1;32mC:\\Users\\JAGADE~1\\AppData\\Local\\Temp/ipykernel_15088/2107301621.py\u001b[0m in \u001b[0;36m<module>\u001b[1;34m\u001b[0m\n\u001b[0;32m      2\u001b[0m \u001b[0mmy_tuple\u001b[0m \u001b[1;33m=\u001b[0m \u001b[1;33m(\u001b[0m\u001b[1;34m\"mango\"\u001b[0m\u001b[1;33m,\u001b[0m \u001b[1;34m\"yellow\"\u001b[0m\u001b[1;33m,\u001b[0m \u001b[1;34m\"green\"\u001b[0m\u001b[1;33m,\u001b[0m \u001b[1;34m\"blue\"\u001b[0m\u001b[1;33m,\u001b[0m \u001b[1;36m353\u001b[0m\u001b[1;33m,\u001b[0m \u001b[1;36m363.2\u001b[0m\u001b[1;33m,\u001b[0m \u001b[1;34m'w'\u001b[0m\u001b[1;33m)\u001b[0m\u001b[1;33m\u001b[0m\u001b[1;33m\u001b[0m\u001b[0m\n\u001b[0;32m      3\u001b[0m \u001b[1;33m\u001b[0m\u001b[0m\n\u001b[1;32m----> 4\u001b[1;33m \u001b[1;32mdel\u001b[0m \u001b[0mmy_tuple\u001b[0m\u001b[1;33m[\u001b[0m\u001b[1;36m0\u001b[0m\u001b[1;33m]\u001b[0m\u001b[1;33m\u001b[0m\u001b[1;33m\u001b[0m\u001b[0m\n\u001b[0m",
      "\u001b[1;31mTypeError\u001b[0m: 'tuple' object doesn't support item deletion"
     ]
    }
   ],
   "source": [
    "# Define the tuple\n",
    "my_tuple = (\"mango\", \"yellow\", \"green\", \"blue\", 353, 363.2, 'w')\n",
    "\n",
    "del my_tuple[0]"
   ]
  },
  {
   "cell_type": "markdown",
   "metadata": {
    "id": "PCQOnvUi4FeL"
   },
   "source": [
    "### **Tuple Methods**"
   ]
  },
  {
   "cell_type": "markdown",
   "metadata": {
    "id": "ERVNQSwg4FeL"
   },
   "source": [
    "Python has three built-in methods that you can use on tuples:<br>\n",
    "count()<br>\n",
    "index()<br>\n",
    "sorted()"
   ]
  },
  {
   "cell_type": "markdown",
   "metadata": {
    "id": "zH5YV_hz4FeM"
   },
   "source": [
    "**count()**<br>\n",
    "Returns the number of times a specified value occurs in a tuple."
   ]
  },
  {
   "cell_type": "code",
   "execution_count": 25,
   "metadata": {
    "id": "DiXUr_Iu4FeM",
    "outputId": "1d93a4cb-054f-4ad9-d807-7d2abf814f80"
   },
   "outputs": [
    {
     "data": {
      "text/plain": [
       "4"
      ]
     },
     "execution_count": 25,
     "metadata": {},
     "output_type": "execute_result"
    }
   ],
   "source": [
    "my_tuple = ('a','p','p','l','e','e','d','e', 'd','e','a','c','w')\n",
    "my_tuple.count('e')"
   ]
  },
  {
   "cell_type": "markdown",
   "metadata": {
    "id": "XOYhnYaS4FeM"
   },
   "source": [
    "**index()**<br>\n",
    "Searches the tuple for a specified value and returns the position of where it was found."
   ]
  },
  {
   "cell_type": "code",
   "execution_count": 26,
   "metadata": {
    "id": "S7zFUE5K4FeM",
    "outputId": "a727e132-7df2-46af-fa70-4c4dde4887ff"
   },
   "outputs": [
    {
     "data": {
      "text/plain": [
       "3"
      ]
     },
     "execution_count": 26,
     "metadata": {},
     "output_type": "execute_result"
    }
   ],
   "source": [
    "my_tuple = ('a','p','p','l','e','e','d','e', 'd','e','a','c','w')\n",
    "my_tuple.index('l')"
   ]
  },
  {
   "cell_type": "markdown",
   "metadata": {
    "id": "TtazMK2Q4FeM"
   },
   "source": [
    "**sorted()**<br>\n",
    "It sorts a tuple and always returns a list with the elements in a sorted manner."
   ]
  },
  {
   "cell_type": "code",
   "execution_count": 27,
   "metadata": {
    "id": "OKpaDYzY4FeM",
    "outputId": "7717e956-7786-4077-ea61-f8873bc8726d"
   },
   "outputs": [
    {
     "data": {
      "text/plain": [
       "[2, 2, 3, 3, 4, 5, 6, 7, 8, 9, 9]"
      ]
     },
     "execution_count": 27,
     "metadata": {},
     "output_type": "execute_result"
    }
   ],
   "source": [
    "my_tuple = (2,3,5,6,4,7,8,9,9,2,3)\n",
    "sorted(my_tuple)"
   ]
  }
 ],
 "metadata": {
  "colab": {
   "name": "Reference Notebook - 02 (1).ipynb",
   "provenance": []
  },
  "kernelspec": {
   "display_name": "Python 3",
   "language": "python",
   "name": "python3"
  },
  "language_info": {
   "codemirror_mode": {
    "name": "ipython",
    "version": 3
   },
   "file_extension": ".py",
   "mimetype": "text/x-python",
   "name": "python",
   "nbconvert_exporter": "python",
   "pygments_lexer": "ipython3",
   "version": "3.6.13"
  }
 },
 "nbformat": 4,
 "nbformat_minor": 1
}
