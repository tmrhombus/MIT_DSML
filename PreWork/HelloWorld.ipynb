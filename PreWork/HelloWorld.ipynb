{
 "cells": [
  {
   "cell_type": "markdown",
   "id": "e2616920",
   "metadata": {},
   "source": [
    "Introduction to Python"
   ]
  },
  {
   "cell_type": "markdown",
   "id": "43dd33da-a2f7-49f0-bafe-7e6b90c60b7d",
   "metadata": {},
   "source": [
    "Here's a comment"
   ]
  },
  {
   "cell_type": "code",
   "execution_count": 1,
   "id": "534ee648",
   "metadata": {},
   "outputs": [],
   "source": [
    "_candy = 5"
   ]
  },
  {
   "cell_type": "code",
   "execution_count": 2,
   "id": "38b37cad",
   "metadata": {},
   "outputs": [
    {
     "data": {
      "text/plain": [
       "5"
      ]
     },
     "execution_count": 2,
     "metadata": {},
     "output_type": "execute_result"
    }
   ],
   "source": [
    "_candy"
   ]
  },
  {
   "cell_type": "code",
   "execution_count": 3,
   "id": "a2d14e06",
   "metadata": {},
   "outputs": [
    {
     "ename": "SyntaxError",
     "evalue": "invalid syntax (1014976888.py, line 1)",
     "output_type": "error",
     "traceback": [
      "\u001b[0;36m  Input \u001b[0;32mIn [3]\u001b[0;36m\u001b[0m\n\u001b[0;31m    1st_line = 5\u001b[0m\n\u001b[0m     ^\u001b[0m\n\u001b[0;31mSyntaxError\u001b[0m\u001b[0;31m:\u001b[0m invalid syntax\n"
     ]
    }
   ],
   "source": [
    "1st_line = 5\n"
   ]
  },
  {
   "cell_type": "code",
   "execution_count": 4,
   "id": "dc46e40e",
   "metadata": {},
   "outputs": [
    {
     "data": {
      "text/plain": [
       "'pythonpython'"
      ]
     },
     "execution_count": 4,
     "metadata": {},
     "output_type": "execute_result"
    }
   ],
   "source": [
    "language = 'python'\n",
    "\n",
    "language*2"
   ]
  },
  {
   "cell_type": "code",
   "execution_count": 5,
   "id": "0f821933",
   "metadata": {},
   "outputs": [],
   "source": [
    "str1=\"helloworld\""
   ]
  },
  {
   "cell_type": "code",
   "execution_count": 7,
   "id": "fd74233a",
   "metadata": {},
   "outputs": [
    {
     "data": {
      "text/plain": [
       "'helloworl'"
      ]
     },
     "execution_count": 7,
     "metadata": {},
     "output_type": "execute_result"
    }
   ],
   "source": [
    "str1[:-1]"
   ]
  },
  {
   "cell_type": "code",
   "execution_count": 8,
   "id": "b8ee6399",
   "metadata": {},
   "outputs": [
    {
     "data": {
      "text/plain": [
       "'PythonPython'"
      ]
     },
     "execution_count": 8,
     "metadata": {},
     "output_type": "execute_result"
    }
   ],
   "source": [
    "string = \"Python\"\n",
    "string*2"
   ]
  },
  {
   "cell_type": "code",
   "execution_count": 9,
   "id": "8a660ef5",
   "metadata": {},
   "outputs": [
    {
     "data": {
      "text/plain": [
       "'PythonPython'"
      ]
     },
     "execution_count": 9,
     "metadata": {},
     "output_type": "execute_result"
    }
   ],
   "source": [
    "string = \"Python\"\n",
    "string+string"
   ]
  },
  {
   "cell_type": "code",
   "execution_count": 11,
   "id": "920f480a",
   "metadata": {},
   "outputs": [
    {
     "data": {
      "text/plain": [
       "'B'"
      ]
     },
     "execution_count": 11,
     "metadata": {},
     "output_type": "execute_result"
    }
   ],
   "source": [
    "var=\"ABCD\"\n",
    "var[1]\n"
   ]
  },
  {
   "cell_type": "code",
   "execution_count": 12,
   "id": "0b169355",
   "metadata": {},
   "outputs": [
    {
     "data": {
      "text/plain": [
       "1"
      ]
     },
     "execution_count": 12,
     "metadata": {},
     "output_type": "execute_result"
    }
   ],
   "source": [
    "True + False"
   ]
  },
  {
   "cell_type": "code",
   "execution_count": 13,
   "id": "69277375",
   "metadata": {},
   "outputs": [
    {
     "data": {
      "text/plain": [
       "bool"
      ]
     },
     "execution_count": 13,
     "metadata": {},
     "output_type": "execute_result"
    }
   ],
   "source": [
    "var1 = 10\n",
    "var2 = 88\n",
    "var3 = (var1 > var2)\n",
    "type(var3)"
   ]
  },
  {
   "cell_type": "code",
   "execution_count": 14,
   "id": "dc3ab5ef",
   "metadata": {},
   "outputs": [
    {
     "data": {
      "text/plain": [
       "True"
      ]
     },
     "execution_count": 14,
     "metadata": {},
     "output_type": "execute_result"
    }
   ],
   "source": [
    "5 == 5.0"
   ]
  },
  {
   "cell_type": "code",
   "execution_count": 15,
   "id": "575c35b9",
   "metadata": {},
   "outputs": [
    {
     "name": "stdout",
     "output_type": "stream",
     "text": [
      "15 happy!\n"
     ]
    }
   ],
   "source": [
    "pp = str(int(7 + 8.0))\n",
    "print(pp + \" happy\" + \"!\")"
   ]
  },
  {
   "cell_type": "code",
   "execution_count": 16,
   "id": "0a8b71cd",
   "metadata": {},
   "outputs": [
    {
     "data": {
      "text/plain": [
       "15.0"
      ]
     },
     "execution_count": 16,
     "metadata": {},
     "output_type": "execute_result"
    }
   ],
   "source": [
    "\n",
    "\n",
    "float(\"15\")\n",
    "\n"
   ]
  },
  {
   "cell_type": "code",
   "execution_count": 17,
   "id": "a39ee31e",
   "metadata": {},
   "outputs": [
    {
     "ename": "SyntaxError",
     "evalue": "invalid syntax (3449611317.py, line 1)",
     "output_type": "error",
     "traceback": [
      "\u001b[0;36m  Input \u001b[0;32mIn [17]\u001b[0;36m\u001b[0m\n\u001b[0;31m    print(Hello world)\u001b[0m\n\u001b[0m                ^\u001b[0m\n\u001b[0;31mSyntaxError\u001b[0m\u001b[0;31m:\u001b[0m invalid syntax\n"
     ]
    }
   ],
   "source": [
    "print(Hello world)"
   ]
  },
  {
   "cell_type": "code",
   "execution_count": 18,
   "id": "6dfbf214",
   "metadata": {},
   "outputs": [],
   "source": [
    "a=2\n",
    "# print(a)"
   ]
  },
  {
   "cell_type": "code",
   "execution_count": 19,
   "id": "ca9824e1",
   "metadata": {},
   "outputs": [
    {
     "name": "stdout",
     "output_type": "stream",
     "text": [
      "England\n",
      "South Africa\n",
      "India\n"
     ]
    }
   ],
   "source": [
    "print(\"England\\nSouth Africa\\nIndia\")"
   ]
  },
  {
   "cell_type": "code",
   "execution_count": 25,
   "id": "d7c52479",
   "metadata": {},
   "outputs": [
    {
     "name": "stdout",
     "output_type": "stream",
     "text": [
      "8\n"
     ]
    }
   ],
   "source": [
    "num_1 = 2\n",
    "num_2 = 3\n",
    "print(num_1**num_2)"
   ]
  },
  {
   "cell_type": "code",
   "execution_count": 26,
   "id": "d880a296",
   "metadata": {},
   "outputs": [
    {
     "data": {
      "text/plain": [
       "4"
      ]
     },
     "execution_count": 26,
     "metadata": {},
     "output_type": "execute_result"
    }
   ],
   "source": [
    "( 14 % 2 ) + 4"
   ]
  },
  {
   "cell_type": "code",
   "execution_count": 27,
   "id": "b4bfd24c",
   "metadata": {},
   "outputs": [
    {
     "data": {
      "text/plain": [
       "1"
      ]
     },
     "execution_count": 27,
     "metadata": {},
     "output_type": "execute_result"
    }
   ],
   "source": [
    "(10 % 3)"
   ]
  },
  {
   "cell_type": "code",
   "execution_count": 28,
   "id": "2eb35241",
   "metadata": {},
   "outputs": [
    {
     "data": {
      "text/plain": [
       "True"
      ]
     },
     "execution_count": 28,
     "metadata": {},
     "output_type": "execute_result"
    }
   ],
   "source": [
    "27/2 == 13.5"
   ]
  },
  {
   "cell_type": "code",
   "execution_count": 29,
   "id": "7d3805fa",
   "metadata": {},
   "outputs": [
    {
     "data": {
      "text/plain": [
       "True"
      ]
     },
     "execution_count": 29,
     "metadata": {},
     "output_type": "execute_result"
    }
   ],
   "source": [
    " (4/2 !=2) == False"
   ]
  },
  {
   "cell_type": "code",
   "execution_count": 31,
   "id": "54fe9cf4",
   "metadata": {},
   "outputs": [
    {
     "data": {
      "text/plain": [
       "2"
      ]
     },
     "execution_count": 31,
     "metadata": {},
     "output_type": "execute_result"
    }
   ],
   "source": [
    "A,B,C,D = 21,8,20,5\n",
    "( A % B ) + ( C // B ) - D"
   ]
  },
  {
   "cell_type": "code",
   "execution_count": 33,
   "id": "c934feeb",
   "metadata": {},
   "outputs": [
    {
     "data": {
      "text/plain": [
       "False"
      ]
     },
     "execution_count": 33,
     "metadata": {},
     "output_type": "execute_result"
    }
   ],
   "source": [
    "3%2 > 1 and 4/2 == 2"
   ]
  },
  {
   "cell_type": "code",
   "execution_count": 34,
   "id": "6328dc56",
   "metadata": {},
   "outputs": [
    {
     "data": {
      "text/plain": [
       "True"
      ]
     },
     "execution_count": 34,
     "metadata": {},
     "output_type": "execute_result"
    }
   ],
   "source": [
    "5%2 > 1 or 8/2 != 2"
   ]
  },
  {
   "cell_type": "code",
   "execution_count": 1,
   "id": "889c84c8",
   "metadata": {},
   "outputs": [
    {
     "data": {
      "text/plain": [
       "False"
      ]
     },
     "execution_count": 1,
     "metadata": {},
     "output_type": "execute_result"
    }
   ],
   "source": [
    "3 == 2 and 1 != 2"
   ]
  },
  {
   "cell_type": "code",
   "execution_count": 40,
   "id": "02cad7e1",
   "metadata": {},
   "outputs": [],
   "source": [
    "ele = [\"Data Science\", \"Machine Learning\", \"Great Learning\"]"
   ]
  },
  {
   "cell_type": "code",
   "execution_count": 38,
   "id": "882f8981",
   "metadata": {},
   "outputs": [
    {
     "data": {
      "text/plain": [
       "0"
      ]
     },
     "execution_count": 38,
     "metadata": {},
     "output_type": "execute_result"
    }
   ],
   "source": [
    "D = [0 , 1 , 2 , 3 , 0 , 1 , 2 , 3 , 4]\n",
    "D[D[0]]"
   ]
  },
  {
   "cell_type": "code",
   "execution_count": 39,
   "id": "f23eb077",
   "metadata": {},
   "outputs": [
    {
     "data": {
      "text/plain": [
       "'Strawberry'"
      ]
     },
     "execution_count": 39,
     "metadata": {},
     "output_type": "execute_result"
    }
   ],
   "source": [
    "fruits = ['Apple','Oranges','Strawberry']\n",
    "fruits[-1]"
   ]
  },
  {
   "cell_type": "code",
   "execution_count": 41,
   "id": "16960895",
   "metadata": {},
   "outputs": [
    {
     "data": {
      "text/plain": [
       "'Machine Learning'"
      ]
     },
     "execution_count": 41,
     "metadata": {},
     "output_type": "execute_result"
    }
   ],
   "source": [
    "ele[1]"
   ]
  },
  {
   "cell_type": "code",
   "execution_count": 42,
   "id": "589b000b",
   "metadata": {},
   "outputs": [
    {
     "data": {
      "text/plain": [
       "'Machine Learning'"
      ]
     },
     "execution_count": 42,
     "metadata": {},
     "output_type": "execute_result"
    }
   ],
   "source": [
    "ele[-2]"
   ]
  },
  {
   "cell_type": "code",
   "execution_count": 43,
   "id": "0cd7a01f",
   "metadata": {},
   "outputs": [
    {
     "name": "stdout",
     "output_type": "stream",
     "text": [
      "[0, 0, 1, 1, 2, 2, 3, 0]\n"
     ]
    }
   ],
   "source": [
    "D = [0 , 1 , 2 , 3 , 0 , 1 , 2 , 3 , 4]\n",
    "print(D[0:1] + D[:2] + D[1:3] + D[2:4] + D[-5:-4])"
   ]
  },
  {
   "cell_type": "code",
   "execution_count": 44,
   "id": "eb7cd382",
   "metadata": {},
   "outputs": [
    {
     "data": {
      "text/plain": [
       "[34, 'Great', 60.7, True]"
      ]
     },
     "execution_count": 44,
     "metadata": {},
     "output_type": "execute_result"
    }
   ],
   "source": [
    "my_list = [34, \"Great\", 60.7, True, \"Data\"]\n",
    "my_list[:4]"
   ]
  },
  {
   "cell_type": "code",
   "execution_count": 45,
   "id": "8eadad17",
   "metadata": {},
   "outputs": [
    {
     "name": "stdout",
     "output_type": "stream",
     "text": [
      "[0, 1, 2, 3, 4, 'a', 'b', 'c', 'd', 'e']\n"
     ]
    }
   ],
   "source": [
    "a='abcde'\n",
    "b = list(a)\n",
    "c = list(range(len(a)))\n",
    "c.extend(b)\n",
    "print(c)"
   ]
  },
  {
   "cell_type": "code",
   "execution_count": 46,
   "id": "d5fb2a15",
   "metadata": {},
   "outputs": [
    {
     "name": "stdout",
     "output_type": "stream",
     "text": [
      "[0, 1, 2, 3, 4, ['a', 'b', 'c', 'd', 'e']]\n"
     ]
    }
   ],
   "source": [
    "a='abcde'\n",
    "b = list(a)\n",
    "c = list(range(len(a)))\n",
    "c.append(b)\n",
    "print(c)"
   ]
  },
  {
   "cell_type": "code",
   "execution_count": 48,
   "id": "2e86e4f7",
   "metadata": {},
   "outputs": [
    {
     "data": {
      "text/plain": [
       "[34, 'Great', 'Hi', 60.7, True, 'Data']"
      ]
     },
     "execution_count": 48,
     "metadata": {},
     "output_type": "execute_result"
    }
   ],
   "source": [
    "my_list = [34, \"Great\", 60.7, True, \"Data\"]\n",
    "my_list.insert(2, \"Hi\")\n",
    "my_list"
   ]
  },
  {
   "cell_type": "code",
   "execution_count": 49,
   "id": "7132d742",
   "metadata": {},
   "outputs": [
    {
     "data": {
      "text/plain": [
       "[34, 60.7, True, 'Data', 'Great']"
      ]
     },
     "execution_count": 49,
     "metadata": {},
     "output_type": "execute_result"
    }
   ],
   "source": [
    "my_list = [34, \"Great\", 60.7, True, \"Data\", \"Great\"]\n",
    "my_list.remove(\"Great\")\n",
    "my_list"
   ]
  },
  {
   "cell_type": "code",
   "execution_count": 50,
   "id": "018b830f",
   "metadata": {},
   "outputs": [
    {
     "name": "stdout",
     "output_type": "stream",
     "text": [
      "['a', 'b', 'c', 'd', 'f']\n"
     ]
    }
   ],
   "source": [
    "a = ['a','b'] \n",
    "b = ['c','d'] \n",
    "c = 'f' \n",
    "d = list(c)\n",
    "print(a+b+d)"
   ]
  },
  {
   "cell_type": "code",
   "execution_count": 51,
   "id": "ffa9d109",
   "metadata": {},
   "outputs": [
    {
     "data": {
      "text/plain": [
       "5"
      ]
     },
     "execution_count": 51,
     "metadata": {},
     "output_type": "execute_result"
    }
   ],
   "source": [
    "A= (1,2,3,4,5)\n",
    "A[-1]"
   ]
  },
  {
   "cell_type": "code",
   "execution_count": 52,
   "id": "cdac62c1",
   "metadata": {},
   "outputs": [
    {
     "data": {
      "text/plain": [
       "False"
      ]
     },
     "execution_count": 52,
     "metadata": {},
     "output_type": "execute_result"
    }
   ],
   "source": [
    "my_tuple = (\"Hi\", 56, False, 21)\n",
    "my_tuple[-2]"
   ]
  },
  {
   "cell_type": "code",
   "execution_count": 53,
   "id": "f71c7401",
   "metadata": {},
   "outputs": [
    {
     "data": {
      "text/plain": [
       "5"
      ]
     },
     "execution_count": 53,
     "metadata": {},
     "output_type": "execute_result"
    }
   ],
   "source": [
    "X= (1,2,3,4,5)\n",
    "X[X[-2]]"
   ]
  },
  {
   "cell_type": "code",
   "execution_count": 54,
   "id": "f18f3b04",
   "metadata": {},
   "outputs": [
    {
     "name": "stdout",
     "output_type": "stream",
     "text": [
      "4\n"
     ]
    }
   ],
   "source": [
    "a=(1,2,3,4,5)\n",
    "\n",
    "print(a[-2])"
   ]
  },
  {
   "cell_type": "code",
   "execution_count": 55,
   "id": "a82a8bb0",
   "metadata": {},
   "outputs": [
    {
     "name": "stdout",
     "output_type": "stream",
     "text": [
      "(1, 2, [1, 2, 3], 4)\n"
     ]
    }
   ],
   "source": [
    "a=(1, 2, [1,2,4], 4)\n",
    "\n",
    "a[-2][-1]=3\n",
    "\n",
    "print(a)"
   ]
  },
  {
   "cell_type": "code",
   "execution_count": 56,
   "id": "5f2ea829",
   "metadata": {},
   "outputs": [
    {
     "name": "stdout",
     "output_type": "stream",
     "text": [
      "e\n"
     ]
    }
   ],
   "source": [
    "letters = ('a', 'b', 'c', 'd', 'e')\n",
    "index = letters.index('b')\n",
    "print(letters[len(letters) - index])"
   ]
  },
  {
   "cell_type": "code",
   "execution_count": 57,
   "id": "434b472f",
   "metadata": {},
   "outputs": [
    {
     "name": "stdout",
     "output_type": "stream",
     "text": [
      "b\n"
     ]
    }
   ],
   "source": [
    "letters = ('a', 'b', 'c', 'd', 'e')\n",
    "index = letters.count('e')\n",
    "print(letters[index])"
   ]
  },
  {
   "cell_type": "code",
   "execution_count": 58,
   "id": "9ed7c880",
   "metadata": {},
   "outputs": [],
   "source": [
    "my_tuple = (34, \"Great\", 60.7, True, \"Data\", \"Great\")"
   ]
  },
  {
   "cell_type": "code",
   "execution_count": 59,
   "id": "9d48dd51",
   "metadata": {},
   "outputs": [
    {
     "data": {
      "text/plain": [
       "2"
      ]
     },
     "execution_count": 59,
     "metadata": {},
     "output_type": "execute_result"
    }
   ],
   "source": [
    "my_tuple.count(\"Great\")"
   ]
  },
  {
   "cell_type": "code",
   "execution_count": 60,
   "id": "ed133567",
   "metadata": {},
   "outputs": [
    {
     "data": {
      "text/plain": [
       "0"
      ]
     },
     "execution_count": 60,
     "metadata": {},
     "output_type": "execute_result"
    }
   ],
   "source": [
    "my_tuple.index(34)"
   ]
  },
  {
   "cell_type": "code",
   "execution_count": 61,
   "id": "f54ebd79",
   "metadata": {},
   "outputs": [],
   "source": [
    "d={1:2, 3:4}"
   ]
  },
  {
   "cell_type": "code",
   "execution_count": 62,
   "id": "b858954e",
   "metadata": {},
   "outputs": [
    {
     "data": {
      "text/plain": [
       "dict"
      ]
     },
     "execution_count": 62,
     "metadata": {},
     "output_type": "execute_result"
    }
   ],
   "source": [
    "type(d)"
   ]
  },
  {
   "cell_type": "code",
   "execution_count": 63,
   "id": "1023e857",
   "metadata": {},
   "outputs": [
    {
     "name": "stdout",
     "output_type": "stream",
     "text": [
      "{0: [], 1: [1], 2: [2, 2], 3: [3, 3, 3]}\n"
     ]
    }
   ],
   "source": [
    "Dict = { 0 : [], 1 : [1], 2: [2, 2], 3: [3, 3, 3]}\n",
    "print(Dict)"
   ]
  },
  {
   "cell_type": "code",
   "execution_count": 66,
   "id": "6b5a63b9",
   "metadata": {},
   "outputs": [
    {
     "name": "stdout",
     "output_type": "stream",
     "text": [
      "A2\n"
     ]
    }
   ],
   "source": [
    "Dict = {'A1': 'A1','A2': 'A2','A3': {'A1': 'A1','A2': 'A2','A3': 'A3'}}\n",
    "print(Dict['A2'])"
   ]
  },
  {
   "cell_type": "code",
   "execution_count": 67,
   "id": "d10ada31",
   "metadata": {},
   "outputs": [
    {
     "name": "stdout",
     "output_type": "stream",
     "text": [
      "A3\n"
     ]
    }
   ],
   "source": [
    "Dict = {'A1': 'A1','A2': 'A2','A3': {'A1': 'A1','A2': 'A2','A3': 'A3'}}\n",
    "print(Dict['A3']['A3'])"
   ]
  },
  {
   "cell_type": "code",
   "execution_count": 68,
   "id": "3466f568",
   "metadata": {},
   "outputs": [],
   "source": [
    "dict = {\n",
    " \"Name\": \"John\",\n",
    " \"Sex\": \"Male\",\n",
    " \"Age\": 25\n",
    "}"
   ]
  },
  {
   "cell_type": "code",
   "execution_count": 69,
   "id": "a77701e4",
   "metadata": {},
   "outputs": [
    {
     "name": "stdout",
     "output_type": "stream",
     "text": [
      "{'Name': 'John', 'Sex': 'Male', 'Age': 50}\n"
     ]
    }
   ],
   "source": [
    "dict[\"Age\"] = 50\n",
    "print(dict)"
   ]
  },
  {
   "cell_type": "code",
   "execution_count": 70,
   "id": "ca73241b",
   "metadata": {},
   "outputs": [
    {
     "name": "stdout",
     "output_type": "stream",
     "text": [
      "{1: [1], 2: [2, 2, 2], 3: {3: [3, 3, 3, 2]}}\n"
     ]
    }
   ],
   "source": [
    "Dict = {1 : [1], 2 : [2, 2, 2], 3 : {3 :[3, 3, 3, 3]}}\n",
    "Dict[3][3][3] = 2\n",
    "print(Dict)"
   ]
  },
  {
   "cell_type": "code",
   "execution_count": 71,
   "id": "0a4d70cb",
   "metadata": {},
   "outputs": [
    {
     "data": {
      "text/plain": [
       "{1: 'USA', 2: 'Russia', 3: 'Japan', 4: 'China'}"
      ]
     },
     "execution_count": 71,
     "metadata": {},
     "output_type": "execute_result"
    }
   ],
   "source": [
    "data_1 = {1:\"USA\", 2:\"India\", 3:\"Japan\", 4:\"China\"}\n",
    "data_1[2] = \"Russia\"\n",
    "data_1"
   ]
  },
  {
   "cell_type": "code",
   "execution_count": 72,
   "id": "690cd45c",
   "metadata": {},
   "outputs": [
    {
     "data": {
      "text/plain": [
       "2"
      ]
     },
     "execution_count": 72,
     "metadata": {},
     "output_type": "execute_result"
    }
   ],
   "source": [
    "d={ \"Name\": \"John\", \"Sex\": \"Male\"}\n",
    "len(d)"
   ]
  },
  {
   "cell_type": "code",
   "execution_count": 1,
   "id": "a785cabe",
   "metadata": {},
   "outputs": [
    {
     "name": "stdout",
     "output_type": "stream",
     "text": [
      "{}\n"
     ]
    }
   ],
   "source": [
    "A = {}\n",
    "A1 = A\n",
    "A.update(A1)\n",
    "print(A)"
   ]
  },
  {
   "cell_type": "code",
   "execution_count": 2,
   "id": "99235cf6",
   "metadata": {},
   "outputs": [
    {
     "data": {
      "text/plain": [
       "['A', 'B', 'C']"
      ]
     },
     "execution_count": 2,
     "metadata": {},
     "output_type": "execute_result"
    }
   ],
   "source": [
    "A = {'A':1,'C':2,'B':3}\n",
    "sorted(A)"
   ]
  },
  {
   "cell_type": "code",
   "execution_count": 3,
   "id": "72c1ac33",
   "metadata": {},
   "outputs": [
    {
     "name": "stdout",
     "output_type": "stream",
     "text": [
      "{'B': 2, 'C': 3}\n"
     ]
    }
   ],
   "source": [
    "A = {'A':1,'B':2,'C':3}\n",
    "B = A\n",
    "del B['A']\n",
    "print(A)"
   ]
  },
  {
   "cell_type": "code",
   "execution_count": 1,
   "id": "0511ed57",
   "metadata": {},
   "outputs": [
    {
     "name": "stdout",
     "output_type": "stream",
     "text": [
      "[{'a'}, {'b'}, {'c'}]\n"
     ]
    }
   ],
   "source": [
    "A = ['a']\n",
    "B = ['b']\n",
    "C = ['c']\n",
    "output = [set(A),set(B),set(C)]\n",
    "print(output)"
   ]
  },
  {
   "cell_type": "code",
   "execution_count": 2,
   "id": "64fa45a2",
   "metadata": {},
   "outputs": [
    {
     "data": {
      "text/plain": [
       "{3, 4, 6, 7, 8}"
      ]
     },
     "execution_count": 2,
     "metadata": {},
     "output_type": "execute_result"
    }
   ],
   "source": [
    "set_1 = {4, 3, 7, 4, 6, 8, 4}\n",
    "set_1"
   ]
  },
  {
   "cell_type": "code",
   "execution_count": 4,
   "id": "51f11e8b",
   "metadata": {},
   "outputs": [
    {
     "data": {
      "text/plain": [
       "{1, 2, '2', 5, 7, 8, 9}"
      ]
     },
     "execution_count": 4,
     "metadata": {},
     "output_type": "execute_result"
    }
   ],
   "source": [
    "l = [1, 2, 8, 5, 7, \"2\", 9]\n",
    "set(l)"
   ]
  },
  {
   "cell_type": "code",
   "execution_count": 5,
   "id": "6b9ffc86",
   "metadata": {},
   "outputs": [
    {
     "name": "stdout",
     "output_type": "stream",
     "text": [
      "True\n"
     ]
    }
   ],
   "source": [
    "A = (3,4,5)\n",
    "if A[1] == 8/2:\n",
    "    print('True')\n",
    "else:\n",
    "    print('False')"
   ]
  },
  {
   "cell_type": "code",
   "execution_count": 7,
   "id": "9b9bcada",
   "metadata": {},
   "outputs": [
    {
     "name": "stdout",
     "output_type": "stream",
     "text": [
      "True\n"
     ]
    }
   ],
   "source": [
    "a = 10\n",
    "b = 50\n",
    "if a>b:\n",
    " print(\"False\")\n",
    "else:\n",
    " print(\"True\")"
   ]
  },
  {
   "cell_type": "code",
   "execution_count": 8,
   "id": "684fd5e7",
   "metadata": {},
   "outputs": [
    {
     "name": "stdout",
     "output_type": "stream",
     "text": [
      "i = 1\n",
      "i = 2\n",
      "i = 3\n",
      "i = 4\n",
      "i = 5\n"
     ]
    }
   ],
   "source": [
    "list_1 = [1, 2, 3, 4, 5]\n",
    "for i in list_1:\n",
    "  print(\"i =\", i)"
   ]
  },
  {
   "cell_type": "code",
   "execution_count": 9,
   "id": "5c71fc9a",
   "metadata": {},
   "outputs": [
    {
     "name": "stdout",
     "output_type": "stream",
     "text": [
      "00\n",
      "11\n",
      "22\n",
      "33\n",
      "44\n",
      "55\n",
      "66\n"
     ]
    }
   ],
   "source": [
    "A = 'ABCDEFG'\n",
    "\n",
    "for i in range(len(A)):\n",
    "    print(str(i)*2)"
   ]
  },
  {
   "cell_type": "code",
   "execution_count": 10,
   "id": "f0065e5a",
   "metadata": {},
   "outputs": [
    {
     "name": "stdout",
     "output_type": "stream",
     "text": [
      "The multiplication is = 120\n"
     ]
    }
   ],
   "source": [
    "list_1 = [1, 2, 3, 4, 5]\n",
    "mul = 1\n",
    "for i in list_1:\n",
    "  mul = mul*i\n",
    "print(\"The multiplication is =\", mul)"
   ]
  },
  {
   "cell_type": "code",
   "execution_count": 11,
   "id": "d1603181",
   "metadata": {},
   "outputs": [
    {
     "name": "stdout",
     "output_type": "stream",
     "text": [
      "The sum is = 15\n"
     ]
    }
   ],
   "source": [
    "sum = 0\n",
    "i=1\n",
    "while i<6:\n",
    "  sum = sum + i\n",
    "  i += 1\n",
    "print(\"The sum is =\", sum)"
   ]
  },
  {
   "cell_type": "code",
   "execution_count": 12,
   "id": "1f2766b8",
   "metadata": {},
   "outputs": [
    {
     "name": "stdout",
     "output_type": "stream",
     "text": [
      "\n",
      "B\n",
      "CC\n",
      "DDD\n",
      "EEEE\n",
      "FFFFF\n",
      "GGGGGG\n"
     ]
    }
   ],
   "source": [
    "A = 'ABCDEFG'\n",
    "\n",
    "for i in range(len(A)):\n",
    "    print(A[i]*i)"
   ]
  },
  {
   "cell_type": "code",
   "execution_count": 15,
   "id": "dff48ad0",
   "metadata": {},
   "outputs": [
    {
     "name": "stdout",
     "output_type": "stream",
     "text": [
      "i=0 i%2=0\n",
      "0\n",
      "i=1 i%2=1\n"
     ]
    }
   ],
   "source": [
    "A = 'abcde'\n",
    "\n",
    "for i in range(len(A)):\n",
    "    print(\"i={} i%2={}\".format(i,i%2))\n",
    "    if i%2==0:\n",
    "        print(i)\n",
    "    else:\n",
    "        break"
   ]
  },
  {
   "cell_type": "code",
   "execution_count": 16,
   "id": "1a15d9e5",
   "metadata": {},
   "outputs": [
    {
     "name": "stdout",
     "output_type": "stream",
     "text": [
      "0\n"
     ]
    }
   ],
   "source": [
    "A = '0123'\n",
    "\n",
    "for i in range(len(A)):\n",
    "    if i%2==0:\n",
    "        print(A[i])\n",
    "    else:\n",
    "        break"
   ]
  },
  {
   "cell_type": "code",
   "execution_count": 19,
   "id": "8f37a771",
   "metadata": {},
   "outputs": [
    {
     "name": "stdout",
     "output_type": "stream",
     "text": [
      "0\n",
      "1\n"
     ]
    }
   ],
   "source": [
    "l = [0, 1, 2, 3, 4]\n",
    "\n",
    "for i in l:\n",
    "     print(i)\n",
    "     if i%2 == 0:\n",
    "        continue\n",
    "     break"
   ]
  },
  {
   "cell_type": "code",
   "execution_count": 20,
   "id": "07275f06",
   "metadata": {},
   "outputs": [
    {
     "name": "stdout",
     "output_type": "stream",
     "text": [
      "0\n"
     ]
    }
   ],
   "source": [
    "A = 'abcde'\n",
    "\n",
    "for i in range(len(A)):\n",
    "    if i%2==0:\n",
    "        print(i)\n",
    "    else:\n",
    "        break"
   ]
  },
  {
   "cell_type": "code",
   "execution_count": 21,
   "id": "190f887d",
   "metadata": {},
   "outputs": [
    {
     "name": "stdout",
     "output_type": "stream",
     "text": [
      "0\n"
     ]
    }
   ],
   "source": [
    "A = '0123'\n",
    "\n",
    "for i in range(len(A)):\n",
    "    if i%2==0:\n",
    "        print(A[i])\n",
    "    else:\n",
    "        break"
   ]
  },
  {
   "cell_type": "code",
   "execution_count": 22,
   "id": "dc5c2409",
   "metadata": {},
   "outputs": [
    {
     "name": "stdout",
     "output_type": "stream",
     "text": [
      "1\n",
      "2\n",
      "3\n"
     ]
    }
   ],
   "source": [
    "list_1 = [1, 2, 3, 4, 5]\n",
    "for val in list_1:\n",
    "  if val == 4:\n",
    "    break\n",
    "  print(val)"
   ]
  },
  {
   "cell_type": "code",
   "execution_count": 24,
   "id": "25523a00",
   "metadata": {},
   "outputs": [
    {
     "name": "stdout",
     "output_type": "stream",
     "text": [
      "0\n",
      "1\n"
     ]
    }
   ],
   "source": [
    "l = [0, 1, 2, 3, 4]\n",
    "\n",
    "for i in l:\n",
    "     print(i)\n",
    "     if i%2 == 0:\n",
    "        continue\n",
    "     break"
   ]
  },
  {
   "cell_type": "code",
   "execution_count": 25,
   "id": "a710fe03",
   "metadata": {},
   "outputs": [
    {
     "name": "stdout",
     "output_type": "stream",
     "text": [
      "Name\n"
     ]
    }
   ],
   "source": [
    "def Name():\n",
    "   A=Name\n",
    "   print('Name')\n",
    "Name()"
   ]
  },
  {
   "cell_type": "code",
   "execution_count": 27,
   "id": "6c6bd581",
   "metadata": {},
   "outputs": [
    {
     "name": "stdout",
     "output_type": "stream",
     "text": [
      "It is  0\n",
      "It is  1\n",
      "It is  2\n",
      "It is  3\n",
      "It is  4\n"
     ]
    }
   ],
   "source": [
    "a = '01234'\n",
    "\n",
    "def ABC(a):\n",
    "    for i in range(len(a)):\n",
    "        print('It is ',str(i))\n",
    "\n",
    "b ='ABCDE'\n",
    "ABC(b)"
   ]
  },
  {
   "cell_type": "code",
   "execution_count": 28,
   "id": "d8541851",
   "metadata": {},
   "outputs": [
    {
     "name": "stdout",
     "output_type": "stream",
     "text": [
      "It is  A\n",
      "It is  B\n",
      "It is  C\n",
      "It is  D\n",
      "It is  E\n"
     ]
    }
   ],
   "source": [
    "def ABC(a):\n",
    "    a = 'ABCDE'\n",
    "    for i in a:\n",
    "        print('It is ',str(i))\n",
    "\n",
    "b ='01234'\n",
    "ABC(b)"
   ]
  },
  {
   "cell_type": "code",
   "execution_count": 29,
   "id": "4a8a397a",
   "metadata": {},
   "outputs": [
    {
     "name": "stdout",
     "output_type": "stream",
     "text": [
      "30\n",
      "None\n"
     ]
    }
   ],
   "source": [
    "def multiply(a, b):\n",
    "    print(a*b)\n",
    "mul = multiply(5, 6)\n",
    "print(mul)"
   ]
  },
  {
   "cell_type": "code",
   "execution_count": 30,
   "id": "e30f6f53",
   "metadata": {},
   "outputs": [
    {
     "data": {
      "text/plain": [
       "250.0"
      ]
     },
     "execution_count": 30,
     "metadata": {},
     "output_type": "execute_result"
    }
   ],
   "source": [
    "def function(a,b,c):\n",
    "    sum = 100\n",
    "    sum = sum + a * b / c\n",
    "    return sum\n",
    "\n",
    "function(100,300,200)"
   ]
  },
  {
   "cell_type": "code",
   "execution_count": 31,
   "id": "f1e3a88c",
   "metadata": {},
   "outputs": [
    {
     "name": "stdout",
     "output_type": "stream",
     "text": [
      "(12, 132, 216)\n"
     ]
    }
   ],
   "source": [
    "def func1(a,b,c):\n",
    "    a = a + 1\n",
    "    b = b + 2\n",
    "    c = c + 3\n",
    "    return a+b+c\n",
    "\n",
    "def func2(a,b,c):\n",
    "    a = a * 1\n",
    "    b = b * 2\n",
    "    c = c * 3 \n",
    "    return a,b,c\n",
    "\n",
    "print(func2(func1(1,2,3),func1(10,20,30),func1(11,22,33)))"
   ]
  },
  {
   "cell_type": "code",
   "execution_count": 32,
   "id": "33045d2d",
   "metadata": {},
   "outputs": [
    {
     "name": "stdout",
     "output_type": "stream",
     "text": [
      "{'name': 'Mike', 'sex': 'Male'}\n"
     ]
    }
   ],
   "source": [
    "def details(**kwargs): \n",
    "\n",
    "       print(kwargs)\n",
    "\n",
    "details(name=\"Mike\", sex=\"Male\")"
   ]
  },
  {
   "cell_type": "code",
   "execution_count": 33,
   "id": "0e8b6ed8",
   "metadata": {},
   "outputs": [
    {
     "ename": "TypeError",
     "evalue": "<lambda>() missing 1 required positional argument: 'y'",
     "output_type": "error",
     "traceback": [
      "\u001b[0;31m---------------------------------------------------------------------------\u001b[0m",
      "\u001b[0;31mTypeError\u001b[0m                                 Traceback (most recent call last)",
      "\u001b[0;32m<ipython-input-33-283ee67f0e25>\u001b[0m in \u001b[0;36m<module>\u001b[0;34m\u001b[0m\n\u001b[1;32m      1\u001b[0m \u001b[0mfunc\u001b[0m \u001b[0;34m=\u001b[0m \u001b[0;34m(\u001b[0m\u001b[0;32mlambda\u001b[0m \u001b[0mx\u001b[0m\u001b[0;34m,\u001b[0m \u001b[0my\u001b[0m\u001b[0;34m:\u001b[0m \u001b[0;34m(\u001b[0m\u001b[0mx\u001b[0m \u001b[0;34m**\u001b[0m \u001b[0my\u001b[0m\u001b[0;34m)\u001b[0m\u001b[0;34m)\u001b[0m\u001b[0;34m\u001b[0m\u001b[0;34m\u001b[0m\u001b[0m\n\u001b[0;32m----> 2\u001b[0;31m \u001b[0mfunc\u001b[0m\u001b[0;34m(\u001b[0m\u001b[0mfunc\u001b[0m\u001b[0;34m(\u001b[0m\u001b[0;36m2\u001b[0m\u001b[0;34m,\u001b[0m\u001b[0;36m2\u001b[0m\u001b[0;34m)\u001b[0m\u001b[0;34m)\u001b[0m\u001b[0;34m\u001b[0m\u001b[0;34m\u001b[0m\u001b[0m\n\u001b[0m",
      "\u001b[0;31mTypeError\u001b[0m: <lambda>() missing 1 required positional argument: 'y'"
     ]
    }
   ],
   "source": [
    "func = (lambda x, y: (x ** y))\n",
    "func(func(2,2))"
   ]
  },
  {
   "cell_type": "code",
   "execution_count": 34,
   "id": "7fafe033",
   "metadata": {},
   "outputs": [
    {
     "name": "stdout",
     "output_type": "stream",
     "text": [
      "18\n"
     ]
    }
   ],
   "source": [
    "a = lambda x, y: x*y\n",
    "print(a(2, 9))"
   ]
  },
  {
   "cell_type": "code",
   "execution_count": 35,
   "id": "548a2c5c",
   "metadata": {},
   "outputs": [
    {
     "name": "stdout",
     "output_type": "stream",
     "text": [
      "[0, 1, 2, 3, 4]\n",
      "<map object at 0x7fd94a97cf60>\n",
      "[1, 2, 5, 10, 17]\n"
     ]
    }
   ],
   "source": [
    "A= list(range(5))\n",
    "print(A)\n",
    "B = map(lambda x: (x * x)+1, A)\n",
    "print(B)\n",
    "print(list(B))"
   ]
  },
  {
   "cell_type": "code",
   "execution_count": 36,
   "id": "f8cb3966",
   "metadata": {},
   "outputs": [
    {
     "name": "stdout",
     "output_type": "stream",
     "text": [
      "[1, 4, 9, 16]\n"
     ]
    }
   ],
   "source": [
    "def calculateSquare(n):\n",
    "  return n*n\n",
    "numbers = (1, 2, 3, 4)\n",
    "result = list(map(calculateSquare, numbers))\n",
    "print(result)"
   ]
  },
  {
   "cell_type": "code",
   "execution_count": 37,
   "id": "334edaba",
   "metadata": {},
   "outputs": [
    {
     "name": "stdout",
     "output_type": "stream",
     "text": [
      "[6]\n"
     ]
    }
   ],
   "source": [
    "def filterdata(x):\n",
    "  if x>5:\n",
    "    return x\n",
    "\n",
    "result = filter(filterdata,(1,2,6))\n",
    "print(list(result))"
   ]
  },
  {
   "cell_type": "code",
   "execution_count": 38,
   "id": "3fe82b85",
   "metadata": {},
   "outputs": [
    {
     "data": {
      "text/plain": [
       "10.000000000000002"
      ]
     },
     "execution_count": 38,
     "metadata": {},
     "output_type": "execute_result"
    }
   ],
   "source": [
    "100000**(1/5)"
   ]
  },
  {
   "cell_type": "code",
   "execution_count": 40,
   "id": "e9995896",
   "metadata": {},
   "outputs": [
    {
     "data": {
      "text/plain": [
       "list"
      ]
     },
     "execution_count": 40,
     "metadata": {},
     "output_type": "execute_result"
    }
   ],
   "source": [
    "nums= [10,20,30,40,50,60,70,80,90,100]\n",
    "type(nums)"
   ]
  },
  {
   "cell_type": "code",
   "execution_count": 41,
   "id": "02d7f80a",
   "metadata": {},
   "outputs": [],
   "source": [
    "A= [10,20,30,40,50,60,70,80,90,100]\n",
    "B = {\"Alpha\", \"Beta\", \"Gamma\", \"Theta\", \"Lambda\"}\n",
    "C = [\"Alpha\", \"Beta\", \"Gamma\", \"Theta\", \"Lambda\"]"
   ]
  },
  {
   "cell_type": "code",
   "execution_count": 44,
   "id": "e679a789",
   "metadata": {},
   "outputs": [
    {
     "data": {
      "text/plain": [
       "32"
      ]
     },
     "execution_count": 44,
     "metadata": {},
     "output_type": "execute_result"
    }
   ],
   "source": [
    "Name =  \"Hello World! My Name is Jupyter!\"\n",
    "len(Name)"
   ]
  },
  {
   "cell_type": "code",
   "execution_count": 45,
   "id": "98b1d2dd",
   "metadata": {},
   "outputs": [
    {
     "name": "stdout",
     "output_type": "stream",
     "text": [
      "Watson\n"
     ]
    }
   ],
   "source": [
    "dict = {\"Sherlock\" : \"Holmes\", \"Dr.\" : \"Watson\"}\n",
    "print(dict[\"Dr.\"])"
   ]
  },
  {
   "cell_type": "code",
   "execution_count": 46,
   "id": "d4490779",
   "metadata": {},
   "outputs": [
    {
     "name": "stdout",
     "output_type": "stream",
     "text": [
      "[1, 3, 5, 7, 9]\n"
     ]
    }
   ],
   "source": [
    "ls = [1,2,3,4,5,6,7,8,9,10]\n",
    "ls_new = []\n",
    "for i in ls:\n",
    "  if i%2 != 0:\n",
    "    ls_new.append(i)\n",
    "print(ls_new)"
   ]
  },
  {
   "cell_type": "code",
   "execution_count": 47,
   "id": "ad26f32d",
   "metadata": {},
   "outputs": [
    {
     "name": "stdout",
     "output_type": "stream",
     "text": [
      "[2, 4, 6]\n"
     ]
    }
   ],
   "source": [
    "lambda_func = lambda x: x * 2\n",
    "numbers = [1, 2, 3]\n",
    "map_list = list(map(lambda_func, numbers))\n",
    "print(map_list)"
   ]
  },
  {
   "cell_type": "code",
   "execution_count": null,
   "id": "e1fd10dc",
   "metadata": {},
   "outputs": [],
   "source": []
  }
 ],
 "metadata": {
  "kernelspec": {
   "display_name": "Python 3",
   "language": "python",
   "name": "python3"
  },
  "language_info": {
   "codemirror_mode": {
    "name": "ipython",
    "version": 3
   },
   "file_extension": ".py",
   "mimetype": "text/x-python",
   "name": "python",
   "nbconvert_exporter": "python",
   "pygments_lexer": "ipython3",
   "version": "3.6.13"
  }
 },
 "nbformat": 4,
 "nbformat_minor": 5
}
