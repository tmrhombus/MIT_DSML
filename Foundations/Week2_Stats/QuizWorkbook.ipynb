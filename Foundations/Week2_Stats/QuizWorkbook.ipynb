{
 "cells": [
  {
   "cell_type": "code",
   "execution_count": 1,
   "id": "54d78217",
   "metadata": {},
   "outputs": [],
   "source": [
    "# import the important packages\n",
    "import pandas as pd  # library used for data manipulation and analysis\n",
    "import numpy as np  # library used for working with arrays\n",
    "import matplotlib.pyplot as plt  # library for plots and visualizations\n",
    "import seaborn as sns  # library for visualizations\n",
    "%matplotlib inline\n",
    "\n",
    "import scipy.stats as stats "
   ]
  },
  {
   "cell_type": "code",
   "execution_count": null,
   "id": "32efc710",
   "metadata": {},
   "outputs": [],
   "source": [
    "grades = pd.DataFrame()\n",
    "grades[\"Subject\"]= (\"Marks\", \"OutOf\", \"Mean\", \"StD\")\n",
    "grades[\"Physics\"]= (56.88, 80, 47.5, 12.3)\n",
    "grades[\"History\"]= (77.1, 100, 77, 8.2)\n",
    "grades[\"CS\"]= (35.55,50,33,7.3)"
   ]
  },
  {
   "cell_type": "code",
   "execution_count": null,
   "id": "3c972b64",
   "metadata": {},
   "outputs": [],
   "source": [
    "#print(grades.T)\n",
    "for subject in (\"Physics\",\"History\",\"CS\"):\n",
    "    z = (grades[subject][0] - grades[subject][2]) / grades[subject][3]\n",
    "    print(\"{}:  {} \".format(subject,z))"
   ]
  },
  {
   "cell_type": "markdown",
   "id": "ce5f2177",
   "metadata": {},
   "source": [
    "## -----------------------------------"
   ]
  },
  {
   "cell_type": "code",
   "execution_count": 2,
   "id": "93875659",
   "metadata": {},
   "outputs": [],
   "source": [
    "from scipy.stats import norm"
   ]
  },
  {
   "cell_type": "code",
   "execution_count": 4,
   "id": "4dfe5081",
   "metadata": {},
   "outputs": [],
   "source": [
    "# Employees\n",
    "mean = 55000\n",
    "std = 6200"
   ]
  },
  {
   "cell_type": "code",
   "execution_count": null,
   "id": "c984567e",
   "metadata": {
    "scrolled": true
   },
   "outputs": [],
   "source": [
    "density = pd.DataFrame()\n",
    "\n",
    "density[\"x\"]   = np.linspace(40000,80000,200)\n",
    "density[\"pdf\"] = norm.pdf( density[\"x\"], mean, std )\n",
    "\n",
    "fig, ax = plt.subplots()\n",
    "ax.plot(density[\"x\"], density[\"pdf\"])\n",
    "\n",
    "#print(density)"
   ]
  },
  {
   "cell_type": "markdown",
   "id": "f8e981e4",
   "metadata": {},
   "source": [
    "Find percentage of employees between 59000 and 67000"
   ]
  },
  {
   "cell_type": "code",
   "execution_count": 5,
   "id": "9436c7cc",
   "metadata": {},
   "outputs": [
    {
     "name": "stdout",
     "output_type": "stream",
     "text": [
      "0.23294586132016037\n"
     ]
    }
   ],
   "source": [
    "# up to 67000\n",
    "p_67 = norm.cdf(67000,mean,std)\n",
    "p_59 = norm.cdf(59000,mean,std)\n",
    "print(p_67-p_59)"
   ]
  },
  {
   "cell_type": "markdown",
   "id": "7abe3fdd",
   "metadata": {},
   "source": [
    "## -----------------------------------"
   ]
  },
  {
   "cell_type": "code",
   "execution_count": 7,
   "id": "e918a86d",
   "metadata": {},
   "outputs": [],
   "source": [
    "from scipy.stats import expon\n",
    "import numpy as np\n",
    "np.random.seed(1)\n",
    "exp_pop = expon.rvs(size=100000)\n",
    "n = 50\n",
    "sample_means = []\n",
    "for j in range(500):\n",
    " sample = np.random.choice(exp_pop, size = n)\n",
    " sample_mean = np.mean(sample)\n",
    " sample_means.append(sample_mean)"
   ]
  },
  {
   "cell_type": "markdown",
   "id": "37d2d0a6",
   "metadata": {},
   "source": [
    "## -----------------------------------"
   ]
  },
  {
   "cell_type": "markdown",
   "id": "078d2ff1",
   "metadata": {},
   "source": [
    "100 men, mean height = 180, variance = 36\n",
    "\n",
    "find 95% confidence interval for mean height"
   ]
  },
  {
   "cell_type": "code",
   "execution_count": 28,
   "id": "d157f2df",
   "metadata": {},
   "outputs": [],
   "source": [
    "from scipy.stats import t"
   ]
  },
  {
   "cell_type": "code",
   "execution_count": 31,
   "id": "bbd92a4d",
   "metadata": {},
   "outputs": [],
   "source": [
    "xbar, sigma2, n = 180, 36, 100\n",
    "sigma = np.sqrt(sigma2)"
   ]
  },
  {
   "cell_type": "code",
   "execution_count": 32,
   "id": "1d94ae3f",
   "metadata": {},
   "outputs": [
    {
     "name": "stdout",
     "output_type": "stream",
     "text": [
      "(178.82402160927597, 181.17597839072403)\n"
     ]
    }
   ],
   "source": [
    "print( norm.interval(0.95, loc=xbar, scale=sigma/np.sqrt(n)) )"
   ]
  },
  {
   "cell_type": "code",
   "execution_count": 33,
   "id": "407baa73",
   "metadata": {
    "scrolled": true
   },
   "outputs": [
    {
     "name": "stdout",
     "output_type": "stream",
     "text": [
      "(178.80946982909478, 181.19053017090522)\n"
     ]
    }
   ],
   "source": [
    "print( t.interval(0.95, df=n-1, loc=xbar, scale = sigma/np.sqrt(n)) )"
   ]
  },
  {
   "cell_type": "code",
   "execution_count": 34,
   "id": "8571ca38",
   "metadata": {},
   "outputs": [
    {
     "data": {
      "text/plain": [
       "array([178.824, 181.176])"
      ]
     },
     "execution_count": 34,
     "metadata": {},
     "output_type": "execute_result"
    }
   ],
   "source": [
    "np.round(norm.interval(0.95, loc = 180, scale = 6/np.sqrt(100)), 3)"
   ]
  },
  {
   "cell_type": "markdown",
   "id": "6cffa8f3",
   "metadata": {},
   "source": [
    "## -----------------------------------"
   ]
  },
  {
   "cell_type": "code",
   "execution_count": 20,
   "id": "94cb99bc",
   "metadata": {},
   "outputs": [],
   "source": [
    "# 100 apartments, avg rent=1000, pop std=200\n",
    "n, mean, std = 100, 1000, 200"
   ]
  },
  {
   "cell_type": "code",
   "execution_count": 21,
   "id": "f5349031",
   "metadata": {},
   "outputs": [
    {
     "name": "stdout",
     "output_type": "stream",
     "text": [
      "(960.8007203091989, 1039.1992796908012)\n"
     ]
    }
   ],
   "source": [
    "print( norm.interval(0.95, loc=mean, scale=std/np.sqrt(n))  )"
   ]
  },
  {
   "cell_type": "markdown",
   "id": "156d3642",
   "metadata": {},
   "source": [
    "## -----------------------------------"
   ]
  },
  {
   "cell_type": "markdown",
   "id": "ea33890a",
   "metadata": {},
   "source": [
    "A survey of females aged 16-60 years was conducted by the Department of Population Censuses (DPC), it was found that a sample of fifty female students has a mean height of 160.9 cm with a standard deviation of 6 cm.\n",
    "Determine the confidence interval of height with a confidence level of 95% and conclude whether their heights are typical to the general population."
   ]
  },
  {
   "cell_type": "code",
   "execution_count": 22,
   "id": "cd4adbfd",
   "metadata": {},
   "outputs": [],
   "source": [
    "n, mean, std = 50, 160.9, 6"
   ]
  },
  {
   "cell_type": "code",
   "execution_count": 26,
   "id": "397bef98",
   "metadata": {},
   "outputs": [
    {
     "name": "stdout",
     "output_type": "stream",
     "text": [
      "(159.19481886926576, 162.60518113073425)\n"
     ]
    }
   ],
   "source": [
    "print( t.interval(0.95, df=n-1, loc=mean, scale=std/np.sqrt(n)) )"
   ]
  },
  {
   "cell_type": "code",
   "execution_count": null,
   "id": "b56715be",
   "metadata": {},
   "outputs": [],
   "source": []
  }
 ],
 "metadata": {
  "kernelspec": {
   "display_name": "Python 3",
   "language": "python",
   "name": "python3"
  },
  "language_info": {
   "codemirror_mode": {
    "name": "ipython",
    "version": 3
   },
   "file_extension": ".py",
   "mimetype": "text/x-python",
   "name": "python",
   "nbconvert_exporter": "python",
   "pygments_lexer": "ipython3",
   "version": "3.6.13"
  }
 },
 "nbformat": 4,
 "nbformat_minor": 5
}
