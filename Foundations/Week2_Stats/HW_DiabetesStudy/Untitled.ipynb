{
 "cells": [
  {
   "cell_type": "code",
   "execution_count": 1,
   "id": "844be418",
   "metadata": {},
   "outputs": [],
   "source": [
    "import numpy as np\n",
    "import pandas as pd\n",
    "\n",
    "import seaborn as sns\n",
    "import matplotlib.pyplot as plt\n",
    "%matplotlib inline"
   ]
  },
  {
   "cell_type": "code",
   "execution_count": 2,
   "id": "47bd81eb",
   "metadata": {},
   "outputs": [],
   "source": [
    "n=100\n",
    "p=0.09\n",
    "k=np.arange(0,100)"
   ]
  },
  {
   "cell_type": "code",
   "execution_count": 3,
   "id": "abccacd6",
   "metadata": {},
   "outputs": [],
   "source": [
    "from scipy.stats import binom"
   ]
  },
  {
   "cell_type": "code",
   "execution_count": 4,
   "id": "3964f080",
   "metadata": {},
   "outputs": [],
   "source": [
    "binomial = binom.pmf(k=k,n=n, p=p)\n",
    "# print(binomial)"
   ]
  },
  {
   "cell_type": "code",
   "execution_count": 6,
   "id": "fdf9ab53",
   "metadata": {},
   "outputs": [
    {
     "data": {
      "text/plain": [
       "<BarContainer object of 100 artists>"
      ]
     },
     "execution_count": 6,
     "metadata": {},
     "output_type": "execute_result"
    },
    {
     "data": {
      "image/png": "[encoded data removed]",
      "text/plain": [
       "<Figure size 432x288 with 1 Axes>"
      ]
     },
     "metadata": {
      "needs_background": "light"
     },
     "output_type": "display_data"
    }
   ],
   "source": [
    "plt.bar(k,binomial)"
   ]
  },
  {
   "cell_type": "markdown",
   "id": "37e8c72e",
   "metadata": {},
   "source": [
    "---------------------------------"
   ]
  },
  {
   "cell_type": "code",
   "execution_count": 11,
   "id": "70a7c9da",
   "metadata": {},
   "outputs": [
    {
     "data": {
      "text/plain": [
       "0.8322169448845715"
      ]
     },
     "execution_count": 11,
     "metadata": {},
     "output_type": "execute_result"
    }
   ],
   "source": [
    "import scipy.stats as st\n",
    "import numpy as np\n",
    "1-st.norm.cdf(63,loc=65.6, scale=2.7)"
   ]
  },
  {
   "cell_type": "code",
   "execution_count": 12,
   "id": "cd08fc0d",
   "metadata": {},
   "outputs": [
    {
     "data": {
      "text/plain": [
       "0.5599999999999999"
      ]
     },
     "execution_count": 12,
     "metadata": {},
     "output_type": "execute_result"
    }
   ],
   "source": [
    "st.uniform.cdf(5.8,loc=3,scale=5)"
   ]
  },
  {
   "cell_type": "code",
   "execution_count": 13,
   "id": "875af43a",
   "metadata": {},
   "outputs": [
    {
     "data": {
      "text/plain": [
       "0.033806170189140665"
      ]
     },
     "execution_count": 13,
     "metadata": {},
     "output_type": "execute_result"
    }
   ],
   "source": [
    "0.2 / np.sqrt(35)"
   ]
  },
  {
   "cell_type": "code",
   "execution_count": 16,
   "id": "d4b28ca3",
   "metadata": {},
   "outputs": [],
   "source": [
    "from scipy.stats import norm\n",
    "mu = 502\n",
    "sigma = 115"
   ]
  },
  {
   "cell_type": "code",
   "execution_count": 27,
   "id": "4591f6eb",
   "metadata": {},
   "outputs": [],
   "source": [
    "prob_under590 = norm.cdf(590,mu,sigma)\n",
    "prob_under400 = norm.cdf(400,mu,sigma)"
   ]
  },
  {
   "cell_type": "code",
   "execution_count": 28,
   "id": "e252146b",
   "metadata": {},
   "outputs": [
    {
     "name": "stdout",
     "output_type": "stream",
     "text": [
      "0.7779289473324054\n",
      "0.18755115455350063\n",
      "0.5903777927789047\n"
     ]
    }
   ],
   "source": [
    "print(prob_under590)\n",
    "print(prob_under400)\n",
    "\n",
    "print(prob_under590-prob_under400)"
   ]
  },
  {
   "cell_type": "code",
   "execution_count": 29,
   "id": "51514be2",
   "metadata": {},
   "outputs": [
    {
     "data": {
      "text/plain": [
       "0.8322169448845715"
      ]
     },
     "execution_count": 29,
     "metadata": {},
     "output_type": "execute_result"
    }
   ],
   "source": [
    "1-st.norm.cdf(63,loc=65.6, scale=2.7)"
   ]
  },
  {
   "cell_type": "code",
   "execution_count": null,
   "id": "04e547c8",
   "metadata": {},
   "outputs": [],
   "source": []
  }
 ],
 "metadata": {
  "kernelspec": {
   "display_name": "Python 3",
   "language": "python",
   "name": "python3"
  },
  "language_info": {
   "codemirror_mode": {
    "name": "ipython",
    "version": 3
   },
   "file_extension": ".py",
   "mimetype": "text/x-python",
   "name": "python",
   "nbconvert_exporter": "python",
   "pygments_lexer": "ipython3",
   "version": "3.6.13"
  }
 },
 "nbformat": 4,
 "nbformat_minor": 5
}
