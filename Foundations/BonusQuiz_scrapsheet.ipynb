{
 "cells": [
  {
   "cell_type": "code",
   "execution_count": 35,
   "id": "7040302d",
   "metadata": {},
   "outputs": [
    {
     "name": "stdout",
     "output_type": "stream",
     "text": [
      "1\n"
     ]
    }
   ],
   "source": [
    "print(8//6)"
   ]
  },
  {
   "cell_type": "code",
   "execution_count": 36,
   "id": "bd470976",
   "metadata": {},
   "outputs": [],
   "source": [
    "a = [\"a\", \"b\", \"c\"]\n",
    "b = \"Hello\"\n",
    "a.extend(b)"
   ]
  },
  {
   "cell_type": "code",
   "execution_count": 37,
   "id": "edd8b322",
   "metadata": {},
   "outputs": [
    {
     "name": "stdout",
     "output_type": "stream",
     "text": [
      "['a', 'b', 'c', 'H', 'e', 'l', 'l', 'o']\n"
     ]
    }
   ],
   "source": [
    "print(a)"
   ]
  },
  {
   "cell_type": "code",
   "execution_count": 11,
   "id": "aa153f9f",
   "metadata": {},
   "outputs": [],
   "source": [
    "mylist = [1, 2, 3, 4, 5, 6, 7, 8, 9,10]"
   ]
  },
  {
   "cell_type": "code",
   "execution_count": 39,
   "id": "c47420f3",
   "metadata": {},
   "outputs": [
    {
     "name": "stdout",
     "output_type": "stream",
     "text": [
      "[1, 3, 5, 7, 9]\n"
     ]
    }
   ],
   "source": [
    "print( mylist[::2] )"
   ]
  },
  {
   "cell_type": "code",
   "execution_count": 13,
   "id": "8cc92abe",
   "metadata": {},
   "outputs": [],
   "source": [
    "Employee = {1: {'Name': 'John', 'Age': '35', 'Gender': 'Male'}, 2: {'Name': 'Mike', 'Age': '22', 'Gender': 'Male'}}"
   ]
  },
  {
   "cell_type": "code",
   "execution_count": 17,
   "id": "32496302",
   "metadata": {},
   "outputs": [
    {
     "data": {
      "text/plain": [
       "'35'"
      ]
     },
     "execution_count": 17,
     "metadata": {},
     "output_type": "execute_result"
    }
   ],
   "source": [
    "Employee[1]['Age']"
   ]
  },
  {
   "cell_type": "code",
   "execution_count": 18,
   "id": "d6349ef2",
   "metadata": {},
   "outputs": [
    {
     "data": {
      "text/plain": [
       "{'Name': 'John', 'Age': '35', 'Gender': 'Male'}"
      ]
     },
     "execution_count": 18,
     "metadata": {},
     "output_type": "execute_result"
    }
   ],
   "source": [
    "Employee[1]"
   ]
  },
  {
   "cell_type": "code",
   "execution_count": 40,
   "id": "59db263b",
   "metadata": {},
   "outputs": [
    {
     "name": "stdout",
     "output_type": "stream",
     "text": [
      "15\n"
     ]
    }
   ],
   "source": [
    "var = 10\n",
    "for i in range(5):\n",
    "    for j in range(2, 5, 1):\n",
    "        if var % 2 == 0:\n",
    "            continue\n",
    "            var += 1\n",
    "    var+=1\n",
    "print(var)"
   ]
  },
  {
   "cell_type": "code",
   "execution_count": 20,
   "id": "d85b7baf",
   "metadata": {},
   "outputs": [],
   "source": [
    "func=lambda x:bool(x%2)"
   ]
  },
  {
   "cell_type": "code",
   "execution_count": 22,
   "id": "8b756d08",
   "metadata": {},
   "outputs": [
    {
     "name": "stdout",
     "output_type": "stream",
     "text": [
      "False True\n"
     ]
    }
   ],
   "source": [
    "print( func(10),func(21) )"
   ]
  },
  {
   "cell_type": "code",
   "execution_count": 23,
   "id": "48a08a45",
   "metadata": {},
   "outputs": [],
   "source": [
    " def f(x):\n",
    "    def f1(*args, **kwargs):\n",
    "           print(\"Hello\")\n",
    "           return x(*args, **kwargs)\n",
    "    return f1"
   ]
  },
  {
   "cell_type": "code",
   "execution_count": 32,
   "id": "1124f0fe",
   "metadata": {},
   "outputs": [],
   "source": [
    "h=f([1,\"g\",3,\"a\",\"m\"])\n",
    "#h=f(1,bob=2,tom=3,kat=4,man=5)"
   ]
  },
  {
   "cell_type": "code",
   "execution_count": 33,
   "id": "883303bc",
   "metadata": {},
   "outputs": [
    {
     "name": "stdout",
     "output_type": "stream",
     "text": [
      "<function f.<locals>.f1 at 0x7fdd0ab0a598>\n"
     ]
    }
   ],
   "source": [
    "print(h)"
   ]
  },
  {
   "cell_type": "markdown",
   "id": "38560072",
   "metadata": {},
   "source": [
    "----------------------------------"
   ]
  },
  {
   "cell_type": "code",
   "execution_count": 2,
   "id": "d522f4be",
   "metadata": {},
   "outputs": [],
   "source": [
    "# import the important packages\n",
    "import pandas as pd  # library used for data manipulation and analysis\n",
    "import numpy as np  # library used for working with arrays\n",
    "import matplotlib.pyplot as plt  # library for plots and visualizations\n",
    "import seaborn as sns  # library for visualizations\n",
    "%matplotlib inline\n",
    "\n",
    "import scipy.stats as stats  # this library contains a large number of probability distributions as well as a growing library of statistical functions"
   ]
  },
  {
   "cell_type": "code",
   "execution_count": 3,
   "id": "90a05a3f",
   "metadata": {},
   "outputs": [],
   "source": [
    "mylist = pd.DataFrame([48, 50, 54, 54, 58, 60])"
   ]
  },
  {
   "cell_type": "code",
   "execution_count": 5,
   "id": "f4466463",
   "metadata": {},
   "outputs": [
    {
     "name": "stdout",
     "output_type": "stream",
     "text": [
      "0    54.0\n",
      "dtype: float64\n",
      "0    54.0\n",
      "dtype: float64\n",
      "    0\n",
      "0  54\n"
     ]
    }
   ],
   "source": [
    "print(mylist.mean())\n",
    "print(mylist.median())\n",
    "print(mylist.mode())"
   ]
  },
  {
   "cell_type": "code",
   "execution_count": 6,
   "id": "fc752d0d",
   "metadata": {},
   "outputs": [
    {
     "name": "stdout",
     "output_type": "stream",
     "text": [
      "21\n"
     ]
    }
   ],
   "source": [
    "print(8+7+6)"
   ]
  },
  {
   "cell_type": "code",
   "execution_count": 7,
   "id": "aba04e9d",
   "metadata": {},
   "outputs": [
    {
     "name": "stdout",
     "output_type": "stream",
     "text": [
      "3.0\n"
     ]
    }
   ],
   "source": [
    "print(21/7)"
   ]
  },
  {
   "cell_type": "code",
   "execution_count": 8,
   "id": "e4e54d13",
   "metadata": {},
   "outputs": [
    {
     "name": "stdout",
     "output_type": "stream",
     "text": [
      "324\n"
     ]
    }
   ],
   "source": [
    "print(48+50+54+54+58+60)"
   ]
  },
  {
   "cell_type": "code",
   "execution_count": 9,
   "id": "11018371",
   "metadata": {},
   "outputs": [
    {
     "name": "stdout",
     "output_type": "stream",
     "text": [
      "54.0\n"
     ]
    }
   ],
   "source": [
    "print(324/6)"
   ]
  },
  {
   "cell_type": "code",
   "execution_count": null,
   "id": "a19250d5",
   "metadata": {},
   "outputs": [],
   "source": []
  }
 ],
 "metadata": {
  "kernelspec": {
   "display_name": "Python 3",
   "language": "python",
   "name": "python3"
  },
  "language_info": {
   "codemirror_mode": {
    "name": "ipython",
    "version": 3
   },
   "file_extension": ".py",
   "mimetype": "text/x-python",
   "name": "python",
   "nbconvert_exporter": "python",
   "pygments_lexer": "ipython3",
   "version": "3.6.13"
  }
 },
 "nbformat": 4,
 "nbformat_minor": 5
}
